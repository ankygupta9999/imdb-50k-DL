{
  "nbformat": 4,
  "nbformat_minor": 5,
  "metadata": {
    "kernelspec": {
      "display_name": "Python 3",
      "language": "python",
      "name": "python3"
    },
    "language_info": {
      "codemirror_mode": {
        "name": "ipython",
        "version": 3
      },
      "file_extension": ".py",
      "mimetype": "text/x-python",
      "name": "python",
      "nbconvert_exporter": "python",
      "pygments_lexer": "ipython3",
      "version": "3.8.5"
    },
    "colab": {
      "name": "Assignment1_part1.ipynb",
      "provenance": [],
      "collapsed_sections": []
    },
    "accelerator": "GPU"
  },
  "cells": [
    {
      "cell_type": "markdown",
      "metadata": {
        "id": "2523b91b"
      },
      "source": [
        "**1. Import Libraries/ Dataset**\n",
        "\n",
        "a. Import the required libraries and the dataset (use Google Drive if required).\n",
        "\n",
        "b. Check the GPU available (recommended- use free GPU provided by Google Colab)."
      ],
      "id": "2523b91b"
    },
    {
      "cell_type": "code",
      "metadata": {
        "colab": {
          "base_uri": "https://localhost:8080/"
        },
        "id": "d1fdfff8",
        "outputId": "e0840aed-5d9c-4ff9-b036-e393216fabd1"
      },
      "source": [
        "import tensorflow as tf\n",
        "import tensorflow_datasets as tfds\n",
        "import numpy as np\n",
        "from tensorflow import keras\n",
        "\n",
        "print(tf.__version__)"
      ],
      "id": "d1fdfff8",
      "execution_count": 16,
      "outputs": [
        {
          "output_type": "stream",
          "text": [
            "2.4.1\n"
          ],
          "name": "stdout"
        }
      ]
    },
    {
      "cell_type": "code",
      "metadata": {
        "colab": {
          "base_uri": "https://localhost:8080/"
        },
        "id": "8b17c015",
        "outputId": "41b1a11b-1152-4d70-ef96-e8e63b94bb0b"
      },
      "source": [
        "# copy dataset\n",
        "!wget --no-check-certificate \\\n",
        "  https://s3.amazonaws.com/fast-ai-imageclas/imagenette2-160.tgz \\\n",
        "  -O /tmp/imagenette2-160.tgz"
      ],
      "id": "8b17c015",
      "execution_count": 17,
      "outputs": [
        {
          "output_type": "stream",
          "text": [
            "--2021-05-23 10:50:41--  https://s3.amazonaws.com/fast-ai-imageclas/imagenette2-160.tgz\n",
            "Resolving s3.amazonaws.com (s3.amazonaws.com)... 52.216.230.213\n",
            "Connecting to s3.amazonaws.com (s3.amazonaws.com)|52.216.230.213|:443... connected.\n",
            "HTTP request sent, awaiting response... 200 OK\n",
            "Length: 99003388 (94M) [application/x-tar]\n",
            "Saving to: ‘/tmp/imagenette2-160.tgz’\n",
            "\n",
            "/tmp/imagenette2-16 100%[===================>]  94.42M  15.7MB/s    in 7.3s    \n",
            "\n",
            "2021-05-23 10:50:49 (12.9 MB/s) - ‘/tmp/imagenette2-160.tgz’ saved [99003388/99003388]\n",
            "\n"
          ],
          "name": "stdout"
        }
      ]
    },
    {
      "cell_type": "code",
      "metadata": {
        "id": "31114312"
      },
      "source": [
        "import os\n",
        "import tarfile\n",
        "\n",
        "# open file\n",
        "file = tarfile.open('/tmp/imagenette2-160.tgz')\n",
        "  \n",
        "# extract file\n",
        "file.extractall('/tmp')\n",
        "\n",
        "#close file\n",
        "file.close()"
      ],
      "id": "31114312",
      "execution_count": 18,
      "outputs": []
    },
    {
      "cell_type": "code",
      "metadata": {
        "id": "29c8037b"
      },
      "source": [
        "# set directories\n",
        "base_dir = '/tmp/imagenette2-160'\n",
        "train_dir = os.path.join(base_dir, 'train')\n",
        "val_dir = os.path.join(base_dir, 'val')"
      ],
      "id": "29c8037b",
      "execution_count": 19,
      "outputs": []
    },
    {
      "cell_type": "markdown",
      "metadata": {
        "id": "7a748f89"
      },
      "source": [
        "**2. Data Visualization and Augmentation**\n",
        "\n",
        "a. Plot at least two samples from each class of the dataset (use matplotlib/seaborn/any other library).\n",
        "\n",
        "b. Apply rotation and height shift augmentation (rotation_range, height_shift_range) to the dataset separately. Print the augmented image and the original image for each class and each augmentation.\n",
        "\n",
        "c. Bring the train and test data in the required format.\n",
        "\n",
        "d. Print the shapes of train and test data.\n",
        "\n"
      ],
      "id": "7a748f89"
    },
    {
      "cell_type": "code",
      "metadata": {
        "colab": {
          "base_uri": "https://localhost:8080/"
        },
        "id": "e128e9b0",
        "outputId": "00dbd7ca-b530-486c-99c9-9fe69be3b47b"
      },
      "source": [
        "import keras_preprocessing\n",
        "from keras_preprocessing import image\n",
        "from keras_preprocessing.image import ImageDataGenerator\n",
        "\n",
        "# set image and batch size\n",
        "num_img_rows=75 # image height, actual=213\n",
        "num_img_cols=75 # image width, actual=160\n",
        "num_color_channels=3\n",
        "num_batch_size=100\n",
        "\n",
        "train_datagen = ImageDataGenerator(\n",
        "                  rescale=1.0/255.0,\n",
        "                  rotation_range=40,\n",
        "                  height_shift_range=0.2,\n",
        "                  fill_mode='nearest'\n",
        "                )\n",
        "\n",
        "val_datagen = ImageDataGenerator(\n",
        "                rescale=1.0/255.0\n",
        "              )\n",
        "\n",
        "train_generator = train_datagen.flow_from_directory(\n",
        "                    train_dir,\n",
        "                    batch_size=num_batch_size,\n",
        "                    target_size=(num_img_rows, num_img_cols),\n",
        "                    class_mode='categorical'\n",
        "                  )\n",
        "\n",
        "val_generator = val_datagen.flow_from_directory(\n",
        "                  val_dir,\n",
        "                  batch_size=num_batch_size,\n",
        "                  target_size=(num_img_rows, num_img_cols),\n",
        "                  class_mode='categorical'\n",
        "                )\n",
        "\n",
        "# print shape of training data after transformation\n",
        "for train_image_batch, train_labels_batch in train_generator:\n",
        "  print('Training image batch shape, after transformation:', train_image_batch.shape)\n",
        "  print('Training label batch shape, after transformation:', train_labels_batch.shape)\n",
        "  break\n",
        "\n",
        "# print shape of test data after transformation\n",
        "for val_image_batch, val_labels_batch in val_generator:\n",
        "  print('Validation image batch shape, after transformation:', val_image_batch.shape)\n",
        "  print('Validation label batch shape, after transformation:', val_labels_batch.shape)\n",
        "  break"
      ],
      "id": "e128e9b0",
      "execution_count": 20,
      "outputs": [
        {
          "output_type": "stream",
          "text": [
            "Found 9469 images belonging to 10 classes.\n",
            "Found 3925 images belonging to 10 classes.\n",
            "Training image batch shape, after transformation: (100, 75, 75, 3)\n",
            "Training label batch shape, after transformation: (100, 10)\n",
            "Validation image batch shape, after transformation: (100, 75, 75, 3)\n",
            "Validation label batch shape, after transformation: (100, 10)\n"
          ],
          "name": "stdout"
        }
      ]
    },
    {
      "cell_type": "markdown",
      "metadata": {
        "id": "841a8e6c"
      },
      "source": [
        "**3. Model Building**\n",
        "\n",
        "a. Sequential Model layers- Use AT LEAST 3 hidden layers with appropriate input for each. Choose the best number for hidden units and give reasons.\n",
        "\n",
        "b. Add L2 regularization to all the layers.\n",
        "\n",
        "c. Add one layer of dropout at the appropriate position and give reasons.\n",
        "\n",
        "d. Choose the appropriate activation function for all the layers.\n",
        "\n",
        "e. Print the model summary."
      ],
      "id": "841a8e6c"
    },
    {
      "cell_type": "code",
      "metadata": {
        "id": "e693a557"
      },
      "source": [
        "from tensorflow.keras import layers\n",
        "from tensorflow.keras import Model\n",
        "from tensorflow.keras.optimizers import RMSprop\n",
        "from tensorflow.keras import regularizers\n",
        "\n",
        "# set model parameters\n",
        "num_epochs=50\n",
        "num_steps_per_epoch=95 # total training images/ batch size = 9465/100\n",
        "num_val_steps=40 # total validation images/ batch size = 3925/100\n",
        "num_dropout=0.2\n",
        "num_l2_reg_penalty=0.0001\n",
        "num_lr=1e-4\n",
        "opt = RMSprop(lr=num_lr)\n",
        "str_loss = 'categorical_crossentropy'\n",
        "\n",
        "# build model\n",
        "model = tf.keras.models.Sequential([\n",
        "          # Flatten input\n",
        "          tf.keras.layers.Flatten(input_shape=(num_img_rows,num_img_cols, num_color_channels)),\n",
        "          # Layer 1 = input layer with regularization\n",
        "          tf.keras.layers.Dense(1024, activation='relu', kernel_regularizer=tf.keras.regularizers.l2(num_l2_reg_penalty)),\n",
        "          # Add dropout\n",
        "          tf.keras.layers.Dropout(num_dropout),\n",
        "          # Layer 2 = hidden layer with regularization\n",
        "          tf.keras.layers.Dense(512, activation='relu', kernel_regularizer=tf.keras.regularizers.l2(num_l2_reg_penalty)),\n",
        "          # Layer 3 = hidden layer with regularization\n",
        "          tf.keras.layers.Dense(256, activation='relu', kernel_regularizer=tf.keras.regularizers.l2(num_l2_reg_penalty)),\n",
        "          # Layer 4 = hidden layer with regularization\n",
        "          tf.keras.layers.Dense(128, activation='relu', kernel_regularizer=tf.keras.regularizers.l2(num_l2_reg_penalty)),\n",
        "          # Layer 5 = output layer with regularization\n",
        "          tf.keras.layers.Dense(10, activation='softmax', kernel_regularizer=tf.keras.regularizers.l2(num_l2_reg_penalty)),\n",
        "        ])"
      ],
      "id": "e693a557",
      "execution_count": 21,
      "outputs": []
    },
    {
      "cell_type": "markdown",
      "metadata": {
        "id": "f82446be"
      },
      "source": [
        "**4. Model Compilation**\n",
        "\n",
        "a. Compile the model with the appropriate loss function.\n",
        "\n",
        "b. Use an appropriate optimizer. Give reasons for the choice of learning rate and its value.\n",
        "\n",
        "c. Use accuracy as a metric.\n",
        "\n",
        "**To be done:**\n",
        "\n",
        "Give reasons for the choice of learning rate and its value. \n"
      ],
      "id": "f82446be"
    },
    {
      "cell_type": "code",
      "metadata": {
        "id": "8e285b58"
      },
      "source": [
        "# compile model\n",
        "model.compile(loss=str_loss,\n",
        "              optimizer=opt,\n",
        "              metrics=['accuracy']\n",
        "             )"
      ],
      "id": "8e285b58",
      "execution_count": 22,
      "outputs": []
    },
    {
      "cell_type": "markdown",
      "metadata": {
        "id": "2dff9623"
      },
      "source": [
        "**5. Model Training**\n",
        "\n",
        "a. Train the model for an appropriate number of epochs. Print the train and validation accuracy and loss for each epoch. Use the appropriate batch size.\n",
        "\n",
        "b. Plot the loss and accuracy history graphs for both train and validation set. Print the total time taken for training."
      ],
      "id": "2dff9623"
    },
    {
      "cell_type": "code",
      "metadata": {
        "scrolled": true,
        "colab": {
          "base_uri": "https://localhost:8080/"
        },
        "id": "34b4f3cd",
        "outputId": "2c650a34-e5e4-495e-fba0-0fb3a097ce8c"
      },
      "source": [
        "from timeit import default_timer as timer\n",
        "\n",
        "# timing callback class\n",
        "class TimingCallback(keras.callbacks.Callback):\n",
        "    def __init__(self, logs={}):\n",
        "        self.logs=[]\n",
        "    def on_epoch_begin(self, epoch, logs={}):\n",
        "        self.starttime = timer()\n",
        "    def on_epoch_end(self, epoch, logs={}):\n",
        "        self.logs.append(timer()-self.starttime)\n",
        "\n",
        "# timing callback\n",
        "timing = TimingCallback()\n",
        "\n",
        "# train model\n",
        "history = model.fit(\n",
        "            train_generator,\n",
        "            epochs=num_epochs,\n",
        "            steps_per_epoch=num_steps_per_epoch,\n",
        "            validation_data=val_generator,\n",
        "            validation_steps=num_val_steps,\n",
        "            verbose=1,\n",
        "            callbacks=[timing]\n",
        "          )\n",
        "\n",
        "# show model summary\n",
        "model.summary()\n",
        "\n",
        "# total training time\n",
        "print('\\n', 'Total time taken for training: {:.2f}'.format(sum(timing.logs)), 'seconds', '\\n')\n",
        "\n",
        "# save model\n",
        "#model.save(\"vision.h5\")"
      ],
      "id": "34b4f3cd",
      "execution_count": 23,
      "outputs": [
        {
          "output_type": "stream",
          "text": [
            "Epoch 1/50\n",
            "95/95 [==============================] - 29s 299ms/step - loss: 2.7042 - accuracy: 0.1422 - val_loss: 2.4232 - val_accuracy: 0.2173\n",
            "Epoch 2/50\n",
            "95/95 [==============================] - 28s 295ms/step - loss: 2.4043 - accuracy: 0.2254 - val_loss: 2.2602 - val_accuracy: 0.2642\n",
            "Epoch 3/50\n",
            "95/95 [==============================] - 28s 293ms/step - loss: 2.2613 - accuracy: 0.2520 - val_loss: 2.2104 - val_accuracy: 0.2471\n",
            "Epoch 4/50\n",
            "95/95 [==============================] - 28s 296ms/step - loss: 2.1718 - accuracy: 0.2827 - val_loss: 2.0858 - val_accuracy: 0.3238\n",
            "Epoch 5/50\n",
            "95/95 [==============================] - 28s 293ms/step - loss: 2.1417 - accuracy: 0.2836 - val_loss: 2.0014 - val_accuracy: 0.3417\n",
            "Epoch 6/50\n",
            "95/95 [==============================] - 28s 295ms/step - loss: 2.1046 - accuracy: 0.3048 - val_loss: 2.0159 - val_accuracy: 0.3432\n",
            "Epoch 7/50\n",
            "95/95 [==============================] - 28s 293ms/step - loss: 2.0766 - accuracy: 0.3177 - val_loss: 1.9900 - val_accuracy: 0.3580\n",
            "Epoch 8/50\n",
            "95/95 [==============================] - 28s 295ms/step - loss: 2.0531 - accuracy: 0.3233 - val_loss: 1.9639 - val_accuracy: 0.3659\n",
            "Epoch 9/50\n",
            "95/95 [==============================] - 28s 295ms/step - loss: 2.0276 - accuracy: 0.3251 - val_loss: 1.9180 - val_accuracy: 0.3776\n",
            "Epoch 10/50\n",
            "95/95 [==============================] - 28s 297ms/step - loss: 2.0262 - accuracy: 0.3306 - val_loss: 1.9688 - val_accuracy: 0.3480\n",
            "Epoch 11/50\n",
            "95/95 [==============================] - 28s 297ms/step - loss: 2.0061 - accuracy: 0.3435 - val_loss: 1.9063 - val_accuracy: 0.3911\n",
            "Epoch 12/50\n",
            "95/95 [==============================] - 28s 293ms/step - loss: 1.9783 - accuracy: 0.3531 - val_loss: 1.8722 - val_accuracy: 0.4020\n",
            "Epoch 13/50\n",
            "95/95 [==============================] - 28s 293ms/step - loss: 1.9734 - accuracy: 0.3554 - val_loss: 1.9123 - val_accuracy: 0.3761\n",
            "Epoch 14/50\n",
            "95/95 [==============================] - 28s 293ms/step - loss: 1.9636 - accuracy: 0.3464 - val_loss: 1.8765 - val_accuracy: 0.3990\n",
            "Epoch 15/50\n",
            "95/95 [==============================] - 28s 294ms/step - loss: 1.9328 - accuracy: 0.3652 - val_loss: 1.8438 - val_accuracy: 0.4066\n",
            "Epoch 16/50\n",
            "95/95 [==============================] - 28s 294ms/step - loss: 1.9412 - accuracy: 0.3653 - val_loss: 1.8918 - val_accuracy: 0.3778\n",
            "Epoch 17/50\n",
            "95/95 [==============================] - 28s 291ms/step - loss: 1.9156 - accuracy: 0.3656 - val_loss: 1.8535 - val_accuracy: 0.3975\n",
            "Epoch 18/50\n",
            "95/95 [==============================] - 28s 292ms/step - loss: 1.9002 - accuracy: 0.3863 - val_loss: 1.8900 - val_accuracy: 0.3694\n",
            "Epoch 19/50\n",
            "95/95 [==============================] - 28s 292ms/step - loss: 1.8779 - accuracy: 0.3848 - val_loss: 1.8463 - val_accuracy: 0.4074\n",
            "Epoch 20/50\n",
            "95/95 [==============================] - 28s 294ms/step - loss: 1.9022 - accuracy: 0.3778 - val_loss: 1.8915 - val_accuracy: 0.3806\n",
            "Epoch 21/50\n",
            "95/95 [==============================] - 28s 292ms/step - loss: 1.8839 - accuracy: 0.3821 - val_loss: 1.8419 - val_accuracy: 0.3992\n",
            "Epoch 22/50\n",
            "95/95 [==============================] - 28s 292ms/step - loss: 1.8809 - accuracy: 0.3964 - val_loss: 1.8053 - val_accuracy: 0.4217\n",
            "Epoch 23/50\n",
            "95/95 [==============================] - 28s 291ms/step - loss: 1.8833 - accuracy: 0.3880 - val_loss: 1.8467 - val_accuracy: 0.3995\n",
            "Epoch 24/50\n",
            "95/95 [==============================] - 28s 290ms/step - loss: 1.8719 - accuracy: 0.3949 - val_loss: 1.8198 - val_accuracy: 0.4145\n",
            "Epoch 25/50\n",
            "95/95 [==============================] - 28s 293ms/step - loss: 1.8575 - accuracy: 0.3851 - val_loss: 1.8172 - val_accuracy: 0.4079\n",
            "Epoch 26/50\n",
            "95/95 [==============================] - 28s 291ms/step - loss: 1.8525 - accuracy: 0.3891 - val_loss: 1.8305 - val_accuracy: 0.4031\n",
            "Epoch 27/50\n",
            "95/95 [==============================] - 28s 292ms/step - loss: 1.8499 - accuracy: 0.3917 - val_loss: 1.7973 - val_accuracy: 0.4166\n",
            "Epoch 28/50\n",
            "95/95 [==============================] - 28s 293ms/step - loss: 1.8559 - accuracy: 0.3965 - val_loss: 1.7952 - val_accuracy: 0.4191\n",
            "Epoch 29/50\n",
            "95/95 [==============================] - 28s 296ms/step - loss: 1.8252 - accuracy: 0.4113 - val_loss: 1.7912 - val_accuracy: 0.4217\n",
            "Epoch 30/50\n",
            "95/95 [==============================] - 28s 292ms/step - loss: 1.8345 - accuracy: 0.4059 - val_loss: 1.7855 - val_accuracy: 0.4158\n",
            "Epoch 31/50\n",
            "95/95 [==============================] - 28s 294ms/step - loss: 1.8208 - accuracy: 0.4065 - val_loss: 1.8030 - val_accuracy: 0.4115\n",
            "Epoch 32/50\n",
            "95/95 [==============================] - 28s 297ms/step - loss: 1.8112 - accuracy: 0.4094 - val_loss: 1.7725 - val_accuracy: 0.4252\n",
            "Epoch 33/50\n",
            "95/95 [==============================] - 28s 297ms/step - loss: 1.8089 - accuracy: 0.4145 - val_loss: 1.7687 - val_accuracy: 0.4260\n",
            "Epoch 34/50\n",
            "95/95 [==============================] - 28s 296ms/step - loss: 1.7914 - accuracy: 0.4166 - val_loss: 1.8129 - val_accuracy: 0.4074\n",
            "Epoch 35/50\n",
            "95/95 [==============================] - 28s 294ms/step - loss: 1.8015 - accuracy: 0.4049 - val_loss: 1.7738 - val_accuracy: 0.4217\n",
            "Epoch 36/50\n",
            "95/95 [==============================] - 28s 291ms/step - loss: 1.8044 - accuracy: 0.4017 - val_loss: 1.7673 - val_accuracy: 0.4262\n",
            "Epoch 37/50\n",
            "95/95 [==============================] - 28s 290ms/step - loss: 1.7795 - accuracy: 0.4166 - val_loss: 1.7550 - val_accuracy: 0.4311\n",
            "Epoch 38/50\n",
            "95/95 [==============================] - 28s 290ms/step - loss: 1.8060 - accuracy: 0.4120 - val_loss: 1.7670 - val_accuracy: 0.4265\n",
            "Epoch 39/50\n",
            "95/95 [==============================] - 28s 295ms/step - loss: 1.8115 - accuracy: 0.4097 - val_loss: 1.7357 - val_accuracy: 0.4387\n",
            "Epoch 40/50\n",
            "95/95 [==============================] - 29s 302ms/step - loss: 1.7825 - accuracy: 0.4124 - val_loss: 1.7418 - val_accuracy: 0.4326\n",
            "Epoch 41/50\n",
            "95/95 [==============================] - 28s 299ms/step - loss: 1.7781 - accuracy: 0.4216 - val_loss: 1.7445 - val_accuracy: 0.4349\n",
            "Epoch 42/50\n",
            "95/95 [==============================] - 28s 299ms/step - loss: 1.7695 - accuracy: 0.4217 - val_loss: 1.7432 - val_accuracy: 0.4436\n",
            "Epoch 43/50\n",
            "95/95 [==============================] - 28s 299ms/step - loss: 1.7623 - accuracy: 0.4248 - val_loss: 1.7350 - val_accuracy: 0.4420\n",
            "Epoch 44/50\n",
            "95/95 [==============================] - 28s 299ms/step - loss: 1.7701 - accuracy: 0.4279 - val_loss: 1.7674 - val_accuracy: 0.4288\n",
            "Epoch 45/50\n",
            "95/95 [==============================] - 28s 297ms/step - loss: 1.7546 - accuracy: 0.4265 - val_loss: 1.7440 - val_accuracy: 0.4318\n",
            "Epoch 46/50\n",
            "95/95 [==============================] - 28s 296ms/step - loss: 1.7500 - accuracy: 0.4198 - val_loss: 1.7415 - val_accuracy: 0.4357\n",
            "Epoch 47/50\n",
            "95/95 [==============================] - 28s 296ms/step - loss: 1.7542 - accuracy: 0.4286 - val_loss: 1.7499 - val_accuracy: 0.4425\n",
            "Epoch 48/50\n",
            "95/95 [==============================] - 28s 298ms/step - loss: 1.7564 - accuracy: 0.4264 - val_loss: 1.7672 - val_accuracy: 0.4321\n",
            "Epoch 49/50\n",
            "95/95 [==============================] - 28s 300ms/step - loss: 1.7334 - accuracy: 0.4273 - val_loss: 1.7475 - val_accuracy: 0.4283\n",
            "Epoch 50/50\n",
            "95/95 [==============================] - 28s 299ms/step - loss: 1.7489 - accuracy: 0.4275 - val_loss: 1.7497 - val_accuracy: 0.4367\n",
            "Model: \"sequential_2\"\n",
            "_________________________________________________________________\n",
            "Layer (type)                 Output Shape              Param #   \n",
            "=================================================================\n",
            "flatten_2 (Flatten)          (None, 16875)             0         \n",
            "_________________________________________________________________\n",
            "dense_10 (Dense)             (None, 1024)              17281024  \n",
            "_________________________________________________________________\n",
            "dropout_2 (Dropout)          (None, 1024)              0         \n",
            "_________________________________________________________________\n",
            "dense_11 (Dense)             (None, 512)               524800    \n",
            "_________________________________________________________________\n",
            "dense_12 (Dense)             (None, 256)               131328    \n",
            "_________________________________________________________________\n",
            "dense_13 (Dense)             (None, 128)               32896     \n",
            "_________________________________________________________________\n",
            "dense_14 (Dense)             (None, 10)                1290      \n",
            "=================================================================\n",
            "Total params: 17,971,338\n",
            "Trainable params: 17,971,338\n",
            "Non-trainable params: 0\n",
            "_________________________________________________________________\n",
            "\n",
            " Total time taken for training: 1399.71 seconds \n",
            "\n"
          ],
          "name": "stdout"
        }
      ]
    },
    {
      "cell_type": "code",
      "metadata": {
        "scrolled": true,
        "colab": {
          "base_uri": "https://localhost:8080/",
          "height": 590
        },
        "id": "f6abeac2",
        "outputId": "75602cfe-69a0-4dd5-c9e1-0dcef362d87d"
      },
      "source": [
        "import matplotlib.pyplot as plt\n",
        "\n",
        "acc = history.history['accuracy']\n",
        "val_acc = history.history['val_accuracy']\n",
        "loss = history.history['loss']\n",
        "val_loss = history.history['val_loss']\n",
        "\n",
        "epochs = range(len(acc))\n",
        "\n",
        "# Accuracy history graph for training and validation\n",
        "plt.plot(epochs, acc, 'r', label='Training accuracy')\n",
        "plt.plot(epochs, val_acc, 'b', label='Validation accuracy')\n",
        "plt.title('Training and validation accuracy')\n",
        "plt.xlabel(\"Epochs\")\n",
        "plt.ylabel(\"Accuracy\")\n",
        "plt.legend(loc=0)\n",
        "plt.figure()\n",
        "\n",
        "# Loss history graph for training and validation\n",
        "plt.plot(epochs, loss, 'r', label='Training Loss')\n",
        "plt.plot(epochs, val_loss, 'b', label='Validation Loss')\n",
        "plt.title('Training and validation loss')\n",
        "plt.xlabel(\"Epochs\")\n",
        "plt.ylabel(\"Loss\")\n",
        "plt.legend(loc=0)\n",
        "plt.figure()\n",
        "\n",
        "# show plot\n",
        "plt.show()"
      ],
      "id": "f6abeac2",
      "execution_count": 24,
      "outputs": [
        {
          "output_type": "display_data",
          "data": {
            "image/png": "[encoded data removed]",
            "text/plain": [
              "<Figure size 432x288 with 1 Axes>"
            ]
          },
          "metadata": {
            "tags": [],
            "needs_background": "light"
          }
        },
        {
          "output_type": "display_data",
          "data": {
            "image/png": "[encoded data removed]",
            "text/plain": [
              "<Figure size 432x288 with 1 Axes>"
            ]
          },
          "metadata": {
            "tags": [],
            "needs_background": "light"
          }
        },
        {
          "output_type": "display_data",
          "data": {
            "text/plain": [
              "<Figure size 432x288 with 0 Axes>"
            ]
          },
          "metadata": {
            "tags": []
          }
        }
      ]
    },
    {
      "cell_type": "markdown",
      "metadata": {
        "id": "2818cb7a"
      },
      "source": [
        "**6. Model Evaluation**\n",
        "\n",
        "a. Print the final train and validation loss and accuracy. Print confusion matrix and classification report for the validation dataset. Analyse and report the best and worst performing class.\n",
        "\n",
        "b. Print the two most incorrectly classified images for each class in the test dataset.\n",
        "\n",
        "**To be done:**\n",
        "\n",
        "Analyse and report the best and worst performing class.\n",
        "\n",
        "Print the two most incorrectly classified images for each class in the test dataset.\n"
      ],
      "id": "2818cb7a"
    },
    {
      "cell_type": "code",
      "metadata": {
        "colab": {
          "base_uri": "https://localhost:8080/"
        },
        "id": "cfc41251",
        "outputId": "43639008-4516-4418-b3ff-5bcc3ed27ffb"
      },
      "source": [
        "# final training accuracy and loss\n",
        "train_score = model.evaluate(train_generator)\n",
        "\n",
        "print(\"Training accuracy: {:.2f}%\".format(train_score[1] * 100)) \n",
        "print(\"Training Loss: \",train_score[0])\n",
        "\n",
        "# final validation accuracy and loss\n",
        "val_score = model.evaluate(val_generator)\n",
        "\n",
        "print(\"Validation accuracy: {:.2f}%\".format(val_score[1] * 100)) \n",
        "print(\"Validation Loss: \",val_score[0])"
      ],
      "id": "cfc41251",
      "execution_count": 25,
      "outputs": [
        {
          "output_type": "stream",
          "text": [
            "95/95 [==============================] - 24s 251ms/step - loss: 1.6999 - accuracy: 0.4470\n",
            "Training accuracy: 44.70%\n",
            "Training Loss:  1.6999319791793823\n",
            "40/40 [==============================] - 4s 97ms/step - loss: 1.7497 - accuracy: 0.4367\n",
            "Validation accuracy: 43.67%\n",
            "Validation Loss:  1.7496637105941772\n"
          ],
          "name": "stdout"
        }
      ]
    },
    {
      "cell_type": "code",
      "metadata": {
        "scrolled": true,
        "colab": {
          "base_uri": "https://localhost:8080/"
        },
        "id": "5e0a6703",
        "outputId": "505a560a-f706-4ec6-c74d-07799d8c044c"
      },
      "source": [
        "from sklearn.metrics import classification_report, confusion_matrix\n",
        "import itertools\n",
        "\n",
        "# get target names\n",
        "target_names = []\n",
        "for key in train_generator.class_indices:\n",
        "    target_names.append(key)\n",
        "\n",
        "# print target_names\n",
        "print('Target names:', target_names, '\\n')\n",
        "\n",
        "# Print Confusion Matrix \n",
        "Y_pred = model.predict(train_generator)\n",
        "y_pred = np.argmax(Y_pred, axis=1)\n",
        "cm = confusion_matrix(train_generator.classes, y_pred)\n",
        "print('Confusion Matrix', '\\n', cm, '\\n')\n",
        "\n",
        "# Print Classification Report\n",
        "print('Classification Report')\n",
        "print(classification_report(train_generator.classes, y_pred, target_names=target_names))"
      ],
      "id": "5e0a6703",
      "execution_count": 27,
      "outputs": [
        {
          "output_type": "stream",
          "text": [
            "Target names: ['n01440764', 'n02102040', 'n02979186', 'n03000684', 'n03028079', 'n03394916', 'n03417042', 'n03425413', 'n03445777', 'n03888257'] \n",
            "\n",
            "Confusion Matrix \n",
            " [[137 132  69  28  63  96 180  40 124  94]\n",
            " [133 118  84  20  57 107 164  45 133  94]\n",
            " [117 129  76  32  48 120 182  31 146 112]\n",
            " [110 121  64  35  44 108 143  33 107  93]\n",
            " [132 100  78  34  69  99 175  39 126  89]\n",
            " [139 131  70  23  52 100 169  37 138  97]\n",
            " [135 134  87  38  50  92 188  20 128  89]\n",
            " [140 129  83  29  56 101 167  29 113  84]\n",
            " [143 119  58  19  41 102 170  37 155 107]\n",
            " [140 136  66  41  57 117 163  44 111  85]] \n",
            "\n",
            "Classification Report\n",
            "              precision    recall  f1-score   support\n",
            "\n",
            "   n01440764       0.10      0.14      0.12       963\n",
            "   n02102040       0.09      0.12      0.11       955\n",
            "   n02979186       0.10      0.08      0.09       993\n",
            "   n03000684       0.12      0.04      0.06       858\n",
            "   n03028079       0.13      0.07      0.09       941\n",
            "   n03394916       0.10      0.10      0.10       956\n",
            "   n03417042       0.11      0.20      0.14       961\n",
            "   n03425413       0.08      0.03      0.05       931\n",
            "   n03445777       0.12      0.16      0.14       951\n",
            "   n03888257       0.09      0.09      0.09       960\n",
            "\n",
            "    accuracy                           0.10      9469\n",
            "   macro avg       0.10      0.10      0.10      9469\n",
            "weighted avg       0.10      0.10      0.10      9469\n",
            "\n"
          ],
          "name": "stdout"
        }
      ]
    },
    {
      "cell_type": "markdown",
      "metadata": {
        "id": "dQzCMU_cySHI"
      },
      "source": [
        "**Hyperparameter Tuning**\n",
        "\n",
        "Build two more additional models by changing the following hyperparameters ONE at a time. Write the code for Model Building, Model Compilation, Model Training and Model Evaluation as given in the instructions above for each additional model.\n",
        "\n",
        "1. Network Depth: Change the number of hidden layers and hidden units for each layer\n",
        "\n",
        "2. Regularization: Train a model without regularization\n",
        "\n",
        "Write a comparison between each model and give reasons for the difference in results."
      ],
      "id": "dQzCMU_cySHI"
    },
    {
      "cell_type": "code",
      "metadata": {
        "id": "HMKTQ2mDyuNi"
      },
      "source": [
        ""
      ],
      "id": "HMKTQ2mDyuNi",
      "execution_count": null,
      "outputs": []
    }
  ]
}