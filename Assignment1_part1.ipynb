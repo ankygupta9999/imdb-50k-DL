{
  "nbformat": 4,
  "nbformat_minor": 5,
  "metadata": {
    "kernelspec": {
      "display_name": "Python 3",
      "language": "python",
      "name": "python3"
    },
    "language_info": {
      "codemirror_mode": {
        "name": "ipython",
        "version": 3
      },
      "file_extension": ".py",
      "mimetype": "text/x-python",
      "name": "python",
      "nbconvert_exporter": "python",
      "pygments_lexer": "ipython3",
      "version": "3.8.5"
    },
    "colab": {
      "name": "vision.ipynb",
      "provenance": [],
      "collapsed_sections": []
    },
    "accelerator": "GPU"
  },
  "cells": [
    {
      "cell_type": "markdown",
      "metadata": {
        "id": "2523b91b"
      },
      "source": [
        "###### 1. Import Libraries/ Dataset"
      ],
      "id": "2523b91b"
    },
    {
      "cell_type": "code",
      "metadata": {
        "colab": {
          "base_uri": "https://localhost:8080/"
        },
        "id": "d1fdfff8",
        "outputId": "4658c754-a158-4680-922f-b3f5a463e5e1"
      },
      "source": [
        "import tensorflow as tf\n",
        "import tensorflow_datasets as tfds\n",
        "import numpy as np\n",
        "from tensorflow import keras\n",
        "\n",
        "print(tf.__version__)"
      ],
      "id": "d1fdfff8",
      "execution_count": null,
      "outputs": [
        {
          "output_type": "stream",
          "text": [
            "2.4.1\n"
          ],
          "name": "stdout"
        }
      ]
    },
    {
      "cell_type": "code",
      "metadata": {
        "colab": {
          "base_uri": "https://localhost:8080/"
        },
        "id": "8b17c015",
        "outputId": "d12157fa-d507-460c-d1ee-4badadb6bce5"
      },
      "source": [
        "# copy dataset\n",
        "!wget --no-check-certificate \\\n",
        "  https://s3.amazonaws.com/fast-ai-imageclas/imagenette2-160.tgz \\\n",
        "  -O /tmp/imagenette2-160.tgz"
      ],
      "id": "8b17c015",
      "execution_count": null,
      "outputs": [
        {
          "output_type": "stream",
          "text": [
            "--2021-05-10 09:46:51--  https://s3.amazonaws.com/fast-ai-imageclas/imagenette2-160.tgz\n",
            "Resolving s3.amazonaws.com (s3.amazonaws.com)... 52.216.110.109\n",
            "Connecting to s3.amazonaws.com (s3.amazonaws.com)|52.216.110.109|:443... connected.\n",
            "HTTP request sent, awaiting response... 200 OK\n",
            "Length: 99003388 (94M) [application/x-tar]\n",
            "Saving to: ‘/tmp/imagenette2-160.tgz’\n",
            "\n",
            "/tmp/imagenette2-16 100%[===================>]  94.42M  54.0MB/s    in 1.7s    \n",
            "\n",
            "2021-05-10 09:46:53 (54.0 MB/s) - ‘/tmp/imagenette2-160.tgz’ saved [99003388/99003388]\n",
            "\n"
          ],
          "name": "stdout"
        }
      ]
    },
    {
      "cell_type": "code",
      "metadata": {
        "id": "31114312"
      },
      "source": [
        "import os\n",
        "import tarfile\n",
        "\n",
        "# open file\n",
        "file = tarfile.open('/tmp/imagenette2-160.tgz')\n",
        "  \n",
        "# extract file\n",
        "file.extractall('/tmp')\n",
        "\n",
        "#close file\n",
        "file.close()"
      ],
      "id": "31114312",
      "execution_count": null,
      "outputs": []
    },
    {
      "cell_type": "code",
      "metadata": {
        "id": "29c8037b"
      },
      "source": [
        "# set directories\n",
        "base_dir = '/tmp/imagenette2-160'\n",
        "train_dir = os.path.join(base_dir, 'train')\n",
        "val_dir = os.path.join(base_dir, 'val')"
      ],
      "id": "29c8037b",
      "execution_count": null,
      "outputs": []
    },
    {
      "cell_type": "markdown",
      "metadata": {
        "id": "7a748f89"
      },
      "source": [
        "###### 2. Data Visualization and Augmentation"
      ],
      "id": "7a748f89"
    },
    {
      "cell_type": "code",
      "metadata": {
        "colab": {
          "base_uri": "https://localhost:8080/"
        },
        "id": "e128e9b0",
        "outputId": "01296e79-8fdf-46c1-dfbf-396c0352997a"
      },
      "source": [
        "import keras_preprocessing\n",
        "from keras_preprocessing import image\n",
        "from keras_preprocessing.image import ImageDataGenerator\n",
        "\n",
        "# set image and batch size\n",
        "num_img_rows=75 # image height, actual=213\n",
        "num_img_cols=75 # image width, actual=160\n",
        "num_color_channels=3\n",
        "num_batch_size=100\n",
        "\n",
        "train_datagen = ImageDataGenerator(\n",
        "                  rescale=1.0/255.0,\n",
        "                  rotation_range=40,\n",
        "                  height_shift_range=0.2,\n",
        "                  fill_mode='nearest'\n",
        "                )\n",
        "\n",
        "val_datagen = ImageDataGenerator(\n",
        "                rescale=1.0/255.0\n",
        "              )\n",
        "\n",
        "train_generator = train_datagen.flow_from_directory(\n",
        "                    train_dir,\n",
        "                    batch_size=num_batch_size,\n",
        "                    target_size=(num_img_rows, num_img_cols),\n",
        "                    class_mode='categorical'\n",
        "                  )\n",
        "\n",
        "val_generator = val_datagen.flow_from_directory(\n",
        "                  val_dir,\n",
        "                  batch_size=num_batch_size,\n",
        "                  target_size=(num_img_rows, num_img_cols),\n",
        "                  class_mode='categorical'\n",
        "                )\n",
        "\n",
        "# print shape of training data after transformation\n",
        "for train_image_batch, train_labels_batch in train_generator:\n",
        "  print('Training image batch shape, after transformation:', train_image_batch.shape)\n",
        "  print('Training label batch shape, after transformation:', train_labels_batch.shape)\n",
        "  break\n",
        "\n",
        "# print shape of test data after transformation\n",
        "for val_image_batch, val_labels_batch in val_generator:\n",
        "  print('Validation image batch shape, after transformation:', val_image_batch.shape)\n",
        "  print('Validation label batch shape, after transformation:', val_labels_batch.shape)\n",
        "  break"
      ],
      "id": "e128e9b0",
      "execution_count": null,
      "outputs": [
        {
          "output_type": "stream",
          "text": [
            "Found 9469 images belonging to 10 classes.\n",
            "Found 3925 images belonging to 10 classes.\n",
            "Training image batch shape, after transformation: (100, 75, 75, 3)\n",
            "Training label batch shape, after transformation: (100, 10)\n",
            "Validation image batch shape, after transformation: (100, 75, 75, 3)\n",
            "Validation label batch shape, after transformation: (100, 10)\n"
          ],
          "name": "stdout"
        }
      ]
    },
    {
      "cell_type": "markdown",
      "metadata": {
        "id": "841a8e6c"
      },
      "source": [
        "###### 3. Model Building"
      ],
      "id": "841a8e6c"
    },
    {
      "cell_type": "code",
      "metadata": {
        "id": "e693a557"
      },
      "source": [
        "from tensorflow.keras import layers\n",
        "from tensorflow.keras import Model\n",
        "from tensorflow.keras.optimizers import RMSprop\n",
        "from tensorflow.keras import regularizers\n",
        "\n",
        "# set model parameters\n",
        "num_epochs=50\n",
        "num_steps_per_epoch=95 # total training images/ batch size = 9465/100\n",
        "num_val_steps=40 # total validation images/ batch size = 3925/100\n",
        "num_dropout=0.2\n",
        "num_l2_reg_penalty=0.0001\n",
        "num_lr=1e-4\n",
        "\n",
        "# build model\n",
        "model = tf.keras.models.Sequential([\n",
        "          # Flatten input\n",
        "          tf.keras.layers.Flatten(input_shape=(num_img_rows,num_img_cols, num_color_channels)),\n",
        "          # Layer 1 = input layer with regularization\n",
        "          tf.keras.layers.Dense(1024, activation='relu', kernel_regularizer=tf.keras.regularizers.l2(num_l2_reg_penalty)),\n",
        "          # Add dropout\n",
        "          tf.keras.layers.Dropout(num_dropout),\n",
        "          # Layer 2 = hidden layer with regularization\n",
        "          tf.keras.layers.Dense(512, activation='relu', kernel_regularizer=tf.keras.regularizers.l2(num_l2_reg_penalty)),\n",
        "          # Layer 3 = hidden layer with regularization\n",
        "          tf.keras.layers.Dense(256, activation='relu', kernel_regularizer=tf.keras.regularizers.l2(num_l2_reg_penalty)),\n",
        "          # Layer 4 = hidden layer with regularization\n",
        "          tf.keras.layers.Dense(128, activation='relu', kernel_regularizer=tf.keras.regularizers.l2(num_l2_reg_penalty)),\n",
        "          # Layer 5 = output layer with regularization\n",
        "          tf.keras.layers.Dense(10, activation='softmax', kernel_regularizer=tf.keras.regularizers.l2(num_l2_reg_penalty)),\n",
        "        ])"
      ],
      "id": "e693a557",
      "execution_count": null,
      "outputs": []
    },
    {
      "cell_type": "markdown",
      "metadata": {
        "id": "f82446be"
      },
      "source": [
        "###### 4. Model Compilation"
      ],
      "id": "f82446be"
    },
    {
      "cell_type": "code",
      "metadata": {
        "id": "8e285b58"
      },
      "source": [
        "# compile model\n",
        "model.compile(loss='categorical_crossentropy',\n",
        "              #optimizer='rmsprop',\n",
        "              optimizer=RMSprop(lr=num_lr),\n",
        "              metrics=['accuracy']\n",
        "             )"
      ],
      "id": "8e285b58",
      "execution_count": null,
      "outputs": []
    },
    {
      "cell_type": "markdown",
      "metadata": {
        "id": "2dff9623"
      },
      "source": [
        "###### 5. Model Training"
      ],
      "id": "2dff9623"
    },
    {
      "cell_type": "code",
      "metadata": {
        "scrolled": true,
        "colab": {
          "base_uri": "https://localhost:8080/"
        },
        "id": "34b4f3cd",
        "outputId": "6b577bd3-f1ef-4c7c-b75f-a31a2e7a3de1"
      },
      "source": [
        "# train model\n",
        "history = model.fit(\n",
        "            train_generator,\n",
        "            epochs=num_epochs,\n",
        "            steps_per_epoch=num_steps_per_epoch,\n",
        "            validation_data=val_generator,\n",
        "            validation_steps=num_val_steps,\n",
        "            verbose=1\n",
        "          )\n",
        "\n",
        "# show model summary\n",
        "model.summary()\n",
        "\n",
        "# save model\n",
        "#model.save(\"vision.h5\")"
      ],
      "id": "34b4f3cd",
      "execution_count": null,
      "outputs": [
        {
          "output_type": "stream",
          "text": [
            "Epoch 1/50\n",
            " 95/190 [==============>...............] - ETA: 18s - loss: 2.7170 - accuracy: 0.1413WARNING:tensorflow:Your input ran out of data; interrupting training. Make sure that your dataset or generator can generate at least `steps_per_epoch * epochs` batches (in this case, 9500 batches). You may need to use the repeat() function when building your dataset.\n",
            "190/190 [==============================] - 25s 118ms/step - loss: 2.6486 - accuracy: 0.1559 - val_loss: 2.3573 - val_accuracy: 0.2306\n",
            "Model: \"sequential\"\n",
            "_________________________________________________________________\n",
            "Layer (type)                 Output Shape              Param #   \n",
            "=================================================================\n",
            "flatten (Flatten)            (None, 16875)             0         \n",
            "_________________________________________________________________\n",
            "dense (Dense)                (None, 1024)              17281024  \n",
            "_________________________________________________________________\n",
            "dropout (Dropout)            (None, 1024)              0         \n",
            "_________________________________________________________________\n",
            "dense_1 (Dense)              (None, 512)               524800    \n",
            "_________________________________________________________________\n",
            "dense_2 (Dense)              (None, 256)               131328    \n",
            "_________________________________________________________________\n",
            "dense_3 (Dense)              (None, 128)               32896     \n",
            "_________________________________________________________________\n",
            "dense_4 (Dense)              (None, 10)                1290      \n",
            "=================================================================\n",
            "Total params: 17,971,338\n",
            "Trainable params: 17,971,338\n",
            "Non-trainable params: 0\n",
            "_________________________________________________________________\n"
          ],
          "name": "stdout"
        }
      ]
    },
    {
      "cell_type": "code",
      "metadata": {
        "scrolled": true,
        "colab": {
          "base_uri": "https://localhost:8080/",
          "height": 232
        },
        "id": "f6abeac2",
        "outputId": "cf944dc6-b27d-47d0-d0e6-80abde1832cf"
      },
      "source": [
        "import matplotlib.pyplot as plt\n",
        "\n",
        "acc = history.history['accuracy']\n",
        "val_acc = history.history['val_accuracy']\n",
        "loss = history.history['loss']\n",
        "val_loss = history.history['val_loss']\n",
        "\n",
        "epochs = range(len(acc))\n",
        "\n",
        "# Accuracy history graph for training and validation\n",
        "plt.plot(epochs, acc, 'r', label='Training accuracy')\n",
        "plt.plot(epochs, val_acc, 'b', label='Validation accuracy')\n",
        "plt.title('Training and validation accuracy')\n",
        "plt.xlabel(\"Epochs\")\n",
        "plt.ylabel(\"Accuracy\")\n",
        "plt.legend(loc=0)\n",
        "plt.figure()\n",
        "\n",
        "# Loss history graph for training and validation\n",
        "plt.plot(epochs, loss, 'r', label='Training Loss')\n",
        "plt.plot(epochs, val_loss, 'b', label='Validation Loss')\n",
        "plt.title('Training and validation loss')\n",
        "plt.xlabel(\"Epochs\")\n",
        "plt.ylabel(\"Loss\")\n",
        "plt.legend(loc=0)\n",
        "plt.figure()\n",
        "\n",
        "# show plot\n",
        "plt.show()"
      ],
      "id": "f6abeac2",
      "execution_count": null,
      "outputs": [
        {
          "output_type": "error",
          "ename": "NameError",
          "evalue": "ignored",
          "traceback": [
            "\u001b[0;31m---------------------------------------------------------------------------\u001b[0m",
            "\u001b[0;31mNameError\u001b[0m                                 Traceback (most recent call last)",
            "\u001b[0;32m<ipython-input-1-35b9761edd4f>\u001b[0m in \u001b[0;36m<module>\u001b[0;34m()\u001b[0m\n\u001b[1;32m      1\u001b[0m \u001b[0;32mimport\u001b[0m \u001b[0mmatplotlib\u001b[0m\u001b[0;34m.\u001b[0m\u001b[0mpyplot\u001b[0m \u001b[0;32mas\u001b[0m \u001b[0mplt\u001b[0m\u001b[0;34m\u001b[0m\u001b[0;34m\u001b[0m\u001b[0m\n\u001b[1;32m      2\u001b[0m \u001b[0;34m\u001b[0m\u001b[0m\n\u001b[0;32m----> 3\u001b[0;31m \u001b[0macc\u001b[0m \u001b[0;34m=\u001b[0m \u001b[0mhistory\u001b[0m\u001b[0;34m.\u001b[0m\u001b[0mhistory\u001b[0m\u001b[0;34m[\u001b[0m\u001b[0;34m'accuracy'\u001b[0m\u001b[0;34m]\u001b[0m\u001b[0;34m\u001b[0m\u001b[0;34m\u001b[0m\u001b[0m\n\u001b[0m\u001b[1;32m      4\u001b[0m \u001b[0mval_acc\u001b[0m \u001b[0;34m=\u001b[0m \u001b[0mhistory\u001b[0m\u001b[0;34m.\u001b[0m\u001b[0mhistory\u001b[0m\u001b[0;34m[\u001b[0m\u001b[0;34m'val_accuracy'\u001b[0m\u001b[0;34m]\u001b[0m\u001b[0;34m\u001b[0m\u001b[0;34m\u001b[0m\u001b[0m\n\u001b[1;32m      5\u001b[0m \u001b[0mloss\u001b[0m \u001b[0;34m=\u001b[0m \u001b[0mhistory\u001b[0m\u001b[0;34m.\u001b[0m\u001b[0mhistory\u001b[0m\u001b[0;34m[\u001b[0m\u001b[0;34m'loss'\u001b[0m\u001b[0;34m]\u001b[0m\u001b[0;34m\u001b[0m\u001b[0;34m\u001b[0m\u001b[0m\n",
            "\u001b[0;31mNameError\u001b[0m: name 'history' is not defined"
          ]
        }
      ]
    },
    {
      "cell_type": "markdown",
      "metadata": {
        "id": "2818cb7a"
      },
      "source": [
        "###### 6. Model Evaluation"
      ],
      "id": "2818cb7a"
    },
    {
      "cell_type": "code",
      "metadata": {
        "colab": {
          "base_uri": "https://localhost:8080/"
        },
        "id": "cfc41251",
        "outputId": "a222f17e-d000-4596-bf87-b8c449d47486"
      },
      "source": [
        "# final training accuracy and loss\n",
        "train_score = model.evaluate(train_generator)\n",
        "\n",
        "print(\"Training accuracy: {:.2f}%\".format(train_score[1] * 100)) \n",
        "print(\"Training Loss: \",train_score[0])\n",
        "\n",
        "# final validation accuracy and loss\n",
        "val_score = model.evaluate(val_generator)\n",
        "\n",
        "print(\"Validation accuracy: {:.2f}%\".format(val_score[1] * 100)) \n",
        "print(\"Validation Loss: \",val_score[0])"
      ],
      "id": "cfc41251",
      "execution_count": null,
      "outputs": [
        {
          "output_type": "stream",
          "text": [
            "95/95 [==============================] - 35s 363ms/step - loss: 1.7266 - accuracy: 0.4212\n",
            "Training accuracy: 42.12%\n",
            "Training Loss:  1.7265675067901611\n",
            "40/40 [==============================] - 5s 112ms/step - loss: 1.7693 - accuracy: 0.4148\n",
            "Validation accuracy: 41.48%\n",
            "Validation Loss:  1.769339680671692\n"
          ],
          "name": "stdout"
        }
      ]
    },
    {
      "cell_type": "code",
      "metadata": {
        "scrolled": true,
        "colab": {
          "base_uri": "https://localhost:8080/",
          "height": 1000
        },
        "id": "5e0a6703",
        "outputId": "df3e274e-6f33-407b-90fe-c570c0af688c"
      },
      "source": [
        "from sklearn.metrics import classification_report, confusion_matrix\n",
        "import itertools\n",
        "\n",
        "# get target names\n",
        "target_names = []\n",
        "for key in train_generator.class_indices:\n",
        "    target_names.append(key)\n",
        "\n",
        "# print target_names\n",
        "print('Target names:', target_names)\n",
        "\n",
        "# Plot Confution Matrix helper function\n",
        "def plot_confusion_matrix(cm, classes, normalize=True, title='Confusion matrix', cmap=plt.cm.Blues):\n",
        "    \"\"\"\n",
        "    This function prints and plots the confusion matrix.\n",
        "    Normalization can be applied by setting `normalize=True`.\n",
        "    \"\"\"\n",
        "    plt.figure(figsize=(10,10))\n",
        "\n",
        "    plt.imshow(cm, interpolation='nearest', cmap=cmap)\n",
        "    plt.title(title)\n",
        "    plt.colorbar()\n",
        "\n",
        "    tick_marks = np.arange(len(classes))\n",
        "    plt.xticks(tick_marks, classes, rotation=45)\n",
        "    plt.yticks(tick_marks, classes)\n",
        "\n",
        "    if normalize:\n",
        "        cm = cm.astype('float') / cm.sum(axis=1)[:, np.newaxis]\n",
        "        cm = np.around(cm, decimals=2)\n",
        "        cm[np.isnan(cm)] = 0.0\n",
        "        print(\"Normalized confusion matrix\")\n",
        "    else:\n",
        "        print('Confusion matrix, without normalization')\n",
        "    thresh = cm.max() / 2.\n",
        "    for i, j in itertools.product(range(cm.shape[0]), range(cm.shape[1])):\n",
        "        plt.text(j, i, cm[i, j],\n",
        "                 horizontalalignment=\"center\",\n",
        "                 color=\"white\" if cm[i, j] > thresh else \"black\")\n",
        "    plt.tight_layout()\n",
        "    plt.ylabel('True label')\n",
        "    plt.xlabel('Predicted label')\n",
        "\n",
        "# Print Confusion Matrix \n",
        "Y_pred = model.predict(train_generator)\n",
        "y_pred = np.argmax(Y_pred, axis=1)\n",
        "print('Confusion Matrix')\n",
        "cm = confusion_matrix(train_generator.classes, y_pred)\n",
        "plot_confusion_matrix(cm, target_names, title='Confusion Matrix')\n",
        "\n",
        "# Print Classification Report\n",
        "print('Classification Report')\n",
        "print(classification_report(train_generator.classes, y_pred, target_names=target_names))"
      ],
      "id": "5e0a6703",
      "execution_count": null,
      "outputs": [
        {
          "output_type": "stream",
          "text": [
            "Target names: ['n01440764', 'n02102040', 'n02979186', 'n03000684', 'n03028079', 'n03394916', 'n03417042', 'n03425413', 'n03445777', 'n03888257']\n",
            "Confusion Matrix\n",
            "Normalized confusion matrix\n",
            "Classification Report\n",
            "              precision    recall  f1-score   support\n",
            "\n",
            "   n01440764       0.09      0.13      0.11       963\n",
            "   n02102040       0.10      0.09      0.10       955\n",
            "   n02979186       0.11      0.07      0.08       993\n",
            "   n03000684       0.11      0.05      0.06       858\n",
            "   n03028079       0.10      0.15      0.12       941\n",
            "   n03394916       0.09      0.15      0.11       956\n",
            "   n03417042       0.10      0.08      0.09       961\n",
            "   n03425413       0.10      0.13      0.11       931\n",
            "   n03445777       0.11      0.08      0.09       951\n",
            "   n03888257       0.11      0.10      0.10       960\n",
            "\n",
            "    accuracy                           0.10      9469\n",
            "   macro avg       0.10      0.10      0.10      9469\n",
            "weighted avg       0.10      0.10      0.10      9469\n",
            "\n"
          ],
          "name": "stdout"
        },
        {
          "output_type": "display_data",
          "data": {
            "image/png": "[encoded data removed]",
            "text/plain": [
              "<Figure size 720x720 with 2 Axes>"
            ]
          },
          "metadata": {
            "tags": [],
            "needs_background": "light"
          }
        }
      ]
    },
    {
      "cell_type": "code",
      "metadata": {
        "id": "6bfe73df"
      },
      "source": [
        ""
      ],
      "id": "6bfe73df",
      "execution_count": null,
      "outputs": []
    }
  ]
}