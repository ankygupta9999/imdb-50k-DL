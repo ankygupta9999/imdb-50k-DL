{
  "nbformat": 4,
  "nbformat_minor": 0,
  "metadata": {
    "colab": {
      "name": "Assignment1-part2.ipynb",
      "provenance": [],
      "collapsed_sections": [
        "_l5nbowVN1T3"
      ]
    },
    "kernelspec": {
      "name": "python3",
      "display_name": "Python 3"
    },
    "language_info": {
      "name": "python"
    },
    "accelerator": "TPU"
  },
  "cells": [
    {
      "cell_type": "code",
      "metadata": {
        "id": "gbM6WoPwDDyJ"
      },
      "source": [
        "import tensorflow as tf\n",
        "import tensorflow_datasets as tfds\n",
        "import matplotlib.image as mpimg\n",
        "import matplotlib.pyplot as plt\n",
        "import os\n",
        "import pandas as pd\n",
        "import numpy as np\n",
        "import seaborn as sns\n",
        "\n",
        "%matplotlib inline\n"
      ],
      "execution_count": 1,
      "outputs": []
    },
    {
      "cell_type": "code",
      "metadata": {
        "colab": {
          "base_uri": "https://localhost:8080/"
        },
        "id": "kwZVP6bWKDo-",
        "outputId": "7c736b03-1e61-4a12-b4ff-b7ca558cc741"
      },
      "source": [
        "from google.colab import drive\n",
        "drive.mount('/content/drive')"
      ],
      "execution_count": 2,
      "outputs": [
        {
          "output_type": "stream",
          "text": [
            "Drive already mounted at /content/drive; to attempt to forcibly remount, call drive.mount(\"/content/drive\", force_remount=True).\n"
          ],
          "name": "stdout"
        }
      ]
    },
    {
      "cell_type": "code",
      "metadata": {
        "colab": {
          "base_uri": "https://localhost:8080/"
        },
        "id": "_VOecj_WK9sG",
        "outputId": "c3d39a37-214b-409b-8600-472a42880056"
      },
      "source": [
        "!ls /content/drive/MyDrive/Colab\\ Notebooks/"
      ],
      "execution_count": 3,
      "outputs": [
        {
          "output_type": "stream",
          "text": [
            " Assignment1.ipynb\n",
            " Assignment1-part2.ipynb\n",
            "'Copy of Course 1 - Part 8 - Lesson 2 - Notebook.ipynb'\n",
            "'Copy of Course 1 - Part 8 - Lesson 3 - Notebook.ipynb'\n",
            "'Copy of Course 2 - Part 4 - Lesson 2 - Notebook (Cats v Dogs Augmentation).ipynb'\n",
            "'Copy of Course 2 - Part 6 - Lesson 3 - Notebook (1).ipynb'\n",
            "'Copy of Course 2 - Part 6 - Lesson 3 - Notebook.ipynb'\n",
            "'IMDB Dataset.csv'\n"
          ],
          "name": "stdout"
        }
      ]
    },
    {
      "cell_type": "code",
      "metadata": {
        "id": "_TBHMf7rD0vy"
      },
      "source": [
        "# Read CSV File\n",
        "df = pd.read_csv(\"/content/drive/MyDrive/Colab Notebooks/IMDB Dataset.csv\")"
      ],
      "execution_count": 39,
      "outputs": []
    },
    {
      "cell_type": "code",
      "metadata": {
        "colab": {
          "base_uri": "https://localhost:8080/",
          "height": 204
        },
        "id": "L4EISud5De5e",
        "outputId": "ee4fa08d-005e-42f1-d585-a9816c1c778d"
      },
      "source": [
        "df.head()"
      ],
      "execution_count": 40,
      "outputs": [
        {
          "output_type": "execute_result",
          "data": {
            "text/html": [
              "<div>\n",
              "<style scoped>\n",
              "    .dataframe tbody tr th:only-of-type {\n",
              "        vertical-align: middle;\n",
              "    }\n",
              "\n",
              "    .dataframe tbody tr th {\n",
              "        vertical-align: top;\n",
              "    }\n",
              "\n",
              "    .dataframe thead th {\n",
              "        text-align: right;\n",
              "    }\n",
              "</style>\n",
              "<table border=\"1\" class=\"dataframe\">\n",
              "  <thead>\n",
              "    <tr style=\"text-align: right;\">\n",
              "      <th></th>\n",
              "      <th>review</th>\n",
              "      <th>sentiment</th>\n",
              "    </tr>\n",
              "  </thead>\n",
              "  <tbody>\n",
              "    <tr>\n",
              "      <th>0</th>\n",
              "      <td>One of the other reviewers has mentioned that ...</td>\n",
              "      <td>positive</td>\n",
              "    </tr>\n",
              "    <tr>\n",
              "      <th>1</th>\n",
              "      <td>A wonderful little production. &lt;br /&gt;&lt;br /&gt;The...</td>\n",
              "      <td>positive</td>\n",
              "    </tr>\n",
              "    <tr>\n",
              "      <th>2</th>\n",
              "      <td>I thought this was a wonderful way to spend ti...</td>\n",
              "      <td>positive</td>\n",
              "    </tr>\n",
              "    <tr>\n",
              "      <th>3</th>\n",
              "      <td>Basically there's a family where a little boy ...</td>\n",
              "      <td>negative</td>\n",
              "    </tr>\n",
              "    <tr>\n",
              "      <th>4</th>\n",
              "      <td>Petter Mattei's \"Love in the Time of Money\" is...</td>\n",
              "      <td>positive</td>\n",
              "    </tr>\n",
              "  </tbody>\n",
              "</table>\n",
              "</div>"
            ],
            "text/plain": [
              "                                              review sentiment\n",
              "0  One of the other reviewers has mentioned that ...  positive\n",
              "1  A wonderful little production. <br /><br />The...  positive\n",
              "2  I thought this was a wonderful way to spend ti...  positive\n",
              "3  Basically there's a family where a little boy ...  negative\n",
              "4  Petter Mattei's \"Love in the Time of Money\" is...  positive"
            ]
          },
          "metadata": {
            "tags": []
          },
          "execution_count": 40
        }
      ]
    },
    {
      "cell_type": "code",
      "metadata": {
        "colab": {
          "base_uri": "https://localhost:8080/"
        },
        "id": "hYxozx7wIpks",
        "outputId": "233a90c7-6e36-42e2-fc9e-aaf9b2923c41"
      },
      "source": [
        "df.info(verbose=True)"
      ],
      "execution_count": 41,
      "outputs": [
        {
          "output_type": "stream",
          "text": [
            "<class 'pandas.core.frame.DataFrame'>\n",
            "RangeIndex: 50000 entries, 0 to 49999\n",
            "Data columns (total 2 columns):\n",
            " #   Column     Non-Null Count  Dtype \n",
            "---  ------     --------------  ----- \n",
            " 0   review     50000 non-null  object\n",
            " 1   sentiment  50000 non-null  object\n",
            "dtypes: object(2)\n",
            "memory usage: 781.4+ KB\n"
          ],
          "name": "stdout"
        }
      ]
    },
    {
      "cell_type": "code",
      "metadata": {
        "id": "hn9Bc6oGJPpb",
        "colab": {
          "base_uri": "https://localhost:8080/"
        },
        "outputId": "9a407c14-c12d-484e-b671-6e0a88b0f9bf"
      },
      "source": [
        "# Print at least two movie reviews from each class of the dataset, for a sanity check that\n",
        "# labels match the text\n",
        "for cls in df['sentiment'].unique():\n",
        "  print(\"=====================================================\")\n",
        "  print(\"Printing sample (2) movie reivews for class : -->>\",cls)\n",
        "  print(\"=====================================================\")\n",
        "  print(df[df['sentiment'] == cls]['review'].head(2))"
      ],
      "execution_count": 42,
      "outputs": [
        {
          "output_type": "stream",
          "text": [
            "=====================================================\n",
            "Printing sample (2) movie reivews for class : -->> positive\n",
            "=====================================================\n",
            "0    One of the other reviewers has mentioned that ...\n",
            "1    A wonderful little production. <br /><br />The...\n",
            "Name: review, dtype: object\n",
            "=====================================================\n",
            "Printing sample (2) movie reivews for class : -->> negative\n",
            "=====================================================\n",
            "3    Basically there's a family where a little boy ...\n",
            "7    This show was an amazing, fresh & innovative i...\n",
            "Name: review, dtype: object\n"
          ],
          "name": "stdout"
        }
      ]
    },
    {
      "cell_type": "code",
      "metadata": {
        "colab": {
          "base_uri": "https://localhost:8080/",
          "height": 285
        },
        "id": "x7KW7jauDe1k",
        "outputId": "0872472a-509e-4d18-fcaf-aef768da6fbe"
      },
      "source": [
        "#Plot a bar graph of class distribution in a dataset. Each bar depicts the number of tweets\n",
        "# belonging to a particular sentiment. (recommended - matplotlib/seaborn libraries)\n",
        "\n",
        "sns.set_theme(style=\"whitegrid\")\n",
        "ax = sns.countplot(data=df, x=\"sentiment\")"
      ],
      "execution_count": 43,
      "outputs": [
        {
          "output_type": "display_data",
          "data": {
            "image/png": "[encoded data removed]",
            "text/plain": [
              "<Figure size 432x288 with 1 Axes>"
            ]
          },
          "metadata": {
            "tags": []
          }
        }
      ]
    },
    {
      "cell_type": "code",
      "metadata": {
        "id": "s_ONM55jDexO"
      },
      "source": [
        "# Print the shapes of train and test data\n"
      ],
      "execution_count": null,
      "outputs": []
    },
    {
      "cell_type": "markdown",
      "metadata": {
        "id": "_l5nbowVN1T3"
      },
      "source": [
        "### Data Pre-processing (different way)"
      ]
    },
    {
      "cell_type": "markdown",
      "metadata": {
        "id": "O2gLeLP5N1Qt"
      },
      "source": [
        ""
      ]
    },
    {
      "cell_type": "code",
      "metadata": {
        "id": "-JHCjBWODet8",
        "colab": {
          "base_uri": "https://localhost:8080/",
          "height": 145
        },
        "outputId": "b1fe5816-880f-4690-9194-b356ceaa6ab3"
      },
      "source": [
        "# Data Pre-processing\n",
        "\n",
        "# Need for this Step - Since the models we use cannot accept string inputs or cannot be of\n",
        "# the string format. We have to come up with a way of handling this step. The discussion of\n",
        "# different ways of handling this step is out of the scope of this assignment.\n",
        "\n",
        "import nltk\n",
        "nltk.download('stopwords')\n",
        "from nltk.corpus import stopwords\n",
        "\n",
        "# pre-process review\n",
        "english_stops = set(stopwords.words('english')) # declare stop words\n",
        "df['review'] = df['review'].replace({'<.*?>': ''}, regex = True) # remove html tag\n",
        "df['review'] = df['review'].replace({'[^A-Za-z]': ' '}, regex = True) # remove non alphabet\n",
        "df['review'] = df['review'].apply(lambda review: [w for w in review.split() if w not in english_stops]) # remove stop words\n",
        "df['review'] = df['review'].apply(lambda review: [w.lower() for w in review]) # lower case\n",
        "\n",
        "# encode sentiment\n",
        "df['sentiment'] = df['sentiment'].replace('positive', 1)\n",
        "df['sentiment'] = df['sentiment'].replace('negative', 0)\n",
        "\n",
        "# print dataset\n",
        "df.head(2)"
      ],
      "execution_count": null,
      "outputs": [
        {
          "output_type": "stream",
          "text": [
            "[nltk_data] Downloading package stopwords to /root/nltk_data...\n",
            "[nltk_data]   Package stopwords is already up-to-date!\n"
          ],
          "name": "stdout"
        },
        {
          "output_type": "execute_result",
          "data": {
            "text/html": [
              "<div>\n",
              "<style scoped>\n",
              "    .dataframe tbody tr th:only-of-type {\n",
              "        vertical-align: middle;\n",
              "    }\n",
              "\n",
              "    .dataframe tbody tr th {\n",
              "        vertical-align: top;\n",
              "    }\n",
              "\n",
              "    .dataframe thead th {\n",
              "        text-align: right;\n",
              "    }\n",
              "</style>\n",
              "<table border=\"1\" class=\"dataframe\">\n",
              "  <thead>\n",
              "    <tr style=\"text-align: right;\">\n",
              "      <th></th>\n",
              "      <th>review</th>\n",
              "      <th>sentiment</th>\n",
              "    </tr>\n",
              "  </thead>\n",
              "  <tbody>\n",
              "    <tr>\n",
              "      <th>0</th>\n",
              "      <td>[one, reviewers, mentioned, watching, oz, epis...</td>\n",
              "      <td>1</td>\n",
              "    </tr>\n",
              "    <tr>\n",
              "      <th>1</th>\n",
              "      <td>[a, wonderful, little, production, the, filmin...</td>\n",
              "      <td>1</td>\n",
              "    </tr>\n",
              "  </tbody>\n",
              "</table>\n",
              "</div>"
            ],
            "text/plain": [
              "                                              review  sentiment\n",
              "0  [one, reviewers, mentioned, watching, oz, epis...          1\n",
              "1  [a, wonderful, little, production, the, filmin...          1"
            ]
          },
          "metadata": {
            "tags": []
          },
          "execution_count": 160
        }
      ]
    },
    {
      "cell_type": "code",
      "metadata": {
        "id": "PnSXUpiLJGUi"
      },
      "source": [
        "from tensorflow import keras\n",
        "from tensorflow.keras.preprocessing.text import Tokenizer\n",
        "from tensorflow.keras.preprocessing.sequence import pad_sequences"
      ],
      "execution_count": null,
      "outputs": []
    },
    {
      "cell_type": "code",
      "metadata": {
        "id": "Vm2Zl2aqg1BO"
      },
      "source": [
        "# Hyperparams\n",
        "\n",
        "vocab_size = 10000\n",
        "embedding_dim = 16\n",
        "max_len = 250\n",
        "trunc_typ = 'post'\n",
        "pad_typ = 'post'\n",
        "oov_tok = '<OOV>'"
      ],
      "execution_count": null,
      "outputs": []
    },
    {
      "cell_type": "code",
      "metadata": {
        "id": "MKf5766EexwA"
      },
      "source": [
        "tokenizer = Tokenizer(num_words=vocab_size ,oov_token=oov_tok)"
      ],
      "execution_count": null,
      "outputs": []
    },
    {
      "cell_type": "code",
      "metadata": {
        "id": "YUJOHprdfAh9"
      },
      "source": [
        "tokenizer.fit_on_texts(df['review'])\n",
        "word_index = tokenizer.word_index"
      ],
      "execution_count": null,
      "outputs": []
    },
    {
      "cell_type": "code",
      "metadata": {
        "id": "W7nQCqOTfOtQ"
      },
      "source": [
        "sequences = tokenizer.texts_to_sequences(df['review'])"
      ],
      "execution_count": null,
      "outputs": []
    },
    {
      "cell_type": "code",
      "metadata": {
        "id": "jLwCMNjKPOip"
      },
      "source": [
        "df['review_len'] = 0\n",
        "df['review_len'] = df['review'].map(lambda x: len(x))"
      ],
      "execution_count": null,
      "outputs": []
    },
    {
      "cell_type": "code",
      "metadata": {
        "colab": {
          "base_uri": "https://localhost:8080/",
          "height": 111
        },
        "id": "zrwiWio7TGuY",
        "outputId": "5ea25479-de38-45d0-cba9-fc8d5b9544f4"
      },
      "source": [
        "df.head(2)"
      ],
      "execution_count": null,
      "outputs": [
        {
          "output_type": "execute_result",
          "data": {
            "text/html": [
              "<div>\n",
              "<style scoped>\n",
              "    .dataframe tbody tr th:only-of-type {\n",
              "        vertical-align: middle;\n",
              "    }\n",
              "\n",
              "    .dataframe tbody tr th {\n",
              "        vertical-align: top;\n",
              "    }\n",
              "\n",
              "    .dataframe thead th {\n",
              "        text-align: right;\n",
              "    }\n",
              "</style>\n",
              "<table border=\"1\" class=\"dataframe\">\n",
              "  <thead>\n",
              "    <tr style=\"text-align: right;\">\n",
              "      <th></th>\n",
              "      <th>review</th>\n",
              "      <th>sentiment</th>\n",
              "      <th>review_len</th>\n",
              "    </tr>\n",
              "  </thead>\n",
              "  <tbody>\n",
              "    <tr>\n",
              "      <th>0</th>\n",
              "      <td>[one, reviewers, mentioned, watching, oz, epis...</td>\n",
              "      <td>1</td>\n",
              "      <td>176</td>\n",
              "    </tr>\n",
              "    <tr>\n",
              "      <th>1</th>\n",
              "      <td>[a, wonderful, little, production, the, filmin...</td>\n",
              "      <td>1</td>\n",
              "      <td>93</td>\n",
              "    </tr>\n",
              "  </tbody>\n",
              "</table>\n",
              "</div>"
            ],
            "text/plain": [
              "                                              review  sentiment  review_len\n",
              "0  [one, reviewers, mentioned, watching, oz, epis...          1         176\n",
              "1  [a, wonderful, little, production, the, filmin...          1          93"
            ]
          },
          "metadata": {
            "tags": []
          },
          "execution_count": 167
        }
      ]
    },
    {
      "cell_type": "code",
      "metadata": {
        "colab": {
          "base_uri": "https://localhost:8080/"
        },
        "id": "sGUjP3YTZGyf",
        "outputId": "17ae251d-aeb6-4053-e93e-3574903aba9f"
      },
      "source": [
        "len(df.review[0])"
      ],
      "execution_count": null,
      "outputs": [
        {
          "output_type": "execute_result",
          "data": {
            "text/plain": [
              "176"
            ]
          },
          "metadata": {
            "tags": []
          },
          "execution_count": 168
        }
      ]
    },
    {
      "cell_type": "code",
      "metadata": {
        "colab": {
          "base_uri": "https://localhost:8080/",
          "height": 297
        },
        "id": "KHr6SMg_QK7x",
        "outputId": "c66639d5-df66-4947-9867-f187d9e2e068"
      },
      "source": [
        "df.describe()"
      ],
      "execution_count": null,
      "outputs": [
        {
          "output_type": "execute_result",
          "data": {
            "text/html": [
              "<div>\n",
              "<style scoped>\n",
              "    .dataframe tbody tr th:only-of-type {\n",
              "        vertical-align: middle;\n",
              "    }\n",
              "\n",
              "    .dataframe tbody tr th {\n",
              "        vertical-align: top;\n",
              "    }\n",
              "\n",
              "    .dataframe thead th {\n",
              "        text-align: right;\n",
              "    }\n",
              "</style>\n",
              "<table border=\"1\" class=\"dataframe\">\n",
              "  <thead>\n",
              "    <tr style=\"text-align: right;\">\n",
              "      <th></th>\n",
              "      <th>sentiment</th>\n",
              "      <th>review_len</th>\n",
              "    </tr>\n",
              "  </thead>\n",
              "  <tbody>\n",
              "    <tr>\n",
              "      <th>count</th>\n",
              "      <td>50000.000000</td>\n",
              "      <td>50000.000000</td>\n",
              "    </tr>\n",
              "    <tr>\n",
              "      <th>mean</th>\n",
              "      <td>0.500000</td>\n",
              "      <td>129.720560</td>\n",
              "    </tr>\n",
              "    <tr>\n",
              "      <th>std</th>\n",
              "      <td>0.500005</td>\n",
              "      <td>96.151423</td>\n",
              "    </tr>\n",
              "    <tr>\n",
              "      <th>min</th>\n",
              "      <td>0.000000</td>\n",
              "      <td>4.000000</td>\n",
              "    </tr>\n",
              "    <tr>\n",
              "      <th>25%</th>\n",
              "      <td>0.000000</td>\n",
              "      <td>71.000000</td>\n",
              "    </tr>\n",
              "    <tr>\n",
              "      <th>50%</th>\n",
              "      <td>0.500000</td>\n",
              "      <td>97.000000</td>\n",
              "    </tr>\n",
              "    <tr>\n",
              "      <th>75%</th>\n",
              "      <td>1.000000</td>\n",
              "      <td>158.000000</td>\n",
              "    </tr>\n",
              "    <tr>\n",
              "      <th>max</th>\n",
              "      <td>1.000000</td>\n",
              "      <td>1481.000000</td>\n",
              "    </tr>\n",
              "  </tbody>\n",
              "</table>\n",
              "</div>"
            ],
            "text/plain": [
              "          sentiment    review_len\n",
              "count  50000.000000  50000.000000\n",
              "mean       0.500000    129.720560\n",
              "std        0.500005     96.151423\n",
              "min        0.000000      4.000000\n",
              "25%        0.000000     71.000000\n",
              "50%        0.500000     97.000000\n",
              "75%        1.000000    158.000000\n",
              "max        1.000000   1481.000000"
            ]
          },
          "metadata": {
            "tags": []
          },
          "execution_count": 169
        }
      ]
    },
    {
      "cell_type": "code",
      "metadata": {
        "colab": {
          "base_uri": "https://localhost:8080/"
        },
        "id": "MrWCEzOKXS1E",
        "outputId": "2504bb97-9fc1-464e-9f82-b9cad9949f6c"
      },
      "source": [
        "# Check how much sequences are covered fully under 250 words\n",
        "\n",
        "len(df[df.review_len <= max_len])"
      ],
      "execution_count": null,
      "outputs": [
        {
          "output_type": "execute_result",
          "data": {
            "text/plain": [
              "44870"
            ]
          },
          "metadata": {
            "tags": []
          },
          "execution_count": 170
        }
      ]
    },
    {
      "cell_type": "code",
      "metadata": {
        "id": "wjuCPsE7YB2F"
      },
      "source": [
        "# Set Pad Sequences\n",
        "\n",
        "padded_seq = pad_sequences(sequences, maxlen=max_len, padding=pad_typ, truncating=trunc_typ)"
      ],
      "execution_count": null,
      "outputs": []
    },
    {
      "cell_type": "code",
      "metadata": {
        "colab": {
          "base_uri": "https://localhost:8080/"
        },
        "id": "2jv6vdQDZc2R",
        "outputId": "8aab1a7d-feb8-446a-d72d-edd185611e9b"
      },
      "source": [
        "print(\"\\n Sample Review = \", df.review[0])\n",
        "print(\"\\n Sample Sequences = \", sequences[0])\n",
        "print(\"\\n Sample Padded Sequences = \", padded_seq[0])"
      ],
      "execution_count": null,
      "outputs": [
        {
          "output_type": "stream",
          "text": [
            "\n",
            " Sample Review =  ['one', 'reviewers', 'mentioned', 'watching', 'oz', 'episode', 'hooked', 'they', 'right', 'exactly', 'happened', 'the', 'first', 'thing', 'struck', 'oz', 'brutality', 'unflinching', 'scenes', 'violence', 'set', 'right', 'word', 'go', 'trust', 'show', 'faint', 'hearted', 'timid', 'this', 'show', 'pulls', 'punches', 'regards', 'drugs', 'sex', 'violence', 'its', 'hardcore', 'classic', 'use', 'word', 'it', 'called', 'oz', 'nickname', 'given', 'oswald', 'maximum', 'security', 'state', 'penitentary', 'it', 'focuses', 'mainly', 'emerald', 'city', 'experimental', 'section', 'prison', 'cells', 'glass', 'fronts', 'face', 'inwards', 'privacy', 'high', 'agenda', 'em', 'city', 'home', 'many', 'aryans', 'muslims', 'gangstas', 'latinos', 'christians', 'italians', 'irish', 'scuffles', 'death', 'stares', 'dodgy', 'dealings', 'shady', 'agreements', 'never', 'far', 'away', 'i', 'would', 'say', 'main', 'appeal', 'show', 'due', 'fact', 'goes', 'shows', 'dare', 'forget', 'pretty', 'pictures', 'painted', 'mainstream', 'audiences', 'forget', 'charm', 'forget', 'romance', 'oz', 'mess', 'around', 'the', 'first', 'episode', 'i', 'ever', 'saw', 'struck', 'nasty', 'surreal', 'i', 'say', 'i', 'ready', 'i', 'watched', 'i', 'developed', 'taste', 'oz', 'got', 'accustomed', 'high', 'levels', 'graphic', 'violence', 'not', 'violence', 'injustice', 'crooked', 'guards', 'sold', 'nickel', 'inmates', 'kill', 'order', 'get', 'away', 'well', 'mannered', 'middle', 'class', 'inmates', 'turned', 'prison', 'bitches', 'due', 'lack', 'street', 'skills', 'prison', 'experience', 'watching', 'oz', 'may', 'become', 'comfortable', 'uncomfortable', 'viewing', 'thats', 'get', 'touch', 'darker', 'side']\n",
            "\n",
            " Sample Sequences =  [6, 1977, 974, 67, 3009, 305, 3123, 110, 114, 529, 506, 3, 24, 66, 3168, 3009, 5282, 1, 61, 475, 174, 114, 562, 63, 1657, 46, 7773, 2258, 1, 9, 46, 2519, 5808, 5427, 1386, 281, 475, 729, 3734, 265, 266, 562, 8, 342, 3009, 1, 267, 1, 6752, 2492, 955, 1, 8, 2634, 1326, 1, 434, 4593, 2384, 1107, 6890, 2835, 1, 296, 1, 1, 206, 4806, 2836, 434, 251, 38, 1, 8027, 1, 1, 4948, 7653, 2373, 1, 233, 8950, 7145, 1, 8545, 1, 42, 132, 149, 2, 13, 59, 188, 1240, 46, 591, 103, 175, 182, 2945, 734, 92, 1217, 4078, 2420, 1138, 734, 1347, 734, 785, 3009, 863, 94, 3, 24, 305, 2, 52, 120, 3168, 1536, 2163, 2, 59, 2, 1497, 2, 198, 2, 1331, 1181, 3009, 101, 1, 206, 1956, 2055, 475, 157, 475, 7536, 7038, 4918, 2906, 1, 6753, 409, 542, 20, 149, 17, 7476, 553, 609, 6753, 564, 1107, 1, 591, 480, 814, 1939, 1107, 465, 67, 3009, 108, 335, 3752, 3236, 710, 1514, 20, 1125, 4012, 393]\n",
            "\n",
            " Sample Padded Sequences =  [   6 1977  974   67 3009  305 3123  110  114  529  506    3   24   66\n",
            " 3168 3009 5282    1   61  475  174  114  562   63 1657   46 7773 2258\n",
            "    1    9   46 2519 5808 5427 1386  281  475  729 3734  265  266  562\n",
            "    8  342 3009    1  267    1 6752 2492  955    1    8 2634 1326    1\n",
            "  434 4593 2384 1107 6890 2835    1  296    1    1  206 4806 2836  434\n",
            "  251   38    1 8027    1    1 4948 7653 2373    1  233 8950 7145    1\n",
            " 8545    1   42  132  149    2   13   59  188 1240   46  591  103  175\n",
            "  182 2945  734   92 1217 4078 2420 1138  734 1347  734  785 3009  863\n",
            "   94    3   24  305    2   52  120 3168 1536 2163    2   59    2 1497\n",
            "    2  198    2 1331 1181 3009  101    1  206 1956 2055  475  157  475\n",
            " 7536 7038 4918 2906    1 6753  409  542   20  149   17 7476  553  609\n",
            " 6753  564 1107    1  591  480  814 1939 1107  465   67 3009  108  335\n",
            " 3752 3236  710 1514   20 1125 4012  393    0    0    0    0    0    0\n",
            "    0    0    0    0    0    0    0    0    0    0    0    0    0    0\n",
            "    0    0    0    0    0    0    0    0    0    0    0    0    0    0\n",
            "    0    0    0    0    0    0    0    0    0    0    0    0    0    0\n",
            "    0    0    0    0    0    0    0    0    0    0    0    0    0    0\n",
            "    0    0    0    0    0    0    0    0    0    0    0    0]\n"
          ],
          "name": "stdout"
        }
      ]
    },
    {
      "cell_type": "code",
      "metadata": {
        "colab": {
          "base_uri": "https://localhost:8080/",
          "height": 111
        },
        "id": "J8G61JHkaVrC",
        "outputId": "ec6e94bb-bd14-4dc0-8f23-393f52d1746f"
      },
      "source": [
        "df['padded_seq'] = padded_seq.tolist()\n",
        "df.head(2)"
      ],
      "execution_count": null,
      "outputs": [
        {
          "output_type": "execute_result",
          "data": {
            "text/html": [
              "<div>\n",
              "<style scoped>\n",
              "    .dataframe tbody tr th:only-of-type {\n",
              "        vertical-align: middle;\n",
              "    }\n",
              "\n",
              "    .dataframe tbody tr th {\n",
              "        vertical-align: top;\n",
              "    }\n",
              "\n",
              "    .dataframe thead th {\n",
              "        text-align: right;\n",
              "    }\n",
              "</style>\n",
              "<table border=\"1\" class=\"dataframe\">\n",
              "  <thead>\n",
              "    <tr style=\"text-align: right;\">\n",
              "      <th></th>\n",
              "      <th>review</th>\n",
              "      <th>sentiment</th>\n",
              "      <th>review_len</th>\n",
              "      <th>padded_seq</th>\n",
              "    </tr>\n",
              "  </thead>\n",
              "  <tbody>\n",
              "    <tr>\n",
              "      <th>0</th>\n",
              "      <td>[one, reviewers, mentioned, watching, oz, epis...</td>\n",
              "      <td>1</td>\n",
              "      <td>176</td>\n",
              "      <td>[6, 1977, 974, 67, 3009, 305, 3123, 110, 114, ...</td>\n",
              "    </tr>\n",
              "    <tr>\n",
              "      <th>1</th>\n",
              "      <td>[a, wonderful, little, production, the, filmin...</td>\n",
              "      <td>1</td>\n",
              "      <td>93</td>\n",
              "      <td>[40, 300, 49, 260, 3, 1290, 2901, 1, 73, 11, 2...</td>\n",
              "    </tr>\n",
              "  </tbody>\n",
              "</table>\n",
              "</div>"
            ],
            "text/plain": [
              "                                              review  ...                                         padded_seq\n",
              "0  [one, reviewers, mentioned, watching, oz, epis...  ...  [6, 1977, 974, 67, 3009, 305, 3123, 110, 114, ...\n",
              "1  [a, wonderful, little, production, the, filmin...  ...  [40, 300, 49, 260, 3, 1290, 2901, 1, 73, 11, 2...\n",
              "\n",
              "[2 rows x 4 columns]"
            ]
          },
          "metadata": {
            "tags": []
          },
          "execution_count": 173
        }
      ]
    },
    {
      "cell_type": "code",
      "metadata": {
        "id": "zi9RW5siaDA4",
        "colab": {
          "base_uri": "https://localhost:8080/",
          "height": 232
        },
        "outputId": "104a8f54-1b0f-4b4e-a287-99e03a16b1a6"
      },
      "source": [
        "# encode sentiment\n",
        "df['sentiment'] = df['sentiment'].replace('positive', 1)\n",
        "df['sentiment'] = df['sentiment'].replace('negative', 0)\n",
        "\n",
        "x_data = padded_seq[:35000]\n",
        "x_label = df['sentiment'][:35000]\n",
        "y_data = padded_seq[35000:]\n",
        "y_label = df['sentiment'][35000:]"
      ],
      "execution_count": 19,
      "outputs": [
        {
          "output_type": "error",
          "ename": "NameError",
          "evalue": "ignored",
          "traceback": [
            "\u001b[0;31m---------------------------------------------------------------------------\u001b[0m",
            "\u001b[0;31mNameError\u001b[0m                                 Traceback (most recent call last)",
            "\u001b[0;32m<ipython-input-19-15a139e5ec45>\u001b[0m in \u001b[0;36m<module>\u001b[0;34m()\u001b[0m\n\u001b[1;32m      3\u001b[0m \u001b[0mdf\u001b[0m\u001b[0;34m[\u001b[0m\u001b[0;34m'sentiment'\u001b[0m\u001b[0;34m]\u001b[0m \u001b[0;34m=\u001b[0m \u001b[0mdf\u001b[0m\u001b[0;34m[\u001b[0m\u001b[0;34m'sentiment'\u001b[0m\u001b[0;34m]\u001b[0m\u001b[0;34m.\u001b[0m\u001b[0mreplace\u001b[0m\u001b[0;34m(\u001b[0m\u001b[0;34m'negative'\u001b[0m\u001b[0;34m,\u001b[0m \u001b[0;36m0\u001b[0m\u001b[0;34m)\u001b[0m\u001b[0;34m\u001b[0m\u001b[0;34m\u001b[0m\u001b[0m\n\u001b[1;32m      4\u001b[0m \u001b[0;34m\u001b[0m\u001b[0m\n\u001b[0;32m----> 5\u001b[0;31m \u001b[0mx_data\u001b[0m \u001b[0;34m=\u001b[0m \u001b[0mpadded_seq\u001b[0m\u001b[0;34m[\u001b[0m\u001b[0;34m:\u001b[0m\u001b[0;36m35000\u001b[0m\u001b[0;34m]\u001b[0m\u001b[0;34m\u001b[0m\u001b[0;34m\u001b[0m\u001b[0m\n\u001b[0m\u001b[1;32m      6\u001b[0m \u001b[0mx_label\u001b[0m \u001b[0;34m=\u001b[0m \u001b[0mdf\u001b[0m\u001b[0;34m[\u001b[0m\u001b[0;34m'sentiment'\u001b[0m\u001b[0;34m]\u001b[0m\u001b[0;34m[\u001b[0m\u001b[0;34m:\u001b[0m\u001b[0;36m35000\u001b[0m\u001b[0;34m]\u001b[0m\u001b[0;34m\u001b[0m\u001b[0;34m\u001b[0m\u001b[0m\n\u001b[1;32m      7\u001b[0m \u001b[0my_data\u001b[0m \u001b[0;34m=\u001b[0m \u001b[0mpadded_seq\u001b[0m\u001b[0;34m[\u001b[0m\u001b[0;36m35000\u001b[0m\u001b[0;34m:\u001b[0m\u001b[0;34m]\u001b[0m\u001b[0;34m\u001b[0m\u001b[0;34m\u001b[0m\u001b[0m\n",
            "\u001b[0;31mNameError\u001b[0m: name 'padded_seq' is not defined"
          ]
        }
      ]
    },
    {
      "cell_type": "markdown",
      "metadata": {
        "id": "HkrQiG-sLLai"
      },
      "source": [
        "### **After loading directly jump to here...**"
      ]
    },
    {
      "cell_type": "code",
      "metadata": {
        "id": "ZYaoGdoeZsFW"
      },
      "source": [
        "import pandas as pd\n",
        "import numpy as np\n",
        "import random\n",
        "\n",
        "def reset_random_seeds():\n",
        "   os.environ['PYTHONHASHSEED']=str(1)\n",
        "   tf.random.set_seed(1)\n",
        "   np.random.seed(1)\n",
        "   random.seed(1)\n",
        "\n",
        "#make some random data\n",
        "reset_random_seeds()"
      ],
      "execution_count": 57,
      "outputs": []
    },
    {
      "cell_type": "code",
      "metadata": {
        "id": "u2aCjcvNhp7h"
      },
      "source": [
        "# encode sentiment\n",
        "df['sentiment'] = df['sentiment'].replace('positive', 1)\n",
        "df['sentiment'] = df['sentiment'].replace('negative', 0)\n",
        "\n",
        "df['review'] = df['review'].replace({'<.*?>': ''}, regex = True) # remove html tag\n",
        "df['review'] = df['review'].replace({'[^A-Za-z]': ' '}, regex = True) # remove non alphabet\n",
        "\n",
        "\n",
        "x_data = df['review'][:35000]\n",
        "x_label = df['sentiment'][:35000]\n",
        "y_data = df['review'][35000:]\n",
        "y_label = df['sentiment'][35000:]\n",
        "# print(list(x_data[0:5]))\n",
        "# print(list(x_label[0:5]))"
      ],
      "execution_count": 44,
      "outputs": []
    },
    {
      "cell_type": "code",
      "metadata": {
        "colab": {
          "base_uri": "https://localhost:8080/"
        },
        "id": "H3sPvIIalvj_",
        "outputId": "e24be893-d6a6-4b23-92fd-68d2021d9347"
      },
      "source": [
        "import tensorflow_hub as hub\n",
        "\n",
        "embed = hub.load(\"https://tfhub.dev/google/nnlm-en-dim128/2\")\n",
        "# embeddings = embed([\"cat is on the mat\", \"dog is in the fog\"])\n",
        "# embeddings = embed(df[:35000])"
      ],
      "execution_count": 45,
      "outputs": [
        {
          "output_type": "stream",
          "text": [
            "WARNING:tensorflow:11 out of the last 11 calls to <function recreate_function.<locals>.restored_function_body at 0x7f0c5c2fd170> triggered tf.function retracing. Tracing is expensive and the excessive number of tracings could be due to (1) creating @tf.function repeatedly in a loop, (2) passing tensors with different shapes, (3) passing Python objects instead of tensors. For (1), please define your @tf.function outside of the loop. For (2), @tf.function has experimental_relax_shapes=True option that relaxes argument shapes that can avoid unnecessary retracing. For (3), please refer to https://www.tensorflow.org/guide/function#controlling_retracing and https://www.tensorflow.org/api_docs/python/tf/function for  more details.\n"
          ],
          "name": "stdout"
        },
        {
          "output_type": "stream",
          "text": [
            "WARNING:tensorflow:11 out of the last 11 calls to <function recreate_function.<locals>.restored_function_body at 0x7f0c5c2fd170> triggered tf.function retracing. Tracing is expensive and the excessive number of tracings could be due to (1) creating @tf.function repeatedly in a loop, (2) passing tensors with different shapes, (3) passing Python objects instead of tensors. For (1), please define your @tf.function outside of the loop. For (2), @tf.function has experimental_relax_shapes=True option that relaxes argument shapes that can avoid unnecessary retracing. For (3), please refer to https://www.tensorflow.org/guide/function#controlling_retracing and https://www.tensorflow.org/api_docs/python/tf/function for  more details.\n"
          ],
          "name": "stderr"
        },
        {
          "output_type": "stream",
          "text": [
            "WARNING:tensorflow:11 out of the last 11 calls to <function recreate_function.<locals>.restored_function_body at 0x7f0c5c2fd830> triggered tf.function retracing. Tracing is expensive and the excessive number of tracings could be due to (1) creating @tf.function repeatedly in a loop, (2) passing tensors with different shapes, (3) passing Python objects instead of tensors. For (1), please define your @tf.function outside of the loop. For (2), @tf.function has experimental_relax_shapes=True option that relaxes argument shapes that can avoid unnecessary retracing. For (3), please refer to https://www.tensorflow.org/guide/function#controlling_retracing and https://www.tensorflow.org/api_docs/python/tf/function for  more details.\n"
          ],
          "name": "stdout"
        },
        {
          "output_type": "stream",
          "text": [
            "WARNING:tensorflow:11 out of the last 11 calls to <function recreate_function.<locals>.restored_function_body at 0x7f0c5c2fd830> triggered tf.function retracing. Tracing is expensive and the excessive number of tracings could be due to (1) creating @tf.function repeatedly in a loop, (2) passing tensors with different shapes, (3) passing Python objects instead of tensors. For (1), please define your @tf.function outside of the loop. For (2), @tf.function has experimental_relax_shapes=True option that relaxes argument shapes that can avoid unnecessary retracing. For (3), please refer to https://www.tensorflow.org/guide/function#controlling_retracing and https://www.tensorflow.org/api_docs/python/tf/function for  more details.\n"
          ],
          "name": "stderr"
        }
      ]
    },
    {
      "cell_type": "code",
      "metadata": {
        "id": "xZCpk0Wft-9M"
      },
      "source": [
        "# Model layer\n",
        "hub_layer = hub.KerasLayer(embed, input_shape=[], dtype=tf.string)\n",
        "model = tf.keras.Sequential([\n",
        "                             hub_layer,\n",
        "                             tf.keras.layers.Dense(64,activation='relu'),\n",
        "                             tf.keras.layers.Dense(8,activation='relu'),\n",
        "                            #  tf.keras.layers.Dense(16,activation='relu'),\n",
        "                            #  tf.keras.layers.Dense(8,activation='relu'),\n",
        "                             tf.keras.layers.Dense(1,activation='sigmoid')\n",
        "])"
      ],
      "execution_count": 58,
      "outputs": []
    },
    {
      "cell_type": "code",
      "metadata": {
        "id": "OmLrPrSXNi8D"
      },
      "source": [
        "# # Model layer\n",
        "# model = tf.keras.Sequential([\n",
        "#                              tf.keras.layers.Embedding(vocab_size, embedding_dim, input_length=max_len),\n",
        "#                              tf.keras.layers.Flatten(),\n",
        "#                              tf.keras.layers.Dense(6,activation='relu'),\n",
        "#                              tf.keras.layers.Dense(1,activation='sigmoid')\n",
        "# ])"
      ],
      "execution_count": 59,
      "outputs": []
    },
    {
      "cell_type": "code",
      "metadata": {
        "colab": {
          "base_uri": "https://localhost:8080/"
        },
        "id": "YC4hSLCXj9qn",
        "outputId": "3004e84d-5e7a-4ac0-d952-efb107690692"
      },
      "source": [
        "model.compile(loss='binary_crossentropy',optimizer='adam',metrics=['accuracy'])\n",
        "model.summary()"
      ],
      "execution_count": 60,
      "outputs": [
        {
          "output_type": "stream",
          "text": [
            "Model: \"sequential_5\"\n",
            "_________________________________________________________________\n",
            "Layer (type)                 Output Shape              Param #   \n",
            "=================================================================\n",
            "keras_layer_5 (KerasLayer)   (None, 128)               124642688 \n",
            "_________________________________________________________________\n",
            "dense_14 (Dense)             (None, 64)                8256      \n",
            "_________________________________________________________________\n",
            "dense_15 (Dense)             (None, 8)                 520       \n",
            "_________________________________________________________________\n",
            "dense_16 (Dense)             (None, 1)                 9         \n",
            "=================================================================\n",
            "Total params: 124,651,473\n",
            "Trainable params: 8,785\n",
            "Non-trainable params: 124,642,688\n",
            "_________________________________________________________________\n"
          ],
          "name": "stdout"
        }
      ]
    },
    {
      "cell_type": "code",
      "metadata": {
        "id": "KpCWCKDGYxoE"
      },
      "source": [
        "callback = tf.keras.callbacks.EarlyStopping(\n",
        "    monitor='val_loss', min_delta=0, patience=3, verbose=0,\n",
        "    mode='auto', baseline=None, restore_best_weights=True\n",
        ")"
      ],
      "execution_count": 63,
      "outputs": []
    },
    {
      "cell_type": "code",
      "metadata": {
        "colab": {
          "base_uri": "https://localhost:8080/"
        },
        "id": "ivV2AoFvkJeV",
        "outputId": "2afca4d3-af95-404c-8db2-d5e27ada11b9"
      },
      "source": [
        "history = model.fit(x_data,\n",
        "          x_label,\n",
        "          epochs=30,\n",
        "          validation_data=(y_data, y_label),\n",
        "          callbacks=[callback]\n",
        "          )"
      ],
      "execution_count": 62,
      "outputs": [
        {
          "output_type": "stream",
          "text": [
            "Epoch 1/30\n",
            "1094/1094 [==============================] - 9s 8ms/step - loss: 0.5003 - accuracy: 0.7651 - val_loss: 0.4184 - val_accuracy: 0.8093\n",
            "Epoch 2/30\n",
            "1094/1094 [==============================] - 8s 7ms/step - loss: 0.3987 - accuracy: 0.8249 - val_loss: 0.3814 - val_accuracy: 0.8311\n",
            "Epoch 3/30\n",
            "1094/1094 [==============================] - 8s 7ms/step - loss: 0.3884 - accuracy: 0.8266 - val_loss: 0.3776 - val_accuracy: 0.8329\n",
            "Epoch 4/30\n",
            "1094/1094 [==============================] - 8s 8ms/step - loss: 0.3816 - accuracy: 0.8298 - val_loss: 0.3757 - val_accuracy: 0.8335\n",
            "Epoch 5/30\n",
            "1094/1094 [==============================] - 8s 7ms/step - loss: 0.3769 - accuracy: 0.8307 - val_loss: 0.3804 - val_accuracy: 0.8293\n",
            "Epoch 6/30\n",
            "1094/1094 [==============================] - 8s 7ms/step - loss: 0.3706 - accuracy: 0.8322 - val_loss: 0.3885 - val_accuracy: 0.8265\n",
            "Epoch 7/30\n",
            "1094/1094 [==============================] - 8s 7ms/step - loss: 0.3654 - accuracy: 0.8382 - val_loss: 0.3829 - val_accuracy: 0.8287\n"
          ],
          "name": "stdout"
        }
      ]
    },
    {
      "cell_type": "code",
      "metadata": {
        "colab": {
          "base_uri": "https://localhost:8080/",
          "height": 602
        },
        "id": "yjNqsCKJZRTp",
        "outputId": "447b2793-96b3-406a-d67a-4b7842a677bd"
      },
      "source": [
        "import matplotlib.pyplot as plt\n",
        "\n",
        "acc = history.history['accuracy']\n",
        "val_acc = history.history['val_accuracy']\n",
        "loss = history.history['loss']\n",
        "val_loss = history.history['val_loss']\n",
        "\n",
        "epochs = range(len(acc))\n",
        "\n",
        "# Accuracy history graph for training and validation\n",
        "plt.plot(epochs, acc, 'r', label='Training accuracy')\n",
        "plt.plot(epochs, val_acc, 'b', label='Validation accuracy')\n",
        "plt.title('Training and validation accuracy')\n",
        "plt.xlabel(\"Epochs\")\n",
        "plt.ylabel(\"Accuracy\")\n",
        "plt.legend(loc=0)\n",
        "plt.figure()\n",
        "\n",
        "# Loss history graph for training and validation\n",
        "plt.plot(epochs, loss, 'r', label='Training Loss')\n",
        "plt.plot(epochs, val_loss, 'b', label='Validation Loss')\n",
        "plt.title('Training and validation loss')\n",
        "plt.xlabel(\"Epochs\")\n",
        "plt.ylabel(\"Loss\")\n",
        "plt.legend(loc=0)\n",
        "plt.figure()\n",
        "\n",
        "# show plot\n",
        "plt.show()"
      ],
      "execution_count": 54,
      "outputs": [
        {
          "output_type": "display_data",
          "data": {
            "image/png": "[encoded data removed]",
            "text/plain": [
              "<Figure size 432x288 with 1 Axes>"
            ]
          },
          "metadata": {
            "tags": []
          }
        },
        {
          "output_type": "display_data",
          "data": {
            "image/png": "[encoded data removed]",
            "text/plain": [
              "<Figure size 432x288 with 1 Axes>"
            ]
          },
          "metadata": {
            "tags": []
          }
        },
        {
          "output_type": "display_data",
          "data": {
            "text/plain": [
              "<Figure size 432x288 with 0 Axes>"
            ]
          },
          "metadata": {
            "tags": []
          }
        }
      ]
    },
    {
      "cell_type": "code",
      "metadata": {
        "id": "zfebAF3DOatC"
      },
      "source": [
        ""
      ],
      "execution_count": null,
      "outputs": []
    }
  ]
}