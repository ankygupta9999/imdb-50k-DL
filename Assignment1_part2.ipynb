{
  "nbformat": 4,
  "nbformat_minor": 0,
  "metadata": {
    "accelerator": "GPU",
    "colab": {
      "name": "Assignment1_part2.ipynb",
      "provenance": [],
      "collapsed_sections": []
    },
    "kernelspec": {
      "display_name": "Python 3",
      "language": "python",
      "name": "python3"
    },
    "language_info": {
      "codemirror_mode": {
        "name": "ipython",
        "version": 3
      },
      "file_extension": ".py",
      "mimetype": "text/x-python",
      "name": "python",
      "nbconvert_exporter": "python",
      "pygments_lexer": "ipython3",
      "version": "3.8.3"
    }
  },
  "cells": [
    {
      "cell_type": "markdown",
      "metadata": {
        "id": "_uoKUkTFQDQY"
      },
      "source": [
        "## 1. Import Libraries/ Dataset\n",
        "\n",
        "a. Import the required libraries and the dataset (use Google Drive if required).\n",
        "\n",
        "b. Check the GPU available (recommended- use free GPU provided by Google Colab)."
      ]
    },
    {
      "cell_type": "code",
      "metadata": {
        "colab": {
          "base_uri": "https://localhost:8080/"
        },
        "id": "NWnr89_JQRIE",
        "outputId": "d46c9296-1965-49f4-e8be-c3176520fb05"
      },
      "source": [
        "from google.colab import drive\n",
        "\n",
        "# mount google drive\n",
        "drive.mount('./drive')"
      ],
      "execution_count": 16,
      "outputs": [
        {
          "output_type": "stream",
          "text": [
            "Drive already mounted at ./drive; to attempt to forcibly remount, call drive.mount(\"./drive\", force_remount=True).\n"
          ],
          "name": "stdout"
        }
      ]
    },
    {
      "cell_type": "code",
      "metadata": {
        "colab": {
          "base_uri": "https://localhost:8080/",
          "height": 357
        },
        "id": "ZZ995S19QnzG",
        "outputId": "e9ac86e6-27d7-4181-e239-7af7680e6f66"
      },
      "source": [
        "import pandas as pd\n",
        "\n",
        "# set filepath\n",
        "filepath='./drive/MyDrive/Datasets/IMDB Dataset.csv'\n",
        "\n",
        "# load csv file in dataframe\n",
        "df = pd.read_csv(filepath)\n",
        "df.info()\n",
        "df.head()"
      ],
      "execution_count": 17,
      "outputs": [
        {
          "output_type": "stream",
          "text": [
            "<class 'pandas.core.frame.DataFrame'>\n",
            "RangeIndex: 50000 entries, 0 to 49999\n",
            "Data columns (total 2 columns):\n",
            " #   Column     Non-Null Count  Dtype \n",
            "---  ------     --------------  ----- \n",
            " 0   review     50000 non-null  object\n",
            " 1   sentiment  50000 non-null  object\n",
            "dtypes: object(2)\n",
            "memory usage: 781.4+ KB\n"
          ],
          "name": "stdout"
        },
        {
          "output_type": "execute_result",
          "data": {
            "text/html": [
              "<div>\n",
              "<style scoped>\n",
              "    .dataframe tbody tr th:only-of-type {\n",
              "        vertical-align: middle;\n",
              "    }\n",
              "\n",
              "    .dataframe tbody tr th {\n",
              "        vertical-align: top;\n",
              "    }\n",
              "\n",
              "    .dataframe thead th {\n",
              "        text-align: right;\n",
              "    }\n",
              "</style>\n",
              "<table border=\"1\" class=\"dataframe\">\n",
              "  <thead>\n",
              "    <tr style=\"text-align: right;\">\n",
              "      <th></th>\n",
              "      <th>review</th>\n",
              "      <th>sentiment</th>\n",
              "    </tr>\n",
              "  </thead>\n",
              "  <tbody>\n",
              "    <tr>\n",
              "      <th>0</th>\n",
              "      <td>One of the other reviewers has mentioned that ...</td>\n",
              "      <td>positive</td>\n",
              "    </tr>\n",
              "    <tr>\n",
              "      <th>1</th>\n",
              "      <td>A wonderful little production. &lt;br /&gt;&lt;br /&gt;The...</td>\n",
              "      <td>positive</td>\n",
              "    </tr>\n",
              "    <tr>\n",
              "      <th>2</th>\n",
              "      <td>I thought this was a wonderful way to spend ti...</td>\n",
              "      <td>positive</td>\n",
              "    </tr>\n",
              "    <tr>\n",
              "      <th>3</th>\n",
              "      <td>Basically there's a family where a little boy ...</td>\n",
              "      <td>negative</td>\n",
              "    </tr>\n",
              "    <tr>\n",
              "      <th>4</th>\n",
              "      <td>Petter Mattei's \"Love in the Time of Money\" is...</td>\n",
              "      <td>positive</td>\n",
              "    </tr>\n",
              "  </tbody>\n",
              "</table>\n",
              "</div>"
            ],
            "text/plain": [
              "                                              review sentiment\n",
              "0  One of the other reviewers has mentioned that ...  positive\n",
              "1  A wonderful little production. <br /><br />The...  positive\n",
              "2  I thought this was a wonderful way to spend ti...  positive\n",
              "3  Basically there's a family where a little boy ...  negative\n",
              "4  Petter Mattei's \"Love in the Time of Money\" is...  positive"
            ]
          },
          "metadata": {
            "tags": []
          },
          "execution_count": 17
        }
      ]
    },
    {
      "cell_type": "markdown",
      "metadata": {
        "id": "9l_yGybvQsDM"
      },
      "source": [
        "## 2. Data Visualization\n",
        "  \n",
        "a. Print at least two movie reviews from each class of the dataset, for a sanity check that labels match the text.\n",
        "\n",
        "b. Plot a bar graph of class distribution in a dataset. Each bar depicts the number of tweets belonging to a particular sentiment. (recommended - matplotlib/seaborn libraries)\n",
        "\n",
        "c. Any other visualizations that seem appropriate for this problem are encouraged but not necessary, for the points.\n",
        "\n",
        "d. Print the shapes of train and test data."
      ]
    },
    {
      "cell_type": "code",
      "metadata": {
        "colab": {
          "base_uri": "https://localhost:8080/",
          "height": 540
        },
        "id": "eJSr0ykkQvpb",
        "outputId": "dcc25a44-b578-47ad-fd34-5e48dbf70785"
      },
      "source": [
        "import seaborn as sns\n",
        "\n",
        "# print at leat two movie reviews from each class of the dataset,\n",
        "# for a sanity check that labels match the text\n",
        "for cls in df['sentiment'].unique():\n",
        "  print('\\n', 'Printing sample (2) movie reivews for class: ', cls)\n",
        "  print(df[df['sentiment'] == cls]['review'].head(2), '\\n')\n",
        "\n",
        "# Plot a bar graph of class distribution in a dataset.\n",
        "# Each bar depicts the number of tweets belonging to a particular sentiment.\n",
        "sns.set_theme(style=\"whitegrid\")\n",
        "ax = sns.countplot(data=df, x=\"sentiment\")\n",
        "\n",
        "x_data = df['review']       # Reviews/Input\n",
        "y_data = df['sentiment']    # Sentiment/Output\n",
        "\n",
        "# print shape of train and test data\n",
        "print('Review shape: ', x_data.shape)\n",
        "print('Sentiment shape: ', y_data.shape, '\\n')"
      ],
      "execution_count": 18,
      "outputs": [
        {
          "output_type": "stream",
          "text": [
            "\n",
            " Printing sample (2) movie reivews for class:  positive\n",
            "0    One of the other reviewers has mentioned that ...\n",
            "1    A wonderful little production. <br /><br />The...\n",
            "Name: review, dtype: object \n",
            "\n",
            "\n",
            " Printing sample (2) movie reivews for class:  negative\n",
            "3    Basically there's a family where a little boy ...\n",
            "7    This show was an amazing, fresh & innovative i...\n",
            "Name: review, dtype: object \n",
            "\n",
            "Review shape:  (50000,)\n",
            "Sentiment shape:  (50000,) \n",
            "\n"
          ],
          "name": "stdout"
        },
        {
          "output_type": "display_data",
          "data": {
            "image/png": "[encoded data removed]",
            "text/plain": [
              "<Figure size 432x288 with 1 Axes>"
            ]
          },
          "metadata": {
            "tags": []
          }
        }
      ]
    },
    {
      "cell_type": "markdown",
      "metadata": {
        "id": "oEnfyJhhQbuN"
      },
      "source": [
        "## 3. Data Pre-processing\n",
        "\n",
        "a. Need for this Step - Since the models we use cannot accept string inputs or cannot be of the string format. We have to come up with a way of handling this step. The discussion of different ways of handling this step is out of the scope of this assignment.\n",
        "\n",
        "b. Please use this pre-trained embedding layer from TensorFlow hub for this assignment. This link also has a code snippet on how to convert a sentence to a vector. Refer to that for further clarity on this subject.\n",
        "\n",
        "c. Bring the train and test data in the required format."
      ]
    },
    {
      "cell_type": "code",
      "metadata": {
        "id": "Mi1ifMDlXe2-"
      },
      "source": [
        "# pre-process review\n",
        "df['review'] = df['review'].replace({'<.*?>': ''}, regex = True) # remove html tag\n",
        "df['review'] = df['review'].replace({'[^A-Za-z]': ' '}, regex = True) # remove non alphabet\n",
        "\n",
        "# encode sentiment\n",
        "df['sentiment'] = df['sentiment'].replace('positive', 1)\n",
        "df['sentiment'] = df['sentiment'].replace('negative', 0)"
      ],
      "execution_count": 21,
      "outputs": []
    },
    {
      "cell_type": "code",
      "metadata": {
        "colab": {
          "base_uri": "https://localhost:8080/"
        },
        "id": "tkreWOUC2Crr",
        "outputId": "8ebe21a0-f998-4281-a313-e3bc259da183"
      },
      "source": [
        "import tensorflow as tf\n",
        "\n",
        "# split dataset\n",
        "x_train = df['review'][:35000]\n",
        "y_train = df['sentiment'][:35000]\n",
        "x_test = df['review'][35000:]\n",
        "y_test = df['sentiment'][35000:]\n",
        "\n",
        "#Converting to Tensor\n",
        "x_train_tf = tf.convert_to_tensor(x_train)\n",
        "y_train_tf = tf.convert_to_tensor(y_train)\n",
        "x_test_tf = tf.convert_to_tensor(x_test)\n",
        "y_test_tf = tf.convert_to_tensor(y_test)\n",
        "\n",
        "# print training set\n",
        "print('Train Set')\n",
        "print(x_train, '\\n')\n",
        "print(y_train, '\\n')\n",
        "\n",
        "# print test set\n",
        "print('Test Set')\n",
        "print(x_test, '\\n')\n",
        "print(y_test)"
      ],
      "execution_count": 22,
      "outputs": [
        {
          "output_type": "stream",
          "text": [
            "Train Set\n",
            "0        One of the other reviewers has mentioned that ...\n",
            "1        A wonderful little production  The filming tec...\n",
            "2        I thought this was a wonderful way to spend ti...\n",
            "3        Basically there s a family where a little boy ...\n",
            "4        Petter Mattei s  Love in the Time of Money  is...\n",
            "                               ...                        \n",
            "34995    Awful  Awful  Awful show   Real world  issues ...\n",
            "34996    I like action movies  I have a softspot for  B...\n",
            "34997    It begins on a nice note only to falter quickl...\n",
            "34998    Aardman does it again  Next to Pixar  Aardman ...\n",
            "34999    This movie made me laugh so much  It was a blo...\n",
            "Name: review, Length: 35000, dtype: object \n",
            "\n",
            "0        1\n",
            "1        1\n",
            "2        1\n",
            "3        0\n",
            "4        1\n",
            "        ..\n",
            "34995    0\n",
            "34996    0\n",
            "34997    0\n",
            "34998    1\n",
            "34999    0\n",
            "Name: sentiment, Length: 35000, dtype: int64 \n",
            "\n",
            "Test Set\n",
            "35000    Just don t bother  I thought I would see a mov...\n",
            "35001    Be careful with this one  Once you get yer mit...\n",
            "35002    Chili Palmer is tired of doing movies and know...\n",
            "35003    Following is a little known      British film ...\n",
            "35004    Dark Angel is a cross between Huxley s Brave N...\n",
            "                               ...                        \n",
            "49995    I thought this movie did a down right good job...\n",
            "49996    Bad plot  bad dialogue  bad acting  idiotic di...\n",
            "49997    I am a Catholic taught in parochial elementary...\n",
            "49998    I m going to have to disagree with the previou...\n",
            "49999    No one expects the Star Trek movies to be high...\n",
            "Name: review, Length: 15000, dtype: object \n",
            "\n",
            "35000    0\n",
            "35001    1\n",
            "35002    0\n",
            "35003    1\n",
            "35004    1\n",
            "        ..\n",
            "49995    1\n",
            "49996    0\n",
            "49997    0\n",
            "49998    0\n",
            "49999    0\n",
            "Name: sentiment, Length: 15000, dtype: int64\n"
          ],
          "name": "stdout"
        }
      ]
    },
    {
      "cell_type": "code",
      "metadata": {
        "colab": {
          "base_uri": "https://localhost:8080/",
          "height": 111
        },
        "id": "bu8trwDb0_MQ",
        "outputId": "78c3d7d7-0240-4c27-e458-07810766eb62"
      },
      "source": [
        "import os\n",
        "import numpy as np # linear algebra\n",
        "import random\n",
        "from tensorflow.keras.preprocessing.text import Tokenizer # to encode text to int\n",
        "from tensorflow.keras.preprocessing.sequence import pad_sequences # to do padding or truncating\n",
        "\n",
        "# funtion for resetting random seeds\n",
        "def reset_random_seeds():\n",
        "   os.environ['PYTHONHASHSEED']=str(1)\n",
        "   tf.random.set_seed(1)\n",
        "   np.random.seed(1)\n",
        "   random.seed(1)\n",
        "\n",
        "#make some random data\n",
        "reset_random_seeds()\n",
        "\n",
        "df.head(2)"
      ],
      "execution_count": 23,
      "outputs": [
        {
          "output_type": "execute_result",
          "data": {
            "text/html": [
              "<div>\n",
              "<style scoped>\n",
              "    .dataframe tbody tr th:only-of-type {\n",
              "        vertical-align: middle;\n",
              "    }\n",
              "\n",
              "    .dataframe tbody tr th {\n",
              "        vertical-align: top;\n",
              "    }\n",
              "\n",
              "    .dataframe thead th {\n",
              "        text-align: right;\n",
              "    }\n",
              "</style>\n",
              "<table border=\"1\" class=\"dataframe\">\n",
              "  <thead>\n",
              "    <tr style=\"text-align: right;\">\n",
              "      <th></th>\n",
              "      <th>review</th>\n",
              "      <th>sentiment</th>\n",
              "    </tr>\n",
              "  </thead>\n",
              "  <tbody>\n",
              "    <tr>\n",
              "      <th>0</th>\n",
              "      <td>One of the other reviewers has mentioned that ...</td>\n",
              "      <td>1</td>\n",
              "    </tr>\n",
              "    <tr>\n",
              "      <th>1</th>\n",
              "      <td>A wonderful little production  The filming tec...</td>\n",
              "      <td>1</td>\n",
              "    </tr>\n",
              "  </tbody>\n",
              "</table>\n",
              "</div>"
            ],
            "text/plain": [
              "                                              review  sentiment\n",
              "0  One of the other reviewers has mentioned that ...          1\n",
              "1  A wonderful little production  The filming tec...          1"
            ]
          },
          "metadata": {
            "tags": []
          },
          "execution_count": 23
        }
      ]
    },
    {
      "cell_type": "markdown",
      "metadata": {
        "id": "4LljVMG8P3tg"
      },
      "source": [
        "## 4. Model Building\n",
        "a. Sequential Model layers - Use AT LEAST 3 hidden layers with appropriate input for each. Choose the best number for hidden units and give reasons.\n",
        "\n",
        "b. Add L2 regularization to all the layers.\n",
        "\n",
        "c. Add one layer of dropout at the appropriate position and give reasons.\n",
        "\n",
        "d. Choose the appropriate activation function for all the layers.\n",
        "\n",
        "e. Print the model summary.\n",
        "\n",
        "**To be done:**\n",
        "\n",
        "Add one layer of dropout at the appropriate position and give reasons.\n",
        "\n",
        "Choose the best number for hidden units and give reasons."
      ]
    },
    {
      "cell_type": "code",
      "metadata": {
        "colab": {
          "base_uri": "https://localhost:8080/"
        },
        "id": "9NC-WgkGwNFD",
        "outputId": "af12ebea-f4af-46a2-98b7-33c70a8ef334"
      },
      "source": [
        "import tensorflow_hub as hub\n",
        "from tensorflow import keras\n",
        "from tensorflow.keras.layers import Embedding, Dropout\n",
        "from tensorflow.keras.layers import Reshape\n",
        "\n",
        "# set model parameters\n",
        "num_batch_size = 128\n",
        "num_epochs=10\n",
        "#num_steps_per_epoch=274 # total training inputs/ batch size = 35000/128\n",
        "#num_val_steps=118 # total validation inputs/ batch size = 15000/128\n",
        "num_dropout=0.3\n",
        "num_l2_reg_penalty=0.0001\n",
        "num_lr=1e-4\n",
        "opt = keras.optimizers.Adam(learning_rate=num_lr)\n",
        "str_loss = 'binary_crossentropy'\n",
        "\n",
        "print('Review training data shape: ', x_train.shape)\n",
        "print('Sentiment training data shape: ', y_train.shape, '\\n')\n",
        "\n",
        "# import pre-trained embedding layer\n",
        "#embed = hub.load(\"https://tfhub.dev/google/nnlm-en-dim128/2\")\n",
        "hub_layer = hub.KerasLayer(\"https://tfhub.dev/google/nnlm-en-dim128/2\",\n",
        "                           input_shape=[], dtype=tf.string)\n",
        "\n",
        "# build model\n",
        "model = keras.Sequential()\n",
        "#model.add(Reshape((35000, max_length)))\n",
        "model.add(hub_layer) # add layer from tensorflow hub\n",
        "model.add(keras.layers.Dense(64, activation='relu', kernel_regularizer=tf.keras.regularizers.l2(num_l2_reg_penalty))) # Layer 1\n",
        "model.add(Dropout(num_dropout)) # add dropout\n",
        "model.add(keras.layers.Dense(32, activation='relu', kernel_regularizer=tf.keras.regularizers.l2(num_l2_reg_penalty))) # Layer 2\n",
        "model.add(keras.layers.Dense(16, activation='relu', kernel_regularizer=tf.keras.regularizers.l2(num_l2_reg_penalty))) # Layer 3\n",
        "model.add(keras.layers.Dense(8, activation='relu', kernel_regularizer=tf.keras.regularizers.l2(num_l2_reg_penalty))) # Layer 4\n",
        "model.add(keras.layers.Dense(1, activation='sigmoid', kernel_regularizer=tf.keras.regularizers.l2(num_l2_reg_penalty))) # Layer output\n",
        "\n",
        "# print model summary\n",
        "model.summary()"
      ],
      "execution_count": 24,
      "outputs": [
        {
          "output_type": "stream",
          "text": [
            "Review training data shape:  (35000,)\n",
            "Sentiment training data shape:  (35000,) \n",
            "\n",
            "Model: \"sequential_1\"\n",
            "_________________________________________________________________\n",
            "Layer (type)                 Output Shape              Param #   \n",
            "=================================================================\n",
            "keras_layer_1 (KerasLayer)   (None, 128)               124642688 \n",
            "_________________________________________________________________\n",
            "dense_5 (Dense)              (None, 64)                8256      \n",
            "_________________________________________________________________\n",
            "dropout_1 (Dropout)          (None, 64)                0         \n",
            "_________________________________________________________________\n",
            "dense_6 (Dense)              (None, 32)                2080      \n",
            "_________________________________________________________________\n",
            "dense_7 (Dense)              (None, 16)                528       \n",
            "_________________________________________________________________\n",
            "dense_8 (Dense)              (None, 8)                 136       \n",
            "_________________________________________________________________\n",
            "dense_9 (Dense)              (None, 1)                 9         \n",
            "=================================================================\n",
            "Total params: 124,653,697\n",
            "Trainable params: 11,009\n",
            "Non-trainable params: 124,642,688\n",
            "_________________________________________________________________\n"
          ],
          "name": "stdout"
        }
      ]
    },
    {
      "cell_type": "markdown",
      "metadata": {
        "id": "yjRbsq4JPhCt"
      },
      "source": [
        "## 5. Model Compilation\n",
        "a. Compile the model with the appropriate loss function.\n",
        "\n",
        "b. Use an appropriate optimizer. Give reasons for the choice of learning rate and its value.\n",
        "\n",
        "c. Use accuracy as a metric.\n",
        "\n",
        "**To be done:**\n",
        "\n",
        "Give reasons for the choice of learning rate and its value."
      ]
    },
    {
      "cell_type": "code",
      "metadata": {
        "id": "DFviXSss3ddy"
      },
      "source": [
        "# compile model\n",
        "model.compile(optimizer = opt, loss = str_loss, metrics = ['accuracy'])"
      ],
      "execution_count": 25,
      "outputs": []
    },
    {
      "cell_type": "markdown",
      "metadata": {
        "id": "uxyWUmutPuVf"
      },
      "source": [
        "## 6. Model Training\n",
        "a. Train the model for an appropriate number of epochs. Print the train and validation accuracy and loss for each epoch. Use the appropriate batch size.\n",
        "\n",
        "b. Plot the loss and accuracy history graphs for both train and validation set. Print the total time taken for training."
      ]
    },
    {
      "cell_type": "code",
      "metadata": {
        "colab": {
          "base_uri": "https://localhost:8080/"
        },
        "id": "_JKAiKII3kW_",
        "outputId": "4e6a574d-ede5-42bb-989d-01ad67a7c861"
      },
      "source": [
        "from tensorflow.keras.callbacks import ModelCheckpoint   # save model\n",
        "from timeit import default_timer as timer\n",
        "\n",
        "# checkpoint callback\n",
        "checkpoint = ModelCheckpoint(\n",
        "    'models/nlp.h5',\n",
        "    monitor='accuracy',\n",
        "    save_best_only=True,\n",
        "    verbose=1\n",
        ")\n",
        "\n",
        "# early stopping allback\n",
        "stopping = tf.keras.callbacks.EarlyStopping(\n",
        "    monitor='val_loss', min_delta=0, patience=3, verbose=0,\n",
        "    mode='auto', baseline=None, restore_best_weights=True\n",
        ")\n",
        "\n",
        "# timing callback class\n",
        "class TimingCallback(keras.callbacks.Callback):\n",
        "    def __init__(self, logs={}):\n",
        "        self.logs=[]\n",
        "    def on_epoch_begin(self, epoch, logs={}):\n",
        "        self.starttime = timer()\n",
        "    def on_epoch_end(self, epoch, logs={}):\n",
        "        self.logs.append(timer()-self.starttime)\n",
        "\n",
        "# timing callback\n",
        "timing = TimingCallback()\n",
        "\n",
        "# train model\n",
        "history = model.fit(x_train_tf, y_train_tf, batch_size = num_batch_size, epochs = num_epochs, validation_data=(x_test_tf, y_test_tf), callbacks=[stopping, checkpoint, timing])\n",
        "\n",
        "# total training time\n",
        "print('\\n', 'Total time taken for training: {:.2f}'.format(sum(timing.logs)), 'seconds', '\\n')"
      ],
      "execution_count": 26,
      "outputs": [
        {
          "output_type": "stream",
          "text": [
            "Epoch 1/10\n",
            "274/274 [==============================] - 5s 16ms/step - loss: 0.7069 - accuracy: 0.5232 - val_loss: 0.6691 - val_accuracy: 0.7056\n",
            "\n",
            "Epoch 00001: accuracy improved from -inf to 0.57217, saving model to models/nlp.h5\n",
            "Epoch 2/10\n",
            "274/274 [==============================] - 4s 16ms/step - loss: 0.6473 - accuracy: 0.6886 - val_loss: 0.5252 - val_accuracy: 0.7807\n",
            "\n",
            "Epoch 00002: accuracy improved from 0.57217 to 0.70863, saving model to models/nlp.h5\n",
            "Epoch 3/10\n",
            "274/274 [==============================] - 4s 15ms/step - loss: 0.5332 - accuracy: 0.7573 - val_loss: 0.4638 - val_accuracy: 0.8001\n",
            "\n",
            "Epoch 00003: accuracy improved from 0.70863 to 0.76894, saving model to models/nlp.h5\n",
            "Epoch 4/10\n",
            "274/274 [==============================] - 4s 15ms/step - loss: 0.4828 - accuracy: 0.7827 - val_loss: 0.4416 - val_accuracy: 0.8102\n",
            "\n",
            "Epoch 00004: accuracy improved from 0.76894 to 0.78643, saving model to models/nlp.h5\n",
            "Epoch 5/10\n",
            "274/274 [==============================] - 4s 15ms/step - loss: 0.4636 - accuracy: 0.7930 - val_loss: 0.4316 - val_accuracy: 0.8151\n",
            "\n",
            "Epoch 00005: accuracy improved from 0.78643 to 0.79571, saving model to models/nlp.h5\n",
            "Epoch 6/10\n",
            "274/274 [==============================] - 4s 16ms/step - loss: 0.4470 - accuracy: 0.8050 - val_loss: 0.4221 - val_accuracy: 0.8194\n",
            "\n",
            "Epoch 00006: accuracy improved from 0.79571 to 0.80409, saving model to models/nlp.h5\n",
            "Epoch 7/10\n",
            "274/274 [==============================] - 4s 15ms/step - loss: 0.4396 - accuracy: 0.8093 - val_loss: 0.4169 - val_accuracy: 0.8206\n",
            "\n",
            "Epoch 00007: accuracy improved from 0.80409 to 0.80840, saving model to models/nlp.h5\n",
            "Epoch 8/10\n",
            "274/274 [==============================] - 4s 15ms/step - loss: 0.4319 - accuracy: 0.8124 - val_loss: 0.4123 - val_accuracy: 0.8230\n",
            "\n",
            "Epoch 00008: accuracy improved from 0.80840 to 0.80909, saving model to models/nlp.h5\n",
            "Epoch 9/10\n",
            "274/274 [==============================] - 4s 15ms/step - loss: 0.4272 - accuracy: 0.8167 - val_loss: 0.4094 - val_accuracy: 0.8239\n",
            "\n",
            "Epoch 00009: accuracy improved from 0.80909 to 0.81451, saving model to models/nlp.h5\n",
            "Epoch 10/10\n",
            "274/274 [==============================] - 4s 15ms/step - loss: 0.4262 - accuracy: 0.8147 - val_loss: 0.4048 - val_accuracy: 0.8262\n",
            "\n",
            "Epoch 00010: accuracy improved from 0.81451 to 0.81620, saving model to models/nlp.h5\n",
            "\n",
            " Total time taken for training: 67.02 seconds \n",
            "\n"
          ],
          "name": "stdout"
        }
      ]
    },
    {
      "cell_type": "code",
      "metadata": {
        "colab": {
          "base_uri": "https://localhost:8080/",
          "height": 602
        },
        "id": "MEEEgXRXSegZ",
        "outputId": "4217366a-4af9-43ac-b1e1-3b455cb4fe87"
      },
      "source": [
        "import matplotlib.pyplot as plt\n",
        "\n",
        "acc = history.history['accuracy']\n",
        "val_acc = history.history['val_accuracy']\n",
        "loss = history.history['loss']\n",
        "val_loss = history.history['val_loss']\n",
        "\n",
        "epochs = range(len(acc))\n",
        "\n",
        "# Accuracy history graph for training and validation\n",
        "plt.plot(epochs, acc, 'r', label='Training accuracy')\n",
        "plt.plot(epochs, val_acc, 'b', label='Validation accuracy')\n",
        "plt.title('Training and validation accuracy')\n",
        "plt.xlabel(\"Epochs\")\n",
        "plt.ylabel(\"Accuracy\")\n",
        "plt.legend(loc=0)\n",
        "plt.figure()\n",
        "\n",
        "# Loss history graph for training and validation\n",
        "plt.plot(epochs, loss, 'r', label='Training Loss')\n",
        "plt.plot(epochs, val_loss, 'b', label='Validation Loss')\n",
        "plt.title('Training and validation loss')\n",
        "plt.xlabel(\"Epochs\")\n",
        "plt.ylabel(\"Loss\")\n",
        "plt.legend(loc=0)\n",
        "plt.figure()\n",
        "\n",
        "# show plot\n",
        "plt.show()"
      ],
      "execution_count": 27,
      "outputs": [
        {
          "output_type": "display_data",
          "data": {
            "image/png": "[encoded data removed]",
            "text/plain": [
              "<Figure size 432x288 with 1 Axes>"
            ]
          },
          "metadata": {
            "tags": []
          }
        },
        {
          "output_type": "display_data",
          "data": {
            "image/png": "[encoded data removed]",
            "text/plain": [
              "<Figure size 432x288 with 1 Axes>"
            ]
          },
          "metadata": {
            "tags": []
          }
        },
        {
          "output_type": "display_data",
          "data": {
            "text/plain": [
              "<Figure size 432x288 with 0 Axes>"
            ]
          },
          "metadata": {
            "tags": []
          }
        }
      ]
    },
    {
      "cell_type": "markdown",
      "metadata": {
        "id": "VE071bF7SFI_"
      },
      "source": [
        "## 7. Model Evaluation\n",
        "a. Print the final train and validation loss and accuracy. Print confusion matrix and classification report for the validation dataset. Analyse and report the best and worst performing class.\n",
        "\n",
        "b. Print the two most incorrectly classified texts for each class in the test dataset.\n",
        "\n",
        "**To be done:**\n",
        "\n",
        "Print confusion matrix and classification report for the validation dataset. Analyse and report the best and worst performing class.\n",
        "\n",
        "Print the two most incorrectly classified texts for each class in the test dataset."
      ]
    },
    {
      "cell_type": "code",
      "metadata": {
        "colab": {
          "base_uri": "https://localhost:8080/"
        },
        "id": "hXgJf5btSJDG",
        "outputId": "7f2bf4ef-2a7f-4f21-db22-6551a5622d0d"
      },
      "source": [
        "# evaluate model\n",
        "train_score = model.evaluate(x_train, y_train)\n",
        "print('Train Score [Loss, Accuracy]: ', train_score, '\\n')\n",
        "test_score = model.evaluate(x_test, y_test)\n",
        "print('Validation Score [Loss, Accuracy]: ', test_score, '\\n')\n",
        "\n",
        "# final training accuracy and loss\n",
        "#print(history.history.keys())\n",
        "loss = history.history['loss']\n",
        "accuracy = history.history['accuracy']\n",
        "val_loss = history.history['val_loss']\n",
        "val_accuracy = history.history['val_accuracy']\n",
        "print('Final Training Accuracy: {:.2f}'.format(accuracy[num_epochs-1]))\n",
        "print('Final Training Loss: {:.2f}'.format(loss[num_epochs-1]))\n",
        "print('Final Validation Accuracy: {:.2f}'.format(val_accuracy[num_epochs-1]))\n",
        "print('Final Validation Loss: {:.2f}'.format(val_loss[num_epochs-1]))"
      ],
      "execution_count": 32,
      "outputs": [
        {
          "output_type": "stream",
          "text": [
            "1094/1094 [==============================] - 6s 6ms/step - loss: 0.4052 - accuracy: 0.8249\n",
            "Train Score [Loss, Accuracy]:  [0.405172199010849, 0.8249428868293762] \n",
            "\n",
            "469/469 [==============================] - 3s 6ms/step - loss: 0.4048 - accuracy: 0.8262\n",
            "Validation Score [Loss, Accuracy]:  [0.40479210019111633, 0.826200008392334] \n",
            "\n",
            "Final Training Accuracy: 0.82\n",
            "Final Training Loss: 0.42\n",
            "Final Validation Accuracy: 0.83\n",
            "Final Validation Loss: 0.40\n"
          ],
          "name": "stdout"
        }
      ]
    },
    {
      "cell_type": "code",
      "metadata": {
        "id": "vWAxBr1mhALM",
        "colab": {
          "base_uri": "https://localhost:8080/"
        },
        "outputId": "552b01ee-0b21-47ba-f3d6-715036fb419e"
      },
      "source": [
        "from sklearn.metrics import classification_report, confusion_matrix\n",
        "\n",
        "# get predicted results\n",
        "result = model.predict(x_test) # it is linear, it should be binary\n",
        "\n",
        "# convert predicted results to binary array\n",
        "y_pred = np.zeros(len(result))\n",
        "for i, score in enumerate(result):\n",
        "    y_pred[i] = 1 if score > 0.5 else 0\n",
        "\n",
        "print('Predicted Sentiment: ', y_pred, '\\n')\n",
        "\n",
        "# Extract binary values from test data\n",
        "y_test_val = np.zeros(len(result))\n",
        "for i, score in enumerate(y_test):\n",
        "    y_test_val[i] = score\n",
        "\n",
        "print('Test Sentiment: ', y_test_val, '\\n')\n",
        "\n",
        "# confusion matrix\n",
        "cm = confusion_matrix(y_test_val, y_pred, labels=[1,0])\n",
        "print('Confusion Matrix', '\\n', cm, '\\n')\n",
        "\n",
        "# classification report\n",
        "cr = classification_report(y_test_val, y_pred, target_names=['Positive', 'Negative'])\n",
        "print('Classification Report', '\\n', cr)\n",
        "\n",
        "# Analyse and report the best and worst performing class\n",
        "print('The best performing class is:')\n",
        "print('The worst performing lcass is:')"
      ],
      "execution_count": 33,
      "outputs": [
        {
          "output_type": "stream",
          "text": [
            "Predicted Sentiment:  [0. 1. 0. ... 0. 0. 0.] \n",
            "\n",
            "Test Sentiment:  [0. 1. 0. ... 0. 0. 0.] \n",
            "\n",
            "Confusion Matrix \n",
            " [[6207 1303]\n",
            " [1304 6186]] \n",
            "\n",
            "Classification Report \n",
            "               precision    recall  f1-score   support\n",
            "\n",
            "    Positive       0.83      0.83      0.83      7490\n",
            "    Negative       0.83      0.83      0.83      7510\n",
            "\n",
            "    accuracy                           0.83     15000\n",
            "   macro avg       0.83      0.83      0.83     15000\n",
            "weighted avg       0.83      0.83      0.83     15000\n",
            "\n",
            "The best performing class is:\n",
            "The worst performing lcass is:\n"
          ],
          "name": "stdout"
        }
      ]
    },
    {
      "cell_type": "code",
      "metadata": {
        "id": "DIHilI90hPOo"
      },
      "source": [
        "# two most incorrectly classified texts for each class in the test dataset\n"
      ],
      "execution_count": 34,
      "outputs": []
    }
  ]
}