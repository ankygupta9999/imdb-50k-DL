{
  "nbformat": 4,
  "nbformat_minor": 0,
  "metadata": {
    "accelerator": "GPU",
    "colab": {
      "name": "Assignment1_part2.ipynb",
      "provenance": [],
      "collapsed_sections": []
    },
    "kernelspec": {
      "display_name": "Python 3",
      "language": "python",
      "name": "python3"
    },
    "language_info": {
      "codemirror_mode": {
        "name": "ipython",
        "version": 3
      },
      "file_extension": ".py",
      "mimetype": "text/x-python",
      "name": "python",
      "nbconvert_exporter": "python",
      "pygments_lexer": "ipython3",
      "version": "3.8.3"
    }
  },
  "cells": [
    {
      "cell_type": "markdown",
      "metadata": {
        "id": "_uoKUkTFQDQY"
      },
      "source": [
        "## 1. Import Libraries/ Dataset\n",
        "\n",
        "a. Import the required libraries and the dataset (use Google Drive if required).\n",
        "\n",
        "b. Check the GPU available (recommended- use free GPU provided by Google Colab)."
      ]
    },
    {
      "cell_type": "code",
      "metadata": {
        "id": "NWnr89_JQRIE"
      },
      "source": [
        "from google.colab import drive\n",
        "import pandas as pd\n",
        "import seaborn as sns\n",
        "import tensorflow as tf\n",
        "import os\n",
        "import numpy as np # linear algebra\n",
        "import random\n",
        "from tensorflow.keras.preprocessing.text import Tokenizer # to encode text to int\n",
        "from tensorflow.keras.preprocessing.sequence import pad_sequences # to do padding or truncating\n",
        "import tensorflow_hub as hub\n",
        "from tensorflow import keras\n",
        "from tensorflow.keras.layers import Embedding, Dropout\n",
        "from tensorflow.keras.layers import Reshape\n",
        "from tensorflow.keras.callbacks import ModelCheckpoint   # save model\n",
        "from timeit import default_timer as timer\n",
        "import matplotlib.pyplot as plt\n",
        "from sklearn.metrics import classification_report, confusion_matrix"
      ],
      "execution_count": 19,
      "outputs": []
    },
    {
      "cell_type": "code",
      "metadata": {
        "colab": {
          "base_uri": "https://localhost:8080/",
          "height": 374
        },
        "id": "ZZ995S19QnzG",
        "outputId": "0e4f66e5-3e4c-4748-820c-9f133e8d1ae8"
      },
      "source": [
        "# mount google drive\n",
        "drive.mount('./drive')\n",
        "\n",
        "# set filepath\n",
        "filepath='./drive/MyDrive/Datasets/IMDB Dataset.csv'\n",
        "\n",
        "# load csv file in dataframe\n",
        "df = pd.read_csv(filepath)\n",
        "df.info()\n",
        "df.head()"
      ],
      "execution_count": 20,
      "outputs": [
        {
          "output_type": "stream",
          "text": [
            "Drive already mounted at ./drive; to attempt to forcibly remount, call drive.mount(\"./drive\", force_remount=True).\n",
            "<class 'pandas.core.frame.DataFrame'>\n",
            "RangeIndex: 50000 entries, 0 to 49999\n",
            "Data columns (total 2 columns):\n",
            " #   Column     Non-Null Count  Dtype \n",
            "---  ------     --------------  ----- \n",
            " 0   review     50000 non-null  object\n",
            " 1   sentiment  50000 non-null  object\n",
            "dtypes: object(2)\n",
            "memory usage: 781.4+ KB\n"
          ],
          "name": "stdout"
        },
        {
          "output_type": "execute_result",
          "data": {
            "text/html": [
              "<div>\n",
              "<style scoped>\n",
              "    .dataframe tbody tr th:only-of-type {\n",
              "        vertical-align: middle;\n",
              "    }\n",
              "\n",
              "    .dataframe tbody tr th {\n",
              "        vertical-align: top;\n",
              "    }\n",
              "\n",
              "    .dataframe thead th {\n",
              "        text-align: right;\n",
              "    }\n",
              "</style>\n",
              "<table border=\"1\" class=\"dataframe\">\n",
              "  <thead>\n",
              "    <tr style=\"text-align: right;\">\n",
              "      <th></th>\n",
              "      <th>review</th>\n",
              "      <th>sentiment</th>\n",
              "    </tr>\n",
              "  </thead>\n",
              "  <tbody>\n",
              "    <tr>\n",
              "      <th>0</th>\n",
              "      <td>One of the other reviewers has mentioned that ...</td>\n",
              "      <td>positive</td>\n",
              "    </tr>\n",
              "    <tr>\n",
              "      <th>1</th>\n",
              "      <td>A wonderful little production. &lt;br /&gt;&lt;br /&gt;The...</td>\n",
              "      <td>positive</td>\n",
              "    </tr>\n",
              "    <tr>\n",
              "      <th>2</th>\n",
              "      <td>I thought this was a wonderful way to spend ti...</td>\n",
              "      <td>positive</td>\n",
              "    </tr>\n",
              "    <tr>\n",
              "      <th>3</th>\n",
              "      <td>Basically there's a family where a little boy ...</td>\n",
              "      <td>negative</td>\n",
              "    </tr>\n",
              "    <tr>\n",
              "      <th>4</th>\n",
              "      <td>Petter Mattei's \"Love in the Time of Money\" is...</td>\n",
              "      <td>positive</td>\n",
              "    </tr>\n",
              "  </tbody>\n",
              "</table>\n",
              "</div>"
            ],
            "text/plain": [
              "                                              review sentiment\n",
              "0  One of the other reviewers has mentioned that ...  positive\n",
              "1  A wonderful little production. <br /><br />The...  positive\n",
              "2  I thought this was a wonderful way to spend ti...  positive\n",
              "3  Basically there's a family where a little boy ...  negative\n",
              "4  Petter Mattei's \"Love in the Time of Money\" is...  positive"
            ]
          },
          "metadata": {
            "tags": []
          },
          "execution_count": 20
        }
      ]
    },
    {
      "cell_type": "markdown",
      "metadata": {
        "id": "9l_yGybvQsDM"
      },
      "source": [
        "## 2. Data Visualization\n",
        "  \n",
        "a. Print at least two movie reviews from each class of the dataset, for a sanity check that labels match the text.\n",
        "\n",
        "b. Plot a bar graph of class distribution in a dataset. Each bar depicts the number of tweets belonging to a particular sentiment. (recommended - matplotlib/seaborn libraries)\n",
        "\n",
        "c. Any other visualizations that seem appropriate for this problem are encouraged but not necessary, for the points.\n",
        "\n",
        "d. Print the shapes of train and test data."
      ]
    },
    {
      "cell_type": "code",
      "metadata": {
        "colab": {
          "base_uri": "https://localhost:8080/",
          "height": 540
        },
        "id": "eJSr0ykkQvpb",
        "outputId": "1d5a4808-e4e4-4792-c83b-87ea7391fd08"
      },
      "source": [
        "# print at leat two movie reviews from each class of the dataset,\n",
        "# for a sanity check that labels match the text\n",
        "for cls in df['sentiment'].unique():\n",
        "  print('\\n', 'Printing sample (2) movie reivews for class: ', cls)\n",
        "  print(df[df['sentiment'] == cls]['review'].head(2), '\\n')\n",
        "\n",
        "# Plot a bar graph of class distribution in a dataset.\n",
        "# Each bar depicts the number of tweets belonging to a particular sentiment.\n",
        "sns.set_theme(style=\"whitegrid\")\n",
        "ax = sns.countplot(data=df, x=\"sentiment\")\n",
        "\n",
        "x_data = df['review']       # Reviews/Input\n",
        "y_data = df['sentiment']    # Sentiment/Output\n",
        "\n",
        "# print shape of train and test data\n",
        "print('Review shape: ', x_data.shape)\n",
        "print('Sentiment shape: ', y_data.shape, '\\n')"
      ],
      "execution_count": 21,
      "outputs": [
        {
          "output_type": "stream",
          "text": [
            "\n",
            " Printing sample (2) movie reivews for class:  positive\n",
            "0    One of the other reviewers has mentioned that ...\n",
            "1    A wonderful little production. <br /><br />The...\n",
            "Name: review, dtype: object \n",
            "\n",
            "\n",
            " Printing sample (2) movie reivews for class:  negative\n",
            "3    Basically there's a family where a little boy ...\n",
            "7    This show was an amazing, fresh & innovative i...\n",
            "Name: review, dtype: object \n",
            "\n",
            "Review shape:  (50000,)\n",
            "Sentiment shape:  (50000,) \n",
            "\n"
          ],
          "name": "stdout"
        },
        {
          "output_type": "display_data",
          "data": {
            "image/png": "[encoded data removed]",
            "text/plain": [
              "<Figure size 432x288 with 1 Axes>"
            ]
          },
          "metadata": {
            "tags": []
          }
        }
      ]
    },
    {
      "cell_type": "markdown",
      "metadata": {
        "id": "oEnfyJhhQbuN"
      },
      "source": [
        "## 3. Data Pre-processing\n",
        "\n",
        "a. Need for this Step - Since the models we use cannot accept string inputs or cannot be of the string format. We have to come up with a way of handling this step. The discussion of different ways of handling this step is out of the scope of this assignment.\n",
        "\n",
        "b. Please use this pre-trained embedding layer from TensorFlow hub for this assignment. This link also has a code snippet on how to convert a sentence to a vector. Refer to that for further clarity on this subject.\n",
        "\n",
        "c. Bring the train and test data in the required format."
      ]
    },
    {
      "cell_type": "code",
      "metadata": {
        "id": "Mi1ifMDlXe2-"
      },
      "source": [
        "# pre-process review\n",
        "df['review'] = df['review'].replace({'<.*?>': ''}, regex = True) # remove html tag\n",
        "df['review'] = df['review'].replace({'[^A-Za-z]': ' '}, regex = True) # remove non alphabet\n",
        "\n",
        "# encode sentiment\n",
        "df['sentiment'] = df['sentiment'].replace('positive', 1)\n",
        "df['sentiment'] = df['sentiment'].replace('negative', 0)"
      ],
      "execution_count": 22,
      "outputs": []
    },
    {
      "cell_type": "code",
      "metadata": {
        "colab": {
          "base_uri": "https://localhost:8080/"
        },
        "id": "tkreWOUC2Crr",
        "outputId": "7e83119e-95e7-48ba-9fbe-e4bb1669933f"
      },
      "source": [
        "# split dataset\n",
        "x_train = df['review'][:35000]\n",
        "y_train = df['sentiment'][:35000]\n",
        "x_test = df['review'][35000:]\n",
        "y_test = df['sentiment'][35000:]\n",
        "\n",
        "#Converting to Tensor\n",
        "x_train_tf = tf.convert_to_tensor(x_train)\n",
        "y_train_tf = tf.convert_to_tensor(y_train)\n",
        "x_test_tf = tf.convert_to_tensor(x_test)\n",
        "y_test_tf = tf.convert_to_tensor(y_test)\n",
        "\n",
        "# print training set\n",
        "print('Train Set')\n",
        "print(x_train, '\\n')\n",
        "print(y_train, '\\n')\n",
        "\n",
        "# print test set\n",
        "print('Test Set')\n",
        "print(x_test, '\\n')\n",
        "print(y_test)"
      ],
      "execution_count": 23,
      "outputs": [
        {
          "output_type": "stream",
          "text": [
            "Train Set\n",
            "0        One of the other reviewers has mentioned that ...\n",
            "1        A wonderful little production  The filming tec...\n",
            "2        I thought this was a wonderful way to spend ti...\n",
            "3        Basically there s a family where a little boy ...\n",
            "4        Petter Mattei s  Love in the Time of Money  is...\n",
            "                               ...                        \n",
            "34995    Awful  Awful  Awful show   Real world  issues ...\n",
            "34996    I like action movies  I have a softspot for  B...\n",
            "34997    It begins on a nice note only to falter quickl...\n",
            "34998    Aardman does it again  Next to Pixar  Aardman ...\n",
            "34999    This movie made me laugh so much  It was a blo...\n",
            "Name: review, Length: 35000, dtype: object \n",
            "\n",
            "0        1\n",
            "1        1\n",
            "2        1\n",
            "3        0\n",
            "4        1\n",
            "        ..\n",
            "34995    0\n",
            "34996    0\n",
            "34997    0\n",
            "34998    1\n",
            "34999    0\n",
            "Name: sentiment, Length: 35000, dtype: int64 \n",
            "\n",
            "Test Set\n",
            "35000    Just don t bother  I thought I would see a mov...\n",
            "35001    Be careful with this one  Once you get yer mit...\n",
            "35002    Chili Palmer is tired of doing movies and know...\n",
            "35003    Following is a little known      British film ...\n",
            "35004    Dark Angel is a cross between Huxley s Brave N...\n",
            "                               ...                        \n",
            "49995    I thought this movie did a down right good job...\n",
            "49996    Bad plot  bad dialogue  bad acting  idiotic di...\n",
            "49997    I am a Catholic taught in parochial elementary...\n",
            "49998    I m going to have to disagree with the previou...\n",
            "49999    No one expects the Star Trek movies to be high...\n",
            "Name: review, Length: 15000, dtype: object \n",
            "\n",
            "35000    0\n",
            "35001    1\n",
            "35002    0\n",
            "35003    1\n",
            "35004    1\n",
            "        ..\n",
            "49995    1\n",
            "49996    0\n",
            "49997    0\n",
            "49998    0\n",
            "49999    0\n",
            "Name: sentiment, Length: 15000, dtype: int64\n"
          ],
          "name": "stdout"
        }
      ]
    },
    {
      "cell_type": "code",
      "metadata": {
        "colab": {
          "base_uri": "https://localhost:8080/",
          "height": 111
        },
        "id": "bu8trwDb0_MQ",
        "outputId": "65deb7c4-55c8-4179-f73a-1793fd9ca3ac"
      },
      "source": [
        "# funtion for resetting random seeds\n",
        "def reset_random_seeds():\n",
        "   os.environ['PYTHONHASHSEED']=str(1)\n",
        "   tf.random.set_seed(1)\n",
        "   np.random.seed(1)\n",
        "   random.seed(1)\n",
        "\n",
        "#make some random data\n",
        "reset_random_seeds()\n",
        "\n",
        "df.head(2)"
      ],
      "execution_count": 24,
      "outputs": [
        {
          "output_type": "execute_result",
          "data": {
            "text/html": [
              "<div>\n",
              "<style scoped>\n",
              "    .dataframe tbody tr th:only-of-type {\n",
              "        vertical-align: middle;\n",
              "    }\n",
              "\n",
              "    .dataframe tbody tr th {\n",
              "        vertical-align: top;\n",
              "    }\n",
              "\n",
              "    .dataframe thead th {\n",
              "        text-align: right;\n",
              "    }\n",
              "</style>\n",
              "<table border=\"1\" class=\"dataframe\">\n",
              "  <thead>\n",
              "    <tr style=\"text-align: right;\">\n",
              "      <th></th>\n",
              "      <th>review</th>\n",
              "      <th>sentiment</th>\n",
              "    </tr>\n",
              "  </thead>\n",
              "  <tbody>\n",
              "    <tr>\n",
              "      <th>0</th>\n",
              "      <td>One of the other reviewers has mentioned that ...</td>\n",
              "      <td>1</td>\n",
              "    </tr>\n",
              "    <tr>\n",
              "      <th>1</th>\n",
              "      <td>A wonderful little production  The filming tec...</td>\n",
              "      <td>1</td>\n",
              "    </tr>\n",
              "  </tbody>\n",
              "</table>\n",
              "</div>"
            ],
            "text/plain": [
              "                                              review  sentiment\n",
              "0  One of the other reviewers has mentioned that ...          1\n",
              "1  A wonderful little production  The filming tec...          1"
            ]
          },
          "metadata": {
            "tags": []
          },
          "execution_count": 24
        }
      ]
    },
    {
      "cell_type": "markdown",
      "metadata": {
        "id": "4LljVMG8P3tg"
      },
      "source": [
        "## 4. Model Building\n",
        "a. Sequential Model layers - Use AT LEAST 3 hidden layers with appropriate input for each. Choose the best number for hidden units and give reasons.\n",
        "\n",
        "b. Add L2 regularization to all the layers.\n",
        "\n",
        "c. Add one layer of dropout at the appropriate position and give reasons.\n",
        "\n",
        "d. Choose the appropriate activation function for all the layers.\n",
        "\n",
        "e. Print the model summary.\n",
        "\n",
        "**To be done:**\n",
        "\n",
        "Add one layer of dropout at the appropriate position and give reasons.\n",
        "\n",
        "Choose the best number for hidden units and give reasons."
      ]
    },
    {
      "cell_type": "code",
      "metadata": {
        "colab": {
          "base_uri": "https://localhost:8080/"
        },
        "id": "9NC-WgkGwNFD",
        "outputId": "05cc2fb9-7191-4352-e4bd-bce4647227b3"
      },
      "source": [
        "# set model parameters\n",
        "num_batch_size = 128\n",
        "num_epochs=10\n",
        "#num_steps_per_epoch=274 # total training inputs/ batch size = 35000/128\n",
        "#num_val_steps=118 # total validation inputs/ batch size = 15000/128\n",
        "num_dropout=0.3\n",
        "num_l2_reg_penalty=0.0001\n",
        "num_lr=1e-4\n",
        "opt = keras.optimizers.Adam(learning_rate=num_lr)\n",
        "str_loss = 'binary_crossentropy'\n",
        "\n",
        "print('Review training data shape: ', x_train.shape)\n",
        "print('Sentiment training data shape: ', y_train.shape, '\\n')\n",
        "\n",
        "# import pre-trained embedding layer\n",
        "#embed = hub.load(\"https://tfhub.dev/google/nnlm-en-dim128/2\")\n",
        "hub_layer = hub.KerasLayer(\"https://tfhub.dev/google/nnlm-en-dim128/2\",\n",
        "                           input_shape=[], dtype=tf.string)\n",
        "\n",
        "# build model\n",
        "model = keras.Sequential()\n",
        "#model.add(Reshape((35000, max_length)))\n",
        "model.add(hub_layer) # add layer from tensorflow hub\n",
        "model.add(keras.layers.Dense(64, activation='relu', kernel_regularizer=tf.keras.regularizers.l2(num_l2_reg_penalty))) # Layer 1\n",
        "model.add(Dropout(num_dropout)) # add dropout\n",
        "model.add(keras.layers.Dense(32, activation='relu', kernel_regularizer=tf.keras.regularizers.l2(num_l2_reg_penalty))) # Layer 2\n",
        "model.add(keras.layers.Dense(16, activation='relu', kernel_regularizer=tf.keras.regularizers.l2(num_l2_reg_penalty))) # Layer 3\n",
        "model.add(keras.layers.Dense(8, activation='relu', kernel_regularizer=tf.keras.regularizers.l2(num_l2_reg_penalty))) # Layer 4\n",
        "model.add(keras.layers.Dense(1, activation='sigmoid', kernel_regularizer=tf.keras.regularizers.l2(num_l2_reg_penalty))) # Layer output\n",
        "\n",
        "# print model summary\n",
        "model.summary()"
      ],
      "execution_count": 25,
      "outputs": [
        {
          "output_type": "stream",
          "text": [
            "Review training data shape:  (35000,)\n",
            "Sentiment training data shape:  (35000,) \n",
            "\n",
            "Model: \"sequential_7\"\n",
            "_________________________________________________________________\n",
            "Layer (type)                 Output Shape              Param #   \n",
            "=================================================================\n",
            "keras_layer_1 (KerasLayer)   (None, 128)               124642688 \n",
            "_________________________________________________________________\n",
            "dense_35 (Dense)             (None, 64)                8256      \n",
            "_________________________________________________________________\n",
            "dropout_7 (Dropout)          (None, 64)                0         \n",
            "_________________________________________________________________\n",
            "dense_36 (Dense)             (None, 32)                2080      \n",
            "_________________________________________________________________\n",
            "dense_37 (Dense)             (None, 16)                528       \n",
            "_________________________________________________________________\n",
            "dense_38 (Dense)             (None, 8)                 136       \n",
            "_________________________________________________________________\n",
            "dense_39 (Dense)             (None, 1)                 9         \n",
            "=================================================================\n",
            "Total params: 124,653,697\n",
            "Trainable params: 11,009\n",
            "Non-trainable params: 124,642,688\n",
            "_________________________________________________________________\n"
          ],
          "name": "stdout"
        }
      ]
    },
    {
      "cell_type": "markdown",
      "metadata": {
        "id": "yjRbsq4JPhCt"
      },
      "source": [
        "## 5. Model Compilation\n",
        "a. Compile the model with the appropriate loss function.\n",
        "\n",
        "b. Use an appropriate optimizer. Give reasons for the choice of learning rate and its value.\n",
        "\n",
        "c. Use accuracy as a metric.\n",
        "\n",
        "**To be done:**\n",
        "\n",
        "Give reasons for the choice of learning rate and its value."
      ]
    },
    {
      "cell_type": "code",
      "metadata": {
        "id": "DFviXSss3ddy"
      },
      "source": [
        "# compile model\n",
        "model.compile(optimizer = opt, loss = str_loss, metrics = ['accuracy'])"
      ],
      "execution_count": 26,
      "outputs": []
    },
    {
      "cell_type": "markdown",
      "metadata": {
        "id": "uxyWUmutPuVf"
      },
      "source": [
        "## 6. Model Training\n",
        "a. Train the model for an appropriate number of epochs. Print the train and validation accuracy and loss for each epoch. Use the appropriate batch size.\n",
        "\n",
        "b. Plot the loss and accuracy history graphs for both train and validation set. Print the total time taken for training."
      ]
    },
    {
      "cell_type": "code",
      "metadata": {
        "colab": {
          "base_uri": "https://localhost:8080/"
        },
        "id": "_JKAiKII3kW_",
        "outputId": "e8d1e4d3-68f7-4e68-8203-bd1edd6e0126"
      },
      "source": [
        "# checkpoint callback\n",
        "checkpoint = ModelCheckpoint(\n",
        "    'models/nlp.h5',\n",
        "    monitor='accuracy',\n",
        "    save_best_only=True,\n",
        "    verbose=1\n",
        ")\n",
        "\n",
        "# early stopping callback\n",
        "stopping = tf.keras.callbacks.EarlyStopping(\n",
        "    monitor='val_loss', min_delta=0, patience=3, verbose=0,\n",
        "    mode='auto', baseline=None, restore_best_weights=True\n",
        ")\n",
        "\n",
        "# timing callback class\n",
        "class TimingCallback(keras.callbacks.Callback):\n",
        "    def __init__(self, logs={}):\n",
        "        self.logs=[]\n",
        "    def on_epoch_begin(self, epoch, logs={}):\n",
        "        self.starttime = timer()\n",
        "    def on_epoch_end(self, epoch, logs={}):\n",
        "        self.logs.append(timer()-self.starttime)\n",
        "\n",
        "# timing callback\n",
        "timing = TimingCallback()\n",
        "\n",
        "# train model\n",
        "history = model.fit(x_train_tf, y_train_tf, batch_size = num_batch_size, epochs = num_epochs, validation_data=(x_test_tf, y_test_tf), callbacks=[stopping, checkpoint, timing])\n",
        "\n",
        "# total training time\n",
        "print('\\n', 'Total time taken for training: {:.2f}'.format(sum(timing.logs)), 'seconds', '\\n')"
      ],
      "execution_count": 27,
      "outputs": [
        {
          "output_type": "stream",
          "text": [
            "Epoch 1/10\n",
            "274/274 [==============================] - 5s 14ms/step - loss: 0.7069 - accuracy: 0.5232 - val_loss: 0.6690 - val_accuracy: 0.7039\n",
            "\n",
            "Epoch 00001: accuracy improved from -inf to 0.57240, saving model to models/nlp.h5\n",
            "Epoch 2/10\n",
            "274/274 [==============================] - 4s 13ms/step - loss: 0.6473 - accuracy: 0.6889 - val_loss: 0.5265 - val_accuracy: 0.7801\n",
            "\n",
            "Epoch 00002: accuracy improved from 0.57240 to 0.70829, saving model to models/nlp.h5\n",
            "Epoch 3/10\n",
            "274/274 [==============================] - 4s 13ms/step - loss: 0.5344 - accuracy: 0.7562 - val_loss: 0.4646 - val_accuracy: 0.7991\n",
            "\n",
            "Epoch 00003: accuracy improved from 0.70829 to 0.76797, saving model to models/nlp.h5\n",
            "Epoch 4/10\n",
            "274/274 [==============================] - 4s 13ms/step - loss: 0.4837 - accuracy: 0.7822 - val_loss: 0.4420 - val_accuracy: 0.8103\n",
            "\n",
            "Epoch 00004: accuracy improved from 0.76797 to 0.78591, saving model to models/nlp.h5\n",
            "Epoch 5/10\n",
            "274/274 [==============================] - 4s 13ms/step - loss: 0.4640 - accuracy: 0.7913 - val_loss: 0.4317 - val_accuracy: 0.8147\n",
            "\n",
            "Epoch 00005: accuracy improved from 0.78591 to 0.79483, saving model to models/nlp.h5\n",
            "Epoch 6/10\n",
            "274/274 [==============================] - 4s 13ms/step - loss: 0.4473 - accuracy: 0.8047 - val_loss: 0.4219 - val_accuracy: 0.8198\n",
            "\n",
            "Epoch 00006: accuracy improved from 0.79483 to 0.80346, saving model to models/nlp.h5\n",
            "Epoch 7/10\n",
            "274/274 [==============================] - 4s 14ms/step - loss: 0.4395 - accuracy: 0.8089 - val_loss: 0.4170 - val_accuracy: 0.8209\n",
            "\n",
            "Epoch 00007: accuracy improved from 0.80346 to 0.80826, saving model to models/nlp.h5\n",
            "Epoch 8/10\n",
            "274/274 [==============================] - 4s 14ms/step - loss: 0.4318 - accuracy: 0.8130 - val_loss: 0.4122 - val_accuracy: 0.8231\n",
            "\n",
            "Epoch 00008: accuracy improved from 0.80826 to 0.80937, saving model to models/nlp.h5\n",
            "Epoch 9/10\n",
            "274/274 [==============================] - 4s 14ms/step - loss: 0.4272 - accuracy: 0.8170 - val_loss: 0.4095 - val_accuracy: 0.8239\n",
            "\n",
            "Epoch 00009: accuracy improved from 0.80937 to 0.81440, saving model to models/nlp.h5\n",
            "Epoch 10/10\n",
            "274/274 [==============================] - 4s 14ms/step - loss: 0.4261 - accuracy: 0.8150 - val_loss: 0.4047 - val_accuracy: 0.8264\n",
            "\n",
            "Epoch 00010: accuracy improved from 0.81440 to 0.81646, saving model to models/nlp.h5\n",
            "\n",
            " Total time taken for training: 100.68 seconds \n",
            "\n"
          ],
          "name": "stdout"
        }
      ]
    },
    {
      "cell_type": "code",
      "metadata": {
        "colab": {
          "base_uri": "https://localhost:8080/",
          "height": 602
        },
        "id": "MEEEgXRXSegZ",
        "outputId": "a3030289-1450-481e-f457-cbecfd23f2ee"
      },
      "source": [
        "acc = history.history['accuracy']\n",
        "val_acc = history.history['val_accuracy']\n",
        "loss = history.history['loss']\n",
        "val_loss = history.history['val_loss']\n",
        "\n",
        "epochs = range(len(acc))\n",
        "\n",
        "# Accuracy history graph for training and validation\n",
        "plt.plot(epochs, acc, 'r', label='Training accuracy')\n",
        "plt.plot(epochs, val_acc, 'b', label='Validation accuracy')\n",
        "plt.title('Training and validation accuracy')\n",
        "plt.xlabel(\"Epochs\")\n",
        "plt.ylabel(\"Accuracy\")\n",
        "plt.legend(loc=0)\n",
        "plt.figure()\n",
        "\n",
        "# Loss history graph for training and validation\n",
        "plt.plot(epochs, loss, 'r', label='Training Loss')\n",
        "plt.plot(epochs, val_loss, 'b', label='Validation Loss')\n",
        "plt.title('Training and validation loss')\n",
        "plt.xlabel(\"Epochs\")\n",
        "plt.ylabel(\"Loss\")\n",
        "plt.legend(loc=0)\n",
        "plt.figure()\n",
        "\n",
        "# show plot\n",
        "plt.show()"
      ],
      "execution_count": 28,
      "outputs": [
        {
          "output_type": "display_data",
          "data": {
            "image/png": "[encoded data removed]",
            "text/plain": [
              "<Figure size 432x288 with 1 Axes>"
            ]
          },
          "metadata": {
            "tags": []
          }
        },
        {
          "output_type": "display_data",
          "data": {
            "image/png": "[encoded data removed]",
            "text/plain": [
              "<Figure size 432x288 with 1 Axes>"
            ]
          },
          "metadata": {
            "tags": []
          }
        },
        {
          "output_type": "display_data",
          "data": {
            "text/plain": [
              "<Figure size 432x288 with 0 Axes>"
            ]
          },
          "metadata": {
            "tags": []
          }
        }
      ]
    },
    {
      "cell_type": "markdown",
      "metadata": {
        "id": "VE071bF7SFI_"
      },
      "source": [
        "## 7. Model Evaluation\n",
        "a. Print the final train and validation loss and accuracy. Print confusion matrix and classification report for the validation dataset. Analyse and report the best and worst performing class.\n",
        "\n",
        "b. Print the two most incorrectly classified texts for each class in the test dataset.\n",
        "\n",
        "**To be done:**\n",
        "\n",
        "Print the two most incorrectly classified texts for each class in the test dataset."
      ]
    },
    {
      "cell_type": "code",
      "metadata": {
        "colab": {
          "base_uri": "https://localhost:8080/"
        },
        "id": "hXgJf5btSJDG",
        "outputId": "820e71d4-fcdb-4bec-c29e-e51908fc45bc"
      },
      "source": [
        "# final training accuracy and loss\n",
        "#print(history.history.keys())\n",
        "loss = history.history['loss']\n",
        "accuracy = history.history['accuracy']\n",
        "val_loss = history.history['val_loss']\n",
        "val_accuracy = history.history['val_accuracy']\n",
        "print('Final Training Accuracy: {:.2f}'.format(accuracy[num_epochs-1]))\n",
        "print('Final Training Loss: {:.2f}'.format(loss[num_epochs-1]))\n",
        "print('Final Validation Accuracy: {:.2f}'.format(val_accuracy[num_epochs-1]))\n",
        "print('Final Validation Loss: {:.2f}'.format(val_loss[num_epochs-1]))"
      ],
      "execution_count": 29,
      "outputs": [
        {
          "output_type": "stream",
          "text": [
            "Final Training Accuracy: 0.82\n",
            "Final Training Loss: 0.42\n",
            "Final Validation Accuracy: 0.83\n",
            "Final Validation Loss: 0.40\n"
          ],
          "name": "stdout"
        }
      ]
    },
    {
      "cell_type": "code",
      "metadata": {
        "id": "vWAxBr1mhALM",
        "colab": {
          "base_uri": "https://localhost:8080/"
        },
        "outputId": "d02c8cfa-549e-44d2-a3b8-416b38220d46"
      },
      "source": [
        "# get predicted results\n",
        "result = model.predict(x_test) # it is linear, it should be binary\n",
        "\n",
        "# convert predicted results to binary array\n",
        "y_pred = np.zeros(len(result))\n",
        "for i, score in enumerate(result):\n",
        "    y_pred[i] = 1 if score > 0.5 else 0\n",
        "\n",
        "print('Predicted Sentiment: ', y_pred, '\\n')\n",
        "\n",
        "# Extract binary values from test data\n",
        "y_test_val = np.zeros(len(result))\n",
        "for i, score in enumerate(y_test):\n",
        "    y_test_val[i] = score\n",
        "\n",
        "print('Test Sentiment: ', y_test_val, '\\n')\n",
        "\n",
        "# confusion matrix\n",
        "cm = confusion_matrix(y_test_val, y_pred, labels=[1,0])\n",
        "print('Confusion Matrix', '\\n', cm, '\\n')\n",
        "\n",
        "# classification report\n",
        "cr = classification_report(y_test_val, y_pred, target_names=['Positive', 'Negative'])\n",
        "print('Classification Report', '\\n', cr)\n",
        "\n",
        "# Analyse and report the best and worst performing class\n",
        "print('The best performing class is:')\n",
        "print('The worst performing lcass is:')"
      ],
      "execution_count": 30,
      "outputs": [
        {
          "output_type": "stream",
          "text": [
            "Predicted Sentiment:  [0. 1. 0. ... 0. 0. 0.] \n",
            "\n",
            "Test Sentiment:  [0. 1. 0. ... 0. 0. 0.] \n",
            "\n",
            "Confusion Matrix \n",
            " [[6202 1308]\n",
            " [1296 6194]] \n",
            "\n",
            "Classification Report \n",
            "               precision    recall  f1-score   support\n",
            "\n",
            "    Positive       0.83      0.83      0.83      7490\n",
            "    Negative       0.83      0.83      0.83      7510\n",
            "\n",
            "    accuracy                           0.83     15000\n",
            "   macro avg       0.83      0.83      0.83     15000\n",
            "weighted avg       0.83      0.83      0.83     15000\n",
            "\n",
            "The best performing class is:\n",
            "The worst performing lcass is:\n"
          ],
          "name": "stdout"
        }
      ]
    },
    {
      "cell_type": "code",
      "metadata": {
        "id": "DIHilI90hPOo"
      },
      "source": [
        "# two most incorrectly classified texts for each class in the test dataset\n"
      ],
      "execution_count": null,
      "outputs": []
    },
    {
      "cell_type": "markdown",
      "metadata": {
        "id": "uffBYgq7-fnG"
      },
      "source": [
        "**Hyperparameter Tuning**\n",
        "\n",
        "Build two more models by changing the following hyperparameters one at a time. Write the code for Model Building, Model Compilation, Model Training and Model Evaluation as given in the instructions above for each additional model.\n",
        "\n",
        "1. Dropout: Change the position and value of dropout layer\n",
        "\n",
        "2. Batch Size: Change the value of batch size in model training\n",
        "\n",
        "Write a comparison between each model and give reasons for the difference in results.\n"
      ]
    },
    {
      "cell_type": "code",
      "metadata": {
        "id": "DfV5I0Fy-hi4",
        "colab": {
          "base_uri": "https://localhost:8080/",
          "height": 1000
        },
        "outputId": "7a2347b5-c8e6-4648-e2ee-0c12c4b5c953"
      },
      "source": [
        "# change the position and value of dropout layer\n",
        "\n",
        "# model1 parameters\n",
        "num_dropout1 = 0.25\n",
        "\n",
        "# build model1\n",
        "model1 = keras.Sequential()\n",
        "#model.add(Reshape((35000, max_length)))\n",
        "model1.add(hub_layer) # add layer from tensorflow hub\n",
        "model1.add(keras.layers.Dense(64, activation='relu', kernel_regularizer=tf.keras.regularizers.l2(num_l2_reg_penalty))) # Layer 1\n",
        "model1.add(keras.layers.Dense(32, activation='relu', kernel_regularizer=tf.keras.regularizers.l2(num_l2_reg_penalty))) # Layer 2\n",
        "model1.add(Dropout(num_dropout1)) # add dropout\n",
        "model1.add(keras.layers.Dense(16, activation='relu', kernel_regularizer=tf.keras.regularizers.l2(num_l2_reg_penalty))) # Layer 3\n",
        "model1.add(keras.layers.Dense(8, activation='relu', kernel_regularizer=tf.keras.regularizers.l2(num_l2_reg_penalty))) # Layer 4\n",
        "model1.add(keras.layers.Dense(1, activation='sigmoid', kernel_regularizer=tf.keras.regularizers.l2(num_l2_reg_penalty))) # Layer output\n",
        "\n",
        "# print model1 summary\n",
        "model1.summary()\n",
        "\n",
        "# compile model1\n",
        "model1.compile(optimizer = opt, loss = str_loss, metrics = ['accuracy'])\n",
        "\n",
        "# train model1\n",
        "history1 = model1.fit(x_train_tf, y_train_tf, batch_size = num_batch_size, epochs = num_epochs, validation_data=(x_test_tf, y_test_tf), callbacks=[stopping, checkpoint, timing])\n",
        "\n",
        "# total training time of model1\n",
        "print('\\n', 'Total time taken for training (change in dropout): {:.2f}'.format(sum(timing.logs)), 'seconds', '\\n')\n",
        "\n",
        "acc = history1.history['accuracy']\n",
        "val_acc = history1.history['val_accuracy']\n",
        "loss = history1.history['loss']\n",
        "val_loss = history1.history['val_loss']\n",
        "\n",
        "epochs = range(len(acc))\n",
        "\n",
        "# Accuracy history graph for training and validation\n",
        "plt.plot(epochs, acc, 'r', label='Training accuracy')\n",
        "plt.plot(epochs, val_acc, 'b', label='Validation accuracy')\n",
        "plt.title('Training and validation accuracy (change in dropout)')\n",
        "plt.xlabel(\"Epochs\")\n",
        "plt.ylabel(\"Accuracy\")\n",
        "plt.legend(loc=0)\n",
        "plt.figure()\n",
        "\n",
        "# Loss history graph for training and validation\n",
        "plt.plot(epochs, loss, 'r', label='Training Loss')\n",
        "plt.plot(epochs, val_loss, 'b', label='Validation Loss')\n",
        "plt.title('Training and validation loss (change in dropout)')\n",
        "plt.xlabel(\"Epochs\")\n",
        "plt.ylabel(\"Loss\")\n",
        "plt.legend(loc=0)\n",
        "plt.figure()\n",
        "\n",
        "# show plot\n",
        "plt.show()"
      ],
      "execution_count": 31,
      "outputs": [
        {
          "output_type": "stream",
          "text": [
            "Model: \"sequential_8\"\n",
            "_________________________________________________________________\n",
            "Layer (type)                 Output Shape              Param #   \n",
            "=================================================================\n",
            "keras_layer_1 (KerasLayer)   (None, 128)               124642688 \n",
            "_________________________________________________________________\n",
            "dense_40 (Dense)             (None, 64)                8256      \n",
            "_________________________________________________________________\n",
            "dense_41 (Dense)             (None, 32)                2080      \n",
            "_________________________________________________________________\n",
            "dropout_8 (Dropout)          (None, 32)                0         \n",
            "_________________________________________________________________\n",
            "dense_42 (Dense)             (None, 16)                528       \n",
            "_________________________________________________________________\n",
            "dense_43 (Dense)             (None, 8)                 136       \n",
            "_________________________________________________________________\n",
            "dense_44 (Dense)             (None, 1)                 9         \n",
            "=================================================================\n",
            "Total params: 124,653,697\n",
            "Trainable params: 11,009\n",
            "Non-trainable params: 124,642,688\n",
            "_________________________________________________________________\n",
            "Epoch 1/10\n",
            "274/274 [==============================] - 4s 14ms/step - loss: 0.6140 - accuracy: 0.6831 - val_loss: 0.4514 - val_accuracy: 0.8044\n",
            "\n",
            "Epoch 00001: accuracy did not improve from 0.81646\n",
            "Epoch 2/10\n",
            "274/274 [==============================] - 4s 13ms/step - loss: 0.4692 - accuracy: 0.7947 - val_loss: 0.4256 - val_accuracy: 0.8165\n",
            "\n",
            "Epoch 00002: accuracy did not improve from 0.81646\n",
            "Epoch 3/10\n",
            "274/274 [==============================] - 4s 13ms/step - loss: 0.4483 - accuracy: 0.8070 - val_loss: 0.4164 - val_accuracy: 0.8221\n",
            "\n",
            "Epoch 00003: accuracy did not improve from 0.81646\n",
            "Epoch 4/10\n",
            "274/274 [==============================] - 4s 13ms/step - loss: 0.4358 - accuracy: 0.8086 - val_loss: 0.4100 - val_accuracy: 0.8226\n",
            "\n",
            "Epoch 00004: accuracy did not improve from 0.81646\n",
            "Epoch 5/10\n",
            "274/274 [==============================] - 4s 13ms/step - loss: 0.4260 - accuracy: 0.8166 - val_loss: 0.4057 - val_accuracy: 0.8252\n",
            "\n",
            "Epoch 00005: accuracy improved from 0.81646 to 0.81931, saving model to models/nlp.h5\n",
            "Epoch 6/10\n",
            "274/274 [==============================] - 4s 14ms/step - loss: 0.4184 - accuracy: 0.8193 - val_loss: 0.4027 - val_accuracy: 0.8265\n",
            "\n",
            "Epoch 00006: accuracy improved from 0.81931 to 0.82017, saving model to models/nlp.h5\n",
            "Epoch 7/10\n",
            "274/274 [==============================] - 4s 13ms/step - loss: 0.4126 - accuracy: 0.8233 - val_loss: 0.4015 - val_accuracy: 0.8267\n",
            "\n",
            "Epoch 00007: accuracy improved from 0.82017 to 0.82060, saving model to models/nlp.h5\n",
            "Epoch 8/10\n",
            "274/274 [==============================] - 4s 13ms/step - loss: 0.4095 - accuracy: 0.8251 - val_loss: 0.4002 - val_accuracy: 0.8265\n",
            "\n",
            "Epoch 00008: accuracy improved from 0.82060 to 0.82260, saving model to models/nlp.h5\n",
            "Epoch 9/10\n",
            "274/274 [==============================] - 4s 13ms/step - loss: 0.4076 - accuracy: 0.8287 - val_loss: 0.3974 - val_accuracy: 0.8284\n",
            "\n",
            "Epoch 00009: accuracy improved from 0.82260 to 0.82469, saving model to models/nlp.h5\n",
            "Epoch 10/10\n",
            "274/274 [==============================] - 4s 14ms/step - loss: 0.4099 - accuracy: 0.8243 - val_loss: 0.3957 - val_accuracy: 0.8293\n",
            "\n",
            "Epoch 00010: accuracy did not improve from 0.82469\n",
            "\n",
            " Total time taken for training (change in dropout): 156.35 seconds \n",
            "\n"
          ],
          "name": "stdout"
        },
        {
          "output_type": "display_data",
          "data": {
            "image/png": "[encoded data removed]",
            "text/plain": [
              "<Figure size 432x288 with 1 Axes>"
            ]
          },
          "metadata": {
            "tags": []
          }
        },
        {
          "output_type": "display_data",
          "data": {
            "image/png": "[encoded data removed]",
            "text/plain": [
              "<Figure size 432x288 with 1 Axes>"
            ]
          },
          "metadata": {
            "tags": []
          }
        },
        {
          "output_type": "display_data",
          "data": {
            "text/plain": [
              "<Figure size 432x288 with 0 Axes>"
            ]
          },
          "metadata": {
            "tags": []
          }
        }
      ]
    },
    {
      "cell_type": "code",
      "metadata": {
        "colab": {
          "base_uri": "https://localhost:8080/"
        },
        "id": "4Sx4TmLyG9C9",
        "outputId": "86bf24fc-e52e-4023-f7ea-38e5d3eb580d"
      },
      "source": [
        "# evaluate model1\n",
        "train1_score = model1.evaluate(x_train, y_train)\n",
        "print('Train Score (change in dropout) [Loss, Accuracy]: ', train1_score, '\\n')\n",
        "test1_score = model1.evaluate(x_test, y_test)\n",
        "print('Validation Score (change in dropout) [Loss, Accuracy]: ', test1_score, '\\n')\n",
        "\n",
        "# final training accuracy and loss\n",
        "#print(history.history.keys())\n",
        "loss1 = history1.history['loss']\n",
        "accuracy1 = history1.history['accuracy']\n",
        "val1_loss = history1.history['val_loss']\n",
        "val1_accuracy = history1.history['val_accuracy']\n",
        "print('Final Training Accuracy (change in dropout): {:.2f}%'.format(accuracy1[num_epochs-1]*100))\n",
        "print('Final Training Loss (change in dropout): {:.2f}'.format(loss1[num_epochs-1]))\n",
        "print('Final Validation Accuracy (change in dropout): {:.2f}%'.format(val1_accuracy[num_epochs-1]*100))\n",
        "print('Final Validation Loss (change in dropout): {:.2f}'.format(val1_loss[num_epochs-1]))"
      ],
      "execution_count": 38,
      "outputs": [
        {
          "output_type": "stream",
          "text": [
            "1094/1094 [==============================] - 5s 4ms/step - loss: 0.3946 - accuracy: 0.8291\n",
            "Train Score (change in dropout) [Loss, Accuracy]:  [0.3945915997028351, 0.8290857076644897] \n",
            "\n",
            "469/469 [==============================] - 2s 4ms/step - loss: 0.3957 - accuracy: 0.8293\n",
            "Validation Score (change in dropout) [Loss, Accuracy]:  [0.39567363262176514, 0.8293333053588867] \n",
            "\n",
            "Final Training Accuracy (change in dropout): 82.43%\n",
            "Final Training Loss (change in dropout): 0.41\n",
            "Final Validation Accuracy (change in dropout): 82.93%\n",
            "Final Validation Loss (change in dropout): 0.40\n"
          ],
          "name": "stdout"
        }
      ]
    },
    {
      "cell_type": "code",
      "metadata": {
        "colab": {
          "base_uri": "https://localhost:8080/",
          "height": 1000
        },
        "id": "ZEJvRsGM6CAt",
        "outputId": "c2140105-aa16-45f8-d02e-9cc8c9e4d535"
      },
      "source": [
        "# change the value of batch size in model training\n",
        "\n",
        "# model2 parameters\n",
        "num_batch2_size = 64\n",
        "\n",
        "# build model2\n",
        "model2 = keras.Sequential()\n",
        "#model.add(Reshape((35000, max_length)))\n",
        "model2.add(hub_layer) # add layer from tensorflow hub\n",
        "model2.add(keras.layers.Dense(64, activation='relu', kernel_regularizer=tf.keras.regularizers.l2(num_l2_reg_penalty))) # Layer 1\n",
        "model2.add(Dropout(num_dropout)) # add dropout\n",
        "model2.add(keras.layers.Dense(32, activation='relu', kernel_regularizer=tf.keras.regularizers.l2(num_l2_reg_penalty))) # Layer 2\n",
        "model2.add(keras.layers.Dense(16, activation='relu', kernel_regularizer=tf.keras.regularizers.l2(num_l2_reg_penalty))) # Layer 3\n",
        "model2.add(keras.layers.Dense(8, activation='relu', kernel_regularizer=tf.keras.regularizers.l2(num_l2_reg_penalty))) # Layer 4\n",
        "model2.add(keras.layers.Dense(1, activation='sigmoid', kernel_regularizer=tf.keras.regularizers.l2(num_l2_reg_penalty))) # Layer output\n",
        "\n",
        "# print model2 summary\n",
        "model2.summary()\n",
        "\n",
        "# compile model2\n",
        "model2.compile(optimizer = opt, loss = str_loss, metrics = ['accuracy'])\n",
        "\n",
        "# train model2\n",
        "history2 = model2.fit(x_train_tf, y_train_tf, batch_size = num_batch2_size, epochs = num_epochs, validation_data=(x_test_tf, y_test_tf), callbacks=[stopping, checkpoint, timing])\n",
        "\n",
        "# total training time of model2\n",
        "print('\\n', 'Total time taken for training (change in batch size): {:.2f}'.format(sum(timing.logs)), 'seconds', '\\n')\n",
        "\n",
        "acc = history2.history['accuracy']\n",
        "val_acc = history2.history['val_accuracy']\n",
        "loss = history2.history['loss']\n",
        "val_loss = history2.history['val_loss']\n",
        "\n",
        "epochs = range(len(acc))\n",
        "\n",
        "# Accuracy history graph for training and validation\n",
        "plt.plot(epochs, acc, 'r', label='Training accuracy')\n",
        "plt.plot(epochs, val_acc, 'b', label='Validation accuracy')\n",
        "plt.title('Training and validation accuracy (change in batch size)')\n",
        "plt.xlabel(\"Epochs\")\n",
        "plt.ylabel(\"Accuracy\")\n",
        "plt.legend(loc=0)\n",
        "plt.figure()\n",
        "\n",
        "# Loss history graph for training and validation\n",
        "plt.plot(epochs, loss, 'r', label='Training Loss')\n",
        "plt.plot(epochs, val_loss, 'b', label='Validation Loss')\n",
        "plt.title('Training and validation loss (change in batch size)')\n",
        "plt.xlabel(\"Epochs\")\n",
        "plt.ylabel(\"Loss\")\n",
        "plt.legend(loc=0)\n",
        "plt.figure()\n",
        "\n",
        "# show plot\n",
        "plt.show()"
      ],
      "execution_count": 34,
      "outputs": [
        {
          "output_type": "stream",
          "text": [
            "Model: \"sequential_9\"\n",
            "_________________________________________________________________\n",
            "Layer (type)                 Output Shape              Param #   \n",
            "=================================================================\n",
            "keras_layer_1 (KerasLayer)   (None, 128)               124642688 \n",
            "_________________________________________________________________\n",
            "dense_45 (Dense)             (None, 64)                8256      \n",
            "_________________________________________________________________\n",
            "dropout_9 (Dropout)          (None, 64)                0         \n",
            "_________________________________________________________________\n",
            "dense_46 (Dense)             (None, 32)                2080      \n",
            "_________________________________________________________________\n",
            "dense_47 (Dense)             (None, 16)                528       \n",
            "_________________________________________________________________\n",
            "dense_48 (Dense)             (None, 8)                 136       \n",
            "_________________________________________________________________\n",
            "dense_49 (Dense)             (None, 1)                 9         \n",
            "=================================================================\n",
            "Total params: 124,653,697\n",
            "Trainable params: 11,009\n",
            "Non-trainable params: 124,642,688\n",
            "_________________________________________________________________\n",
            "Epoch 1/10\n",
            "547/547 [==============================] - 6s 9ms/step - loss: 0.6124 - accuracy: 0.6835 - val_loss: 0.4533 - val_accuracy: 0.8026\n",
            "\n",
            "Epoch 00001: accuracy did not improve from 0.82469\n",
            "Epoch 2/10\n",
            "547/547 [==============================] - 5s 9ms/step - loss: 0.4757 - accuracy: 0.7909 - val_loss: 0.4278 - val_accuracy: 0.8139\n",
            "\n",
            "Epoch 00002: accuracy did not improve from 0.82469\n",
            "Epoch 3/10\n",
            "547/547 [==============================] - 5s 9ms/step - loss: 0.4524 - accuracy: 0.7987 - val_loss: 0.4180 - val_accuracy: 0.8184\n",
            "\n",
            "Epoch 00003: accuracy did not improve from 0.82469\n",
            "Epoch 4/10\n",
            "547/547 [==============================] - 5s 9ms/step - loss: 0.4393 - accuracy: 0.8037 - val_loss: 0.4110 - val_accuracy: 0.8192\n",
            "\n",
            "Epoch 00004: accuracy did not improve from 0.82469\n",
            "Epoch 5/10\n",
            "547/547 [==============================] - 5s 9ms/step - loss: 0.4324 - accuracy: 0.8112 - val_loss: 0.4060 - val_accuracy: 0.8232\n",
            "\n",
            "Epoch 00005: accuracy did not improve from 0.82469\n",
            "Epoch 6/10\n",
            "547/547 [==============================] - 5s 9ms/step - loss: 0.4232 - accuracy: 0.8157 - val_loss: 0.4027 - val_accuracy: 0.8246\n",
            "\n",
            "Epoch 00006: accuracy did not improve from 0.82469\n",
            "Epoch 7/10\n",
            "547/547 [==============================] - 5s 9ms/step - loss: 0.4175 - accuracy: 0.8167 - val_loss: 0.4004 - val_accuracy: 0.8255\n",
            "\n",
            "Epoch 00007: accuracy did not improve from 0.82469\n",
            "Epoch 8/10\n",
            "547/547 [==============================] - 5s 9ms/step - loss: 0.4129 - accuracy: 0.8228 - val_loss: 0.3976 - val_accuracy: 0.8286\n",
            "\n",
            "Epoch 00008: accuracy did not improve from 0.82469\n",
            "Epoch 9/10\n",
            "547/547 [==============================] - 5s 9ms/step - loss: 0.4060 - accuracy: 0.8239 - val_loss: 0.3969 - val_accuracy: 0.8283\n",
            "\n",
            "Epoch 00009: accuracy did not improve from 0.82469\n",
            "Epoch 10/10\n",
            "547/547 [==============================] - 5s 9ms/step - loss: 0.4124 - accuracy: 0.8194 - val_loss: 0.3937 - val_accuracy: 0.8303\n",
            "\n",
            "Epoch 00010: accuracy did not improve from 0.82469\n",
            "\n",
            " Total time taken for training (change in batch size): 208.40 seconds \n",
            "\n"
          ],
          "name": "stdout"
        },
        {
          "output_type": "display_data",
          "data": {
            "image/png": "[encoded data removed]",
            "text/plain": [
              "<Figure size 432x288 with 1 Axes>"
            ]
          },
          "metadata": {
            "tags": []
          }
        },
        {
          "output_type": "display_data",
          "data": {
            "image/png": "[encoded data removed]",
            "text/plain": [
              "<Figure size 432x288 with 1 Axes>"
            ]
          },
          "metadata": {
            "tags": []
          }
        },
        {
          "output_type": "display_data",
          "data": {
            "text/plain": [
              "<Figure size 432x288 with 0 Axes>"
            ]
          },
          "metadata": {
            "tags": []
          }
        }
      ]
    },
    {
      "cell_type": "code",
      "metadata": {
        "colab": {
          "base_uri": "https://localhost:8080/"
        },
        "id": "UOAiDjD8HtOS",
        "outputId": "ee5ab72f-d3b0-43f8-f6d9-49f92b9d7dc4"
      },
      "source": [
        "# evaluate model2\n",
        "train2_score = model2.evaluate(x_train, y_train)\n",
        "print('Train Score (change in batch size) [Loss, Accuracy]: ', train2_score, '\\n')\n",
        "test2_score = model2.evaluate(x_test, y_test)\n",
        "print('Validation Score (change in batch size) [Loss, Accuracy]: ', test2_score, '\\n')\n",
        "\n",
        "# final training accuracy and loss\n",
        "#print(history.history.keys())\n",
        "loss2 = history2.history['loss']\n",
        "accuracy2 = history2.history['accuracy']\n",
        "val2_loss = history2.history['val_loss']\n",
        "val2_accuracy = history2.history['val_accuracy']\n",
        "print('Final Training Accuracy (change in batch size): {:.2f}%'.format(accuracy2[num_epochs-1]*100))\n",
        "print('Final Training Loss (change in batch size): {:.2f}'.format(loss2[num_epochs-1]))\n",
        "print('Final Validation Accuracy (change in batch size): {:.2f}%'.format(val2_accuracy[num_epochs-1]*100))\n",
        "print('Final Validation Loss (change in batch size): {:.2f}'.format(val2_loss[num_epochs-1]))"
      ],
      "execution_count": 37,
      "outputs": [
        {
          "output_type": "stream",
          "text": [
            "1094/1094 [==============================] - 5s 4ms/step - loss: 0.3921 - accuracy: 0.8296\n",
            "Train Score (change in batch size) [Loss, Accuracy]:  [0.3920857012271881, 0.8295999765396118] \n",
            "\n",
            "469/469 [==============================] - 2s 4ms/step - loss: 0.3937 - accuracy: 0.8303\n",
            "Validation Score (change in batch size) [Loss, Accuracy]:  [0.3937240540981293, 0.8303333520889282] \n",
            "\n",
            "Final Training Accuracy (change in batch size): 82.27%\n",
            "Final Training Loss (change in batch size): 0.41\n",
            "Final Validation Accuracy (change in batch size): 83.03%\n",
            "Final Validation Loss (change in batch size): 0.39\n"
          ],
          "name": "stdout"
        }
      ]
    },
    {
      "cell_type": "code",
      "metadata": {
        "id": "Zpr-8nK8E5_w"
      },
      "source": [
        "# comparison between each model"
      ],
      "execution_count": null,
      "outputs": []
    }
  ]
}