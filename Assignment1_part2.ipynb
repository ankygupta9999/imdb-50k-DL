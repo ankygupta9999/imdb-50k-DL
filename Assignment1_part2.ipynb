{
  "nbformat": 4,
  "nbformat_minor": 0,
  "metadata": {
    "colab": {
      "name": "nlp.ipynb",
      "provenance": [],
      "collapsed_sections": []
    },
    "kernelspec": {
      "name": "python3",
      "display_name": "Python 3"
    },
    "language_info": {
      "name": "python"
    },
    "accelerator": "GPU"
  },
  "cells": [
    {
      "cell_type": "markdown",
      "metadata": {
        "id": "_uoKUkTFQDQY"
      },
      "source": [
        "## 1. Import Libraries/ Dataset\n",
        "\n",
        "a. Import the required libraries and the dataset (use Google Drive if required).\n",
        "\n",
        "b. Check the GPU available (recommended- use free GPU provided by Google Colab)."
      ]
    },
    {
      "cell_type": "code",
      "metadata": {
        "id": "NWnr89_JQRIE"
      },
      "source": [
        "#from google.colab import drive\n",
        "\n",
        "# mount google drive\n",
        "#drive.mount('./drive')"
      ],
      "execution_count": null,
      "outputs": []
    },
    {
      "cell_type": "code",
      "metadata": {
        "colab": {
          "base_uri": "https://localhost:8080/",
          "height": 357
        },
        "id": "ZZ995S19QnzG",
        "outputId": "7b437538-61db-47ed-bc96-bbb5e49331b0"
      },
      "source": [
        "import pandas as pd\n",
        "\n",
        "# set filepath\n",
        "filepath='./drive/MyDrive/Datasets/IMDB Dataset.csv'\n",
        "\n",
        "# load csv file in dataframe\n",
        "df = pd.read_csv(filepath)\n",
        "df.sentiment.value_counts()\n",
        "df.info()\n",
        "df.head()"
      ],
      "execution_count": null,
      "outputs": [
        {
          "output_type": "stream",
          "text": [
            "<class 'pandas.core.frame.DataFrame'>\n",
            "RangeIndex: 50000 entries, 0 to 49999\n",
            "Data columns (total 2 columns):\n",
            " #   Column     Non-Null Count  Dtype \n",
            "---  ------     --------------  ----- \n",
            " 0   review     50000 non-null  object\n",
            " 1   sentiment  50000 non-null  object\n",
            "dtypes: object(2)\n",
            "memory usage: 781.4+ KB\n"
          ],
          "name": "stdout"
        },
        {
          "output_type": "execute_result",
          "data": {
            "text/html": [
              "<div>\n",
              "<style scoped>\n",
              "    .dataframe tbody tr th:only-of-type {\n",
              "        vertical-align: middle;\n",
              "    }\n",
              "\n",
              "    .dataframe tbody tr th {\n",
              "        vertical-align: top;\n",
              "    }\n",
              "\n",
              "    .dataframe thead th {\n",
              "        text-align: right;\n",
              "    }\n",
              "</style>\n",
              "<table border=\"1\" class=\"dataframe\">\n",
              "  <thead>\n",
              "    <tr style=\"text-align: right;\">\n",
              "      <th></th>\n",
              "      <th>review</th>\n",
              "      <th>sentiment</th>\n",
              "    </tr>\n",
              "  </thead>\n",
              "  <tbody>\n",
              "    <tr>\n",
              "      <th>0</th>\n",
              "      <td>One of the other reviewers has mentioned that ...</td>\n",
              "      <td>positive</td>\n",
              "    </tr>\n",
              "    <tr>\n",
              "      <th>1</th>\n",
              "      <td>A wonderful little production. &lt;br /&gt;&lt;br /&gt;The...</td>\n",
              "      <td>positive</td>\n",
              "    </tr>\n",
              "    <tr>\n",
              "      <th>2</th>\n",
              "      <td>I thought this was a wonderful way to spend ti...</td>\n",
              "      <td>positive</td>\n",
              "    </tr>\n",
              "    <tr>\n",
              "      <th>3</th>\n",
              "      <td>Basically there's a family where a little boy ...</td>\n",
              "      <td>negative</td>\n",
              "    </tr>\n",
              "    <tr>\n",
              "      <th>4</th>\n",
              "      <td>Petter Mattei's \"Love in the Time of Money\" is...</td>\n",
              "      <td>positive</td>\n",
              "    </tr>\n",
              "  </tbody>\n",
              "</table>\n",
              "</div>"
            ],
            "text/plain": [
              "                                              review sentiment\n",
              "0  One of the other reviewers has mentioned that ...  positive\n",
              "1  A wonderful little production. <br /><br />The...  positive\n",
              "2  I thought this was a wonderful way to spend ti...  positive\n",
              "3  Basically there's a family where a little boy ...  negative\n",
              "4  Petter Mattei's \"Love in the Time of Money\" is...  positive"
            ]
          },
          "metadata": {
            "tags": []
          },
          "execution_count": 88
        }
      ]
    },
    {
      "cell_type": "markdown",
      "metadata": {
        "id": "9l_yGybvQsDM"
      },
      "source": [
        "## 2. Data Visualization\n",
        "  \n",
        "a. Print at least two movie reviews from each class of the dataset, for a sanity check that labels match the text.\n",
        "\n",
        "b. Plot a bar graph of class distribution in a dataset. Each bar depicts the number of tweets belonging to a particular sentiment. (recommended - matplotlib/seaborn libraries)\n",
        "\n",
        "c. Any other visualizations that seem appropriate for this problem are encouraged but not necessary, for the points.\n",
        "\n",
        "d. Print the shapes of train and test data."
      ]
    },
    {
      "cell_type": "code",
      "metadata": {
        "colab": {
          "base_uri": "https://localhost:8080/",
          "height": 540
        },
        "id": "eJSr0ykkQvpb",
        "outputId": "b03da527-111b-4141-a18a-fdc34661f556"
      },
      "source": [
        "import seaborn as sns\n",
        "\n",
        "# print at leat two movie reviews from each class of the dataset,\n",
        "# for a sanity check that labels match the text\n",
        "for cls in df['sentiment'].unique():\n",
        "  print('\\n', 'Printing sample (2) movie reivews for class: ', cls)\n",
        "  print(df[df['sentiment'] == cls]['review'].head(2), '\\n')\n",
        "\n",
        "# Plot a bar graph of class distribution in a dataset.\n",
        "# Each bar depicts the number of tweets belonging to a particular sentiment.\n",
        "sns.set_theme(style=\"whitegrid\")\n",
        "ax = sns.countplot(data=df, x=\"sentiment\")\n",
        "\n",
        "x_data = df['review']       # Reviews/Input\n",
        "y_data = df['sentiment']    # Sentiment/Output\n",
        "\n",
        "# print shape of train and test data\n",
        "print('Review shape: ', x_data.shape)\n",
        "print('Sentiment shape: ', y_data.shape, '\\n')"
      ],
      "execution_count": null,
      "outputs": [
        {
          "output_type": "stream",
          "text": [
            "\n",
            " Printing sample (2) movie reivews for class:  positive\n",
            "0    One of the other reviewers has mentioned that ...\n",
            "1    A wonderful little production. <br /><br />The...\n",
            "Name: review, dtype: object \n",
            "\n",
            "\n",
            " Printing sample (2) movie reivews for class:  negative\n",
            "3    Basically there's a family where a little boy ...\n",
            "7    This show was an amazing, fresh & innovative i...\n",
            "Name: review, dtype: object \n",
            "\n",
            "Review shape:  (50000,)\n",
            "Sentiment shape:  (50000,) \n",
            "\n"
          ],
          "name": "stdout"
        },
        {
          "output_type": "display_data",
          "data": {
            "image/png": "[encoded data removed]",
            "text/plain": [
              "<Figure size 432x288 with 1 Axes>"
            ]
          },
          "metadata": {
            "tags": []
          }
        }
      ]
    },
    {
      "cell_type": "markdown",
      "metadata": {
        "id": "oEnfyJhhQbuN"
      },
      "source": [
        "## 3. Data Pre-processing\n",
        "\n",
        "a. Need for this Step - Since the models we use cannot accept string inputs or cannot be of the string format. We have to come up with a way of handling this step. The discussion of different ways of handling this step is out of the scope of this assignment.\n",
        "\n",
        "b. Please use this pre-trained embedding layer from TensorFlow hub for this assignment. This link also has a code snippet on how to convert a sentence to a vector. Refer to that for further clarity on this subject.\n",
        "\n",
        "c. Bring the train and test data in the required format."
      ]
    },
    {
      "cell_type": "code",
      "metadata": {
        "id": "Mi1ifMDlXe2-"
      },
      "source": [
        "#import nltk\n",
        "#nltk.download('stopwords')\n",
        "#from nltk.corpus import stopwords\n",
        "\n",
        "# pre-process review\n",
        "#english_stops = set(stopwords.words('english')) # declare stop words\n",
        "#x_data = x_data.replace({'<.*?>': ''}, regex = True) # remove html tag\n",
        "df['review'] = df['review'].replace({'<.*?>': ''}, regex = True) # remove html tag\n",
        "#x_data = x_data.replace({'[^A-Za-z]': ' '}, regex = True) # remove non alphabet\n",
        "df['review'] = df['review'].replace({'[^A-Za-z]': ' '}, regex = True) # remove non alphabet\n",
        "#x_data = x_data.apply(lambda review: [w for w in review.split() if w not in english_stops]) # remove stop words\n",
        "#df['review'] = df['review'].apply(lambda review: [w for w in review.split() if w not in english_stops]) # remove stop words\n",
        "#x_data = x_data.apply(lambda review: [w.lower() for w in review]) # lower case\n",
        "#df['review'] = df['review'].apply(lambda review: [w.lower() for w in review]) # lower case\n",
        "\n",
        "# encode sentiment\n",
        "#y_data = y_data.replace('positive', 1)\n",
        "df['sentiment'] = df['sentiment'].replace('positive', 1)\n",
        "#y_data = y_data.replace('negative', 0)\n",
        "df['sentiment'] = df['sentiment'].replace('negative', 0)\n",
        "\n",
        "# print dataset\n",
        "#print('\\n', 'Reviews')\n",
        "#print(x_data)\n",
        "#print('\\n', 'Sentiment')\n",
        "#print(y_data)\n",
        "#df.head(2)"
      ],
      "execution_count": null,
      "outputs": []
    },
    {
      "cell_type": "code",
      "metadata": {
        "colab": {
          "base_uri": "https://localhost:8080/"
        },
        "id": "tkreWOUC2Crr",
        "outputId": "4c71f4ae-67e3-489f-bcd5-40e922c99ebf"
      },
      "source": [
        "#from sklearn.model_selection import train_test_split\n",
        "\n",
        "# split dataset\n",
        "#x_train, x_test, y_train, y_test = train_test_split(x_data, y_data, test_size = 0.3)\n",
        "x_train = df['review'][:35000]\n",
        "y_train = df['sentiment'][:35000]\n",
        "x_test = df['review'][35000:]\n",
        "y_test = df['sentiment'][35000:]\n",
        "\n",
        "# print training set\n",
        "print('Train Set')\n",
        "print(x_train, '\\n')\n",
        "print(y_train, '\\n')\n",
        "\n",
        "# print test set\n",
        "print('Test Set')\n",
        "print(x_test, '\\n')\n",
        "print(y_test)"
      ],
      "execution_count": null,
      "outputs": [
        {
          "output_type": "stream",
          "text": [
            "Train Set\n",
            "0        One of the other reviewers has mentioned that ...\n",
            "1        A wonderful little production  The filming tec...\n",
            "2        I thought this was a wonderful way to spend ti...\n",
            "3        Basically there s a family where a little boy ...\n",
            "4        Petter Mattei s  Love in the Time of Money  is...\n",
            "                               ...                        \n",
            "34995    Awful  Awful  Awful show   Real world  issues ...\n",
            "34996    I like action movies  I have a softspot for  B...\n",
            "34997    It begins on a nice note only to falter quickl...\n",
            "34998    Aardman does it again  Next to Pixar  Aardman ...\n",
            "34999    This movie made me laugh so much  It was a blo...\n",
            "Name: review, Length: 35000, dtype: object \n",
            "\n",
            "0        1\n",
            "1        1\n",
            "2        1\n",
            "3        0\n",
            "4        1\n",
            "        ..\n",
            "34995    0\n",
            "34996    0\n",
            "34997    0\n",
            "34998    1\n",
            "34999    0\n",
            "Name: sentiment, Length: 35000, dtype: int64 \n",
            "\n",
            "Test Set\n",
            "35000    Just don t bother  I thought I would see a mov...\n",
            "35001    Be careful with this one  Once you get yer mit...\n",
            "35002    Chili Palmer is tired of doing movies and know...\n",
            "35003    Following is a little known      British film ...\n",
            "35004    Dark Angel is a cross between Huxley s Brave N...\n",
            "                               ...                        \n",
            "49995    I thought this movie did a down right good job...\n",
            "49996    Bad plot  bad dialogue  bad acting  idiotic di...\n",
            "49997    I am a Catholic taught in parochial elementary...\n",
            "49998    I m going to have to disagree with the previou...\n",
            "49999    No one expects the Star Trek movies to be high...\n",
            "Name: review, Length: 15000, dtype: object \n",
            "\n",
            "35000    0\n",
            "35001    1\n",
            "35002    0\n",
            "35003    1\n",
            "35004    1\n",
            "        ..\n",
            "49995    1\n",
            "49996    0\n",
            "49997    0\n",
            "49998    0\n",
            "49999    0\n",
            "Name: sentiment, Length: 15000, dtype: int64\n"
          ],
          "name": "stdout"
        }
      ]
    },
    {
      "cell_type": "code",
      "metadata": {
        "colab": {
          "base_uri": "https://localhost:8080/",
          "height": 351
        },
        "id": "bu8trwDb0_MQ",
        "outputId": "30d8bded-36cd-4843-9183-67c99838b5dc"
      },
      "source": [
        "import os\n",
        "import numpy as np # linear algebra\n",
        "import random\n",
        "from tensorflow.keras.preprocessing.text import Tokenizer # to encode text to int\n",
        "from tensorflow.keras.preprocessing.sequence import pad_sequences # to do padding or truncating\n",
        "\n",
        "# set model parameters\n",
        "num_vocab_size = 10000\n",
        "num_embedding_dim = 16\n",
        "str_oov_tok = '<OOV>'\n",
        "str_trunk_type ='post'\n",
        "str_pad_type = 'post'\n",
        "\n",
        "# funtion for resetting random seeds\n",
        "def reset_random_seeds():\n",
        "   os.environ['PYTHONHASHSEED']=str(1)\n",
        "   tf.random.set_seed(1)\n",
        "   np.random.seed(1)\n",
        "   random.seed(1)\n",
        "\n",
        "#make some random data\n",
        "reset_random_seeds()\n",
        "\n",
        "# function for setting maximum review length\n",
        "def get_max_length():\n",
        "    review_length = []\n",
        "    for review in x_train:\n",
        "        review_length.append(len(review))\n",
        "    return int(np.ceil(np.mean(review_length)))\n",
        "\n",
        "# encode review, no need to lower because already lowered the data in load_data()\n",
        "token = Tokenizer(num_words=num_vocab_size, oov_token=str_oov_tok, lower=True)\n",
        "#token.fit_on_texts(x_data)\n",
        "token.fit_on_texts(df['review'])\n",
        "#x_train = token.texts_to_sequences(x_train)\n",
        "#x_test = token.texts_to_sequences(x_test)\n",
        "sequences = token.texts_to_sequences(df['review'])\n",
        "\n",
        "df['review_len'] = 0\n",
        "df['review_len'] = df['review'].map(lambda x: len(x))\n",
        "\n",
        "#word_index = token.word_index\n",
        "#total_words = len(word_index) + 1   # add 1 because of 0 padding\n",
        "\n",
        "#max_length = get_max_length()\n",
        "#x_train = pad_sequences(x_train, maxlen=max_length, padding=str_pad_type, truncating=str_trunk_type)\n",
        "#x_test = pad_sequences(x_test, maxlen=max_length, padding=str_pad_type, truncating=str_trunk_type)\n",
        "#print('Encoded Review Train\\n', x_train, '\\n')\n",
        "#print('Encoded Review Test\\n', x_test, '\\n')\n",
        "#print('Maximum review length: ', max_length)\n",
        "\n",
        "df.head(2)\n",
        "df.describe()"
      ],
      "execution_count": null,
      "outputs": [
        {
          "output_type": "stream",
          "text": [
            "WARNING:tensorflow:11 out of the last 11 calls to <function recreate_function.<locals>.restored_function_body at 0x7f41f1d980e0> triggered tf.function retracing. Tracing is expensive and the excessive number of tracings could be due to (1) creating @tf.function repeatedly in a loop, (2) passing tensors with different shapes, (3) passing Python objects instead of tensors. For (1), please define your @tf.function outside of the loop. For (2), @tf.function has experimental_relax_shapes=True option that relaxes argument shapes that can avoid unnecessary retracing. For (3), please refer to https://www.tensorflow.org/guide/function#controlling_retracing and https://www.tensorflow.org/api_docs/python/tf/function for  more details.\n"
          ],
          "name": "stdout"
        },
        {
          "output_type": "stream",
          "text": [
            "WARNING:tensorflow:11 out of the last 11 calls to <function recreate_function.<locals>.restored_function_body at 0x7f41f1d980e0> triggered tf.function retracing. Tracing is expensive and the excessive number of tracings could be due to (1) creating @tf.function repeatedly in a loop, (2) passing tensors with different shapes, (3) passing Python objects instead of tensors. For (1), please define your @tf.function outside of the loop. For (2), @tf.function has experimental_relax_shapes=True option that relaxes argument shapes that can avoid unnecessary retracing. For (3), please refer to https://www.tensorflow.org/guide/function#controlling_retracing and https://www.tensorflow.org/api_docs/python/tf/function for  more details.\n"
          ],
          "name": "stderr"
        },
        {
          "output_type": "execute_result",
          "data": {
            "text/html": [
              "<div>\n",
              "<style scoped>\n",
              "    .dataframe tbody tr th:only-of-type {\n",
              "        vertical-align: middle;\n",
              "    }\n",
              "\n",
              "    .dataframe tbody tr th {\n",
              "        vertical-align: top;\n",
              "    }\n",
              "\n",
              "    .dataframe thead th {\n",
              "        text-align: right;\n",
              "    }\n",
              "</style>\n",
              "<table border=\"1\" class=\"dataframe\">\n",
              "  <thead>\n",
              "    <tr style=\"text-align: right;\">\n",
              "      <th></th>\n",
              "      <th>sentiment</th>\n",
              "      <th>review_len</th>\n",
              "    </tr>\n",
              "  </thead>\n",
              "  <tbody>\n",
              "    <tr>\n",
              "      <th>count</th>\n",
              "      <td>50000.000000</td>\n",
              "      <td>50000.000000</td>\n",
              "    </tr>\n",
              "    <tr>\n",
              "      <th>mean</th>\n",
              "      <td>0.500000</td>\n",
              "      <td>1285.174760</td>\n",
              "    </tr>\n",
              "    <tr>\n",
              "      <th>std</th>\n",
              "      <td>0.500005</td>\n",
              "      <td>971.140524</td>\n",
              "    </tr>\n",
              "    <tr>\n",
              "      <th>min</th>\n",
              "      <td>0.000000</td>\n",
              "      <td>32.000000</td>\n",
              "    </tr>\n",
              "    <tr>\n",
              "      <th>25%</th>\n",
              "      <td>0.000000</td>\n",
              "      <td>689.000000</td>\n",
              "    </tr>\n",
              "    <tr>\n",
              "      <th>50%</th>\n",
              "      <td>0.500000</td>\n",
              "      <td>953.000000</td>\n",
              "    </tr>\n",
              "    <tr>\n",
              "      <th>75%</th>\n",
              "      <td>1.000000</td>\n",
              "      <td>1559.000000</td>\n",
              "    </tr>\n",
              "    <tr>\n",
              "      <th>max</th>\n",
              "      <td>1.000000</td>\n",
              "      <td>13584.000000</td>\n",
              "    </tr>\n",
              "  </tbody>\n",
              "</table>\n",
              "</div>"
            ],
            "text/plain": [
              "          sentiment    review_len\n",
              "count  50000.000000  50000.000000\n",
              "mean       0.500000   1285.174760\n",
              "std        0.500005    971.140524\n",
              "min        0.000000     32.000000\n",
              "25%        0.000000    689.000000\n",
              "50%        0.500000    953.000000\n",
              "75%        1.000000   1559.000000\n",
              "max        1.000000  13584.000000"
            ]
          },
          "metadata": {
            "tags": []
          },
          "execution_count": 92
        }
      ]
    },
    {
      "cell_type": "markdown",
      "metadata": {
        "id": "4LljVMG8P3tg"
      },
      "source": [
        "## 4. Model Building\n",
        "a. Sequential Model layers - Use AT LEAST 3 hidden layers with appropriate input for each. Choose the best number for hidden units and give reasons.\n",
        "\n",
        "b. Add L2 regularization to all the layers.\n",
        "\n",
        "c. Add one layer of dropout at the appropriate position and give reasons.\n",
        "\n",
        "d. Choose the appropriate activation function for all the layers.\n",
        "\n",
        "e. Print the model summary.\n",
        "\n",
        "**To be done:**\n",
        "\n",
        "Add one layer of dropout at the appropriate position and give reasons.\n",
        "\n",
        "Choose the best number for hidden units and give reasons."
      ]
    },
    {
      "cell_type": "code",
      "metadata": {
        "colab": {
          "base_uri": "https://localhost:8080/"
        },
        "id": "9NC-WgkGwNFD",
        "outputId": "93a47879-d892-40c9-ffb1-4832b788991b"
      },
      "source": [
        "import tensorflow as tf\n",
        "import tensorflow_hub as hub\n",
        "from tensorflow import keras\n",
        "from tensorflow.keras.layers import Embedding\n",
        "from tensorflow.keras.layers import Reshape\n",
        "\n",
        "# set model parameters\n",
        "num_batch_size = 128\n",
        "num_epochs=10\n",
        "#num_steps_per_epoch=274 # total training inputs/ batch size = 35000/128\n",
        "#num_val_steps=118 # total validation inputs/ batch size = 15000/128\n",
        "num_dropout=0.2\n",
        "num_l2_reg_penalty=0.0001\n",
        "num_lr=1e-4\n",
        "opt = keras.optimizers.Adam(learning_rate=num_lr)\n",
        "str_loss = 'binary_crossentropy'\n",
        "\n",
        "print('X_train shape: ', x_train.shape)\n",
        "print('Y_train shape: ', y_train.shape)\n",
        "\n",
        "# import pre-trained embedding layer\n",
        "#embed = hub.load(\"https://tfhub.dev/google/nnlm-en-dim128/2\")\n",
        "hub_layer = hub.KerasLayer(\"https://tfhub.dev/google/nnlm-en-dim128/2\",\n",
        "                           input_shape=[], dtype=tf.string)\n",
        "\n",
        "# build model\n",
        "model = keras.Sequential()\n",
        "#model.add(Embedding(vocab_size, embedding_dim, input_length=max_length))\n",
        "#model.add(Reshape((35000, max_length)))\n",
        "model.add(hub_layer)\n",
        "# add dropout\n",
        "#model.add(Dropout(num_dropout))\n",
        "model.add(keras.layers.Dense(16, activation='relu', kernel_regularizer=tf.keras.regularizers.l2(num_l2_reg_penalty)))\n",
        "#model.add(keras.layers.Dense(8, activation='relu', kernel_regularizer=tf.keras.regularizers.l2(num_l2_reg_penalty)))\n",
        "model.add(keras.layers.Dense(1, activation='sigmoid', kernel_regularizer=tf.keras.regularizers.l2(num_l2_reg_penalty)))\n",
        "\n",
        "# print model summary\n",
        "model.summary()"
      ],
      "execution_count": null,
      "outputs": [
        {
          "output_type": "stream",
          "text": [
            "X_train shape:  (35000,)\n",
            "Y_train shape:  (35000,)\n",
            "WARNING:tensorflow:11 out of the last 11 calls to <function recreate_function.<locals>.restored_function_body at 0x7f41f64845f0> triggered tf.function retracing. Tracing is expensive and the excessive number of tracings could be due to (1) creating @tf.function repeatedly in a loop, (2) passing tensors with different shapes, (3) passing Python objects instead of tensors. For (1), please define your @tf.function outside of the loop. For (2), @tf.function has experimental_relax_shapes=True option that relaxes argument shapes that can avoid unnecessary retracing. For (3), please refer to https://www.tensorflow.org/guide/function#controlling_retracing and https://www.tensorflow.org/api_docs/python/tf/function for  more details.\n"
          ],
          "name": "stdout"
        },
        {
          "output_type": "stream",
          "text": [
            "WARNING:tensorflow:11 out of the last 11 calls to <function recreate_function.<locals>.restored_function_body at 0x7f41f64845f0> triggered tf.function retracing. Tracing is expensive and the excessive number of tracings could be due to (1) creating @tf.function repeatedly in a loop, (2) passing tensors with different shapes, (3) passing Python objects instead of tensors. For (1), please define your @tf.function outside of the loop. For (2), @tf.function has experimental_relax_shapes=True option that relaxes argument shapes that can avoid unnecessary retracing. For (3), please refer to https://www.tensorflow.org/guide/function#controlling_retracing and https://www.tensorflow.org/api_docs/python/tf/function for  more details.\n"
          ],
          "name": "stderr"
        },
        {
          "output_type": "stream",
          "text": [
            "WARNING:tensorflow:11 out of the last 11 calls to <function recreate_function.<locals>.restored_function_body at 0x7f41f6484cb0> triggered tf.function retracing. Tracing is expensive and the excessive number of tracings could be due to (1) creating @tf.function repeatedly in a loop, (2) passing tensors with different shapes, (3) passing Python objects instead of tensors. For (1), please define your @tf.function outside of the loop. For (2), @tf.function has experimental_relax_shapes=True option that relaxes argument shapes that can avoid unnecessary retracing. For (3), please refer to https://www.tensorflow.org/guide/function#controlling_retracing and https://www.tensorflow.org/api_docs/python/tf/function for  more details.\n"
          ],
          "name": "stdout"
        },
        {
          "output_type": "stream",
          "text": [
            "WARNING:tensorflow:11 out of the last 11 calls to <function recreate_function.<locals>.restored_function_body at 0x7f41f6484cb0> triggered tf.function retracing. Tracing is expensive and the excessive number of tracings could be due to (1) creating @tf.function repeatedly in a loop, (2) passing tensors with different shapes, (3) passing Python objects instead of tensors. For (1), please define your @tf.function outside of the loop. For (2), @tf.function has experimental_relax_shapes=True option that relaxes argument shapes that can avoid unnecessary retracing. For (3), please refer to https://www.tensorflow.org/guide/function#controlling_retracing and https://www.tensorflow.org/api_docs/python/tf/function for  more details.\n"
          ],
          "name": "stderr"
        },
        {
          "output_type": "stream",
          "text": [
            "Model: \"sequential_9\"\n",
            "_________________________________________________________________\n",
            "Layer (type)                 Output Shape              Param #   \n",
            "=================================================================\n",
            "keras_layer_9 (KerasLayer)   (None, 128)               124642688 \n",
            "_________________________________________________________________\n",
            "dense_16 (Dense)             (None, 16)                2064      \n",
            "_________________________________________________________________\n",
            "dense_17 (Dense)             (None, 1)                 17        \n",
            "=================================================================\n",
            "Total params: 124,644,769\n",
            "Trainable params: 2,081\n",
            "Non-trainable params: 124,642,688\n",
            "_________________________________________________________________\n"
          ],
          "name": "stdout"
        }
      ]
    },
    {
      "cell_type": "markdown",
      "metadata": {
        "id": "yjRbsq4JPhCt"
      },
      "source": [
        "## 5. Model Compilation\n",
        "a. Compile the model with the appropriate loss function.\n",
        "\n",
        "b. Use an appropriate optimizer. Give reasons for the choice of learning rate and its value.\n",
        "\n",
        "c. Use accuracy as a metric.\n",
        "\n",
        "**To be done:**\n",
        "\n",
        "Give reasons for the choice of learning rate and its value."
      ]
    },
    {
      "cell_type": "code",
      "metadata": {
        "id": "DFviXSss3ddy"
      },
      "source": [
        "# compile model\n",
        "model.compile(optimizer = opt, loss = str_loss, metrics = ['accuracy'])"
      ],
      "execution_count": null,
      "outputs": []
    },
    {
      "cell_type": "markdown",
      "metadata": {
        "id": "uxyWUmutPuVf"
      },
      "source": [
        "## 6. Model Training\n",
        "a. Train the model for an appropriate number of epochs. Print the train and validation accuracy and loss for each epoch. Use the appropriate batch size.\n",
        "\n",
        "b. Plot the loss and accuracy history graphs for both train and validation set. Print the total time taken for training."
      ]
    },
    {
      "cell_type": "code",
      "metadata": {
        "id": "_JKAiKII3kW_",
        "colab": {
          "base_uri": "https://localhost:8080/"
        },
        "outputId": "c1e7fb89-e0bf-45f2-908e-f22f26970e0f"
      },
      "source": [
        "from tensorflow.keras.callbacks import ModelCheckpoint   # save model\n",
        "\n",
        "# checkpoint callback\n",
        "checkpoint = ModelCheckpoint(\n",
        "    'models/LSTM.h5',\n",
        "    monitor='accuracy',\n",
        "    save_best_only=True,\n",
        "    verbose=1\n",
        ")\n",
        "\n",
        "# early stopping allback\n",
        "stopping = tf.keras.callbacks.EarlyStopping(\n",
        "    monitor='val_loss', min_delta=0, patience=3, verbose=0,\n",
        "    mode='auto', baseline=None, restore_best_weights=True\n",
        ")\n",
        "\n",
        "# timing callback class\n",
        "class TimingCallback(keras.callbacks.Callback):\n",
        "    def __init__(self, logs={}):\n",
        "        self.logs=[]\n",
        "    def on_epoch_begin(self, epoch, logs={}):\n",
        "        self.starttime = timer()\n",
        "    def on_epoch_end(self, epoch, logs={}):\n",
        "        self.logs.append(timer()-self.starttime)\n",
        "\n",
        "# timing callback\n",
        "timing = TimingCallback()\n",
        "\n",
        "# train model\n",
        "#history = model.fit(x_train, y_train, batch_size = 128, epochs = 5, callbacks=[checkpoint])\n",
        "history = model.fit(x_train, y_train, batch_size = num_batch_size, epochs = num_epochs, validation_data=(x_test, y_test), callbacks=[stopping, checkpoint, timing])\n",
        "\n",
        "# total training time\n",
        "print('\\n', 'Total time taken for training: {:.2f}'.format(sum(timing.logs)), 'seconds', '\\n')"
      ],
      "execution_count": null,
      "outputs": [
        {
          "output_type": "stream",
          "text": [
            "Epoch 1/10\n",
            "274/274 [==============================] - 4s 13ms/step - loss: 0.6924 - accuracy: 0.5376 - val_loss: 0.6682 - val_accuracy: 0.6647\n",
            "\n",
            "Epoch 00001: accuracy improved from -inf to 0.58174, saving model to models/LSTM.h5\n",
            "Epoch 2/10\n",
            "274/274 [==============================] - 3s 13ms/step - loss: 0.6580 - accuracy: 0.6866 - val_loss: 0.6269 - val_accuracy: 0.7224\n",
            "\n",
            "Epoch 00002: accuracy improved from 0.58174 to 0.70234, saving model to models/LSTM.h5\n",
            "Epoch 3/10\n",
            "274/274 [==============================] - 3s 13ms/step - loss: 0.6168 - accuracy: 0.7262 - val_loss: 0.5829 - val_accuracy: 0.7486\n",
            "\n",
            "Epoch 00003: accuracy improved from 0.70234 to 0.73471, saving model to models/LSTM.h5\n",
            "Epoch 4/10\n",
            "274/274 [==============================] - 3s 13ms/step - loss: 0.5736 - accuracy: 0.7514 - val_loss: 0.5461 - val_accuracy: 0.7679\n",
            "\n",
            "Epoch 00004: accuracy improved from 0.73471 to 0.75709, saving model to models/LSTM.h5\n",
            "Epoch 5/10\n",
            "274/274 [==============================] - 4s 13ms/step - loss: 0.5393 - accuracy: 0.7703 - val_loss: 0.5181 - val_accuracy: 0.7783\n",
            "\n",
            "Epoch 00005: accuracy improved from 0.75709 to 0.77237, saving model to models/LSTM.h5\n",
            "Epoch 6/10\n",
            "274/274 [==============================] - 4s 13ms/step - loss: 0.5110 - accuracy: 0.7808 - val_loss: 0.4967 - val_accuracy: 0.7857\n",
            "\n",
            "Epoch 00006: accuracy improved from 0.77237 to 0.78117, saving model to models/LSTM.h5\n",
            "Epoch 7/10\n",
            "274/274 [==============================] - 4s 13ms/step - loss: 0.4918 - accuracy: 0.7902 - val_loss: 0.4803 - val_accuracy: 0.7923\n",
            "\n",
            "Epoch 00007: accuracy improved from 0.78117 to 0.79029, saving model to models/LSTM.h5\n",
            "Epoch 8/10\n",
            "274/274 [==============================] - 4s 13ms/step - loss: 0.4762 - accuracy: 0.7969 - val_loss: 0.4670 - val_accuracy: 0.7969\n",
            "\n",
            "Epoch 00008: accuracy improved from 0.79029 to 0.79626, saving model to models/LSTM.h5\n",
            "Epoch 9/10\n",
            "274/274 [==============================] - 3s 13ms/step - loss: 0.4627 - accuracy: 0.8003 - val_loss: 0.4568 - val_accuracy: 0.8001\n",
            "\n",
            "Epoch 00009: accuracy improved from 0.79626 to 0.79929, saving model to models/LSTM.h5\n",
            "Epoch 10/10\n",
            "274/274 [==============================] - 4s 13ms/step - loss: 0.4583 - accuracy: 0.8013 - val_loss: 0.4482 - val_accuracy: 0.8044\n",
            "\n",
            "Epoch 00010: accuracy improved from 0.79929 to 0.80309, saving model to models/LSTM.h5\n",
            "\n",
            " Total time taken for training: 100.24 seconds \n",
            "\n"
          ],
          "name": "stdout"
        }
      ]
    },
    {
      "cell_type": "code",
      "metadata": {
        "id": "MEEEgXRXSegZ",
        "colab": {
          "base_uri": "https://localhost:8080/",
          "height": 602
        },
        "outputId": "04a4cf78-7339-423b-9295-286168a3cc67"
      },
      "source": [
        "import matplotlib.pyplot as plt\n",
        "\n",
        "acc = history.history['accuracy']\n",
        "val_acc = history.history['val_accuracy']\n",
        "loss = history.history['loss']\n",
        "val_loss = history.history['val_loss']\n",
        "\n",
        "epochs = range(len(acc))\n",
        "\n",
        "# Accuracy history graph for training and validation\n",
        "plt.plot(epochs, acc, 'r', label='Training accuracy')\n",
        "plt.plot(epochs, val_acc, 'b', label='Validation accuracy')\n",
        "plt.title('Training and validation accuracy')\n",
        "plt.xlabel(\"Epochs\")\n",
        "plt.ylabel(\"Accuracy\")\n",
        "plt.legend(loc=0)\n",
        "plt.figure()\n",
        "\n",
        "# Loss history graph for training and validation\n",
        "plt.plot(epochs, loss, 'r', label='Training Loss')\n",
        "plt.plot(epochs, val_loss, 'b', label='Validation Loss')\n",
        "plt.title('Training and validation loss')\n",
        "plt.xlabel(\"Epochs\")\n",
        "plt.ylabel(\"Loss\")\n",
        "plt.legend(loc=0)\n",
        "plt.figure()\n",
        "\n",
        "# show plot\n",
        "plt.show()"
      ],
      "execution_count": null,
      "outputs": [
        {
          "output_type": "display_data",
          "data": {
            "image/png": "[encoded data removed]",
            "text/plain": [
              "<Figure size 432x288 with 1 Axes>"
            ]
          },
          "metadata": {
            "tags": []
          }
        },
        {
          "output_type": "display_data",
          "data": {
            "image/png": "[encoded data removed]",
            "text/plain": [
              "<Figure size 432x288 with 1 Axes>"
            ]
          },
          "metadata": {
            "tags": []
          }
        },
        {
          "output_type": "display_data",
          "data": {
            "text/plain": [
              "<Figure size 432x288 with 0 Axes>"
            ]
          },
          "metadata": {
            "tags": []
          }
        }
      ]
    },
    {
      "cell_type": "markdown",
      "metadata": {
        "id": "VE071bF7SFI_"
      },
      "source": [
        "## 7. Model Evaluation\n",
        "a. Print the final train and validation loss and accuracy. Print confusion matrix and classification report for the validation dataset. Analyse and report the best and worst performing class.\n",
        "\n",
        "b. Print the two most incorrectly classified texts for each class in the test dataset.\n",
        "\n",
        "**To be done:**\n",
        "\n",
        "Print confusion matrix and classification report for the validation dataset. Analyse and report the best and worst performing class.\n",
        "\n",
        "Print the two most incorrectly classified texts for each class in the test dataset."
      ]
    },
    {
      "cell_type": "code",
      "metadata": {
        "id": "hXgJf5btSJDG",
        "colab": {
          "base_uri": "https://localhost:8080/"
        },
        "outputId": "8d3d6b41-91f9-4dca-dc8d-b7ac91968d12"
      },
      "source": [
        "# final training accuracy and loss\n",
        "#print(history.history.keys())\n",
        "loss = history.history['loss']\n",
        "accuracy = history.history['accuracy']\n",
        "val_loss = history.history['val_loss']\n",
        "val_accuracy = history.history['val_accuracy']\n",
        "print('Final Training Accuracy: {:.2f}'.format(accuracy[num_epochs-1]))\n",
        "print('Final Training Loss: {:.2f}'.format(loss[num_epochs-1]))\n",
        "print('Final Validation Accuracy: {:.2f}'.format(val_accuracy[num_epochs-1]))\n",
        "print('Final Validation Loss: {:.2f}'.format(val_loss[num_epochs-1]))"
      ],
      "execution_count": null,
      "outputs": [
        {
          "output_type": "stream",
          "text": [
            "Final Training Accuracy: 0.80\n",
            "Final Training Loss: 0.46\n",
            "Final Validation Accuracy: 0.80\n",
            "Final Validation Loss: 0.45\n"
          ],
          "name": "stdout"
        }
      ]
    },
    {
      "cell_type": "code",
      "metadata": {
        "id": "vWAxBr1mhALM"
      },
      "source": [
        "# confusion matrix\n",
        "\n",
        "\n",
        "# classification report\n"
      ],
      "execution_count": null,
      "outputs": []
    },
    {
      "cell_type": "code",
      "metadata": {
        "colab": {
          "base_uri": "https://localhost:8080/"
        },
        "id": "DIHilI90hPOo",
        "outputId": "68c59bdc-eb43-45de-d967-1595fcbe1e66"
      },
      "source": [
        "# two most incorrectly classified texts for each class in the test dataset\n",
        "score = model.evaluate(x_test, y_test)"
      ],
      "execution_count": null,
      "outputs": [
        {
          "output_type": "stream",
          "text": [
            "469/469 [==============================] - 2s 4ms/step - loss: 0.4482 - accuracy: 0.8044\n"
          ],
          "name": "stdout"
        }
      ]
    }
  ]
}